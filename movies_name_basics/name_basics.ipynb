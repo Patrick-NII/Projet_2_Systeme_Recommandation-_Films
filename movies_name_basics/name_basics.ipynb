{
 "cells": [
  {
   "cell_type": "markdown",
   "metadata": {},
   "source": [
    "## **Phase 1:** Nettoyage\n",
    "\n",
    "**Gestion des valeurs manquantes :**\n",
    "Identifier les valeurs manquantes dans les colonnes clés.\n",
    "Déterminer si les valeurs manquantes peuvent être remplacées par des valeurs par défaut, interpolées à partir d'autres données ou si elles doivent être supprimées.\n",
    "\n",
    "**Nettoyage des doublons :**\n",
    "Identifier et supprimer les entrées en double, conserver l'entrée la plus pertinente ou la plus récente en fonction des critères de sélection.\n",
    "\n",
    "**Validation des données :**\n",
    "Vérifier la cohérence des données.\n",
    "Examiner les champs tels que les durées des films, les budgets, les notes des utilisateurs, etc., pour détecter les valeurs aberrantes ou incohérentes.\n",
    "\n",
    "**Normalisation des données :**\n",
    "Harmoniser les valeurs des champs tels que les noms des genres, les noms des réalisateurs, etc., pour éviter les variations et les erreurs orthographiques.\n",
    "\n",
    "**Gestion des formats de données :**\n",
    "Convertir les données dans des formats appropriés, par exemple en convertissant les dates en objets de date/heure, en normalisant les noms de fichiers d'images, etc.\n",
    "\n",
    "**Traitement des données textuelles :**\n",
    "Prétraiter les données textuelles comme les descriptions de films, les critiques, etc., en supprimant la ponctuation, en normalisant la casse, en supprimant les mots vides, etc., pour faciliter l'analyse de texte.\n",
    "\n",
    "**Gestion des données non structurées :**\n",
    "Utiliser des techniques d'apprentissage automatique pour extraire des informations pertinentes et les intégrer dans votre analyse.\n",
    "\n",
    "**Sécurité des données :**\n",
    "Respecter les réglementations en matière de confidentialité des données, notamment en anonymisant les données personnelles des utilisateurs si nécessaire."
   ]
  },
  {
   "cell_type": "code",
   "execution_count": 37,
   "metadata": {},
   "outputs": [],
   "source": [
    "import pandas as pd\n",
    "import numpy as np\n",
    "import matplotlib.pyplot as plt\n",
    "import seaborn as sns"
   ]
  },
  {
   "cell_type": "code",
   "execution_count": 38,
   "metadata": {},
   "outputs": [],
   "source": [
    "# Chargement du DataFrame\n",
    "name_basics_path = 'D:\\\\Projo\\\\Projet-Data-IA\\\\movies_name_basics\\\\movies_name_basics.csv'\n",
    "df_nameBasics = pd.read_csv(name_basics_path, sep=',', na_values='\\\\N')"
   ]
  },
  {
   "cell_type": "code",
   "execution_count": 39,
   "metadata": {},
   "outputs": [
    {
     "data": {
      "text/plain": [
       "(9211668, 6)"
      ]
     },
     "execution_count": 39,
     "metadata": {},
     "output_type": "execute_result"
    }
   ],
   "source": [
    "#forme du dataframe\n",
    "df_nameBasics.shape"
   ]
  },
  {
   "cell_type": "code",
   "execution_count": 40,
   "metadata": {},
   "outputs": [
    {
     "name": "stdout",
     "output_type": "stream",
     "text": [
      "<class 'pandas.core.frame.DataFrame'>\n",
      "RangeIndex: 9211668 entries, 0 to 9211667\n",
      "Data columns (total 6 columns):\n",
      " #   Column             Dtype  \n",
      "---  ------             -----  \n",
      " 0   nconst             object \n",
      " 1   primaryName        object \n",
      " 2   birthYear          float64\n",
      " 3   deathYear          float64\n",
      " 4   primaryProfession  object \n",
      " 5   knownForTitles     object \n",
      "dtypes: float64(2), object(4)\n",
      "memory usage: 421.7+ MB\n"
     ]
    }
   ],
   "source": [
    "df_nameBasics.info()"
   ]
  },
  {
   "cell_type": "code",
   "execution_count": 41,
   "metadata": {},
   "outputs": [
    {
     "data": {
      "text/plain": [
       "nconst                0.000000\n",
       "primaryName           0.000000\n",
       "birthYear            88.475399\n",
       "deathYear            95.222440\n",
       "primaryProfession     3.279916\n",
       "knownForTitles        0.000000\n",
       "dtype: float64"
      ]
     },
     "execution_count": 41,
     "metadata": {},
     "output_type": "execute_result"
    }
   ],
   "source": [
    "# Proportion (%) des valeurs nulles\n",
    "df_nameBasics.isna().sum() / len(df_nameBasics) * 100"
   ]
  },
  {
   "cell_type": "code",
   "execution_count": 42,
   "metadata": {},
   "outputs": [
    {
     "data": {
      "text/plain": [
       "nconst                object\n",
       "primaryName           object\n",
       "birthYear            float64\n",
       "deathYear            float64\n",
       "primaryProfession     object\n",
       "knownForTitles        object\n",
       "dtype: object"
      ]
     },
     "execution_count": 42,
     "metadata": {},
     "output_type": "execute_result"
    }
   ],
   "source": [
    "df_nameBasics.dtypes"
   ]
  },
  {
   "cell_type": "code",
   "execution_count": 43,
   "metadata": {},
   "outputs": [],
   "source": [
    "# # Supprimer les deux premiers caractères de chaque valeur dans la colonne nconst\n",
    "# df_nameBasics['nconst'] = df_nameBasics['nconst'].str[2:]\n",
    "\n",
    "# # Convertir la colonne nconst en int16\n",
    "# df_nameBasics['nconst'] = df_nameBasics['nconst'].astype('int16')"
   ]
  },
  {
   "cell_type": "code",
   "execution_count": 44,
   "metadata": {},
   "outputs": [],
   "source": [
    "# # Supprimer les deux premiers caractères de chaque valeur dans la colonne knownForTitles\n",
    "# df_nameBasics['knownForTitles'] = df_nameBasics['knownForTitles'].str[2:]\n",
    "\n",
    "# # Convertir la colonne knownForTitles en int32\n",
    "# df_nameBasics['knownForTitles'] = df_nameBasics['knownForTitles'].astype('int64')\n"
   ]
  },
  {
   "cell_type": "code",
   "execution_count": 45,
   "metadata": {},
   "outputs": [],
   "source": [
    "# Suppression des colonnes birthYear et deathYear\n",
    "df_nameBasics.drop(columns=['birthYear', 'deathYear'], inplace=True)"
   ]
  },
  {
   "cell_type": "code",
   "execution_count": 46,
   "metadata": {},
   "outputs": [],
   "source": [
    "# Suppression des lignes avec des valeurs nulles dans les colonnes primaryProfession et knownForTitles\n",
    "df_nameBasics.dropna(subset=['primaryProfession', 'knownForTitles'], inplace=True)"
   ]
  },
  {
   "cell_type": "code",
   "execution_count": 47,
   "metadata": {},
   "outputs": [],
   "source": [
    "# Convertir les valeurs non-chaînes en une liste vide\n",
    "df_nameBasics['primaryProfession'] = df_nameBasics['primaryProfession'].apply(lambda x: [] if isinstance(x, float) else x)\n",
    "\n",
    "# Diviser la chaîne en une liste et retirer les virgules\n",
    "df_nameBasics['primaryProfession'] = df_nameBasics['primaryProfession'].apply(lambda x: [profession.strip() for profession in x.split(',')] if isinstance(x, str) else [])\n"
   ]
  },
  {
   "cell_type": "code",
   "execution_count": 48,
   "metadata": {},
   "outputs": [],
   "source": [
    "# Convertir les valeurs non-chaînes en une liste vide\n",
    "df_nameBasics['knownForTitles'] = df_nameBasics['knownForTitles'].apply(lambda x: [] if isinstance(x, float) else x)\n",
    "\n",
    "# Diviser la chaîne en une liste et retirer les virgules\n",
    "df_nameBasics['knownForTitles'] = df_nameBasics['knownForTitles'].apply(lambda x: [title.strip() for title in x.split(',')] if isinstance(x, str) else [])\n"
   ]
  },
  {
   "cell_type": "code",
   "execution_count": 49,
   "metadata": {},
   "outputs": [
    {
     "data": {
      "text/plain": [
       "nconst               0.0\n",
       "primaryName          0.0\n",
       "primaryProfession    0.0\n",
       "knownForTitles       0.0\n",
       "dtype: float64"
      ]
     },
     "execution_count": 49,
     "metadata": {},
     "output_type": "execute_result"
    }
   ],
   "source": [
    "# Proportion (%) des valeurs nulles\n",
    "df_nameBasics.isna().sum() / len(df_nameBasics) * 100"
   ]
  },
  {
   "cell_type": "code",
   "execution_count": 50,
   "metadata": {},
   "outputs": [
    {
     "data": {
      "text/html": [
       "<div>\n",
       "<style scoped>\n",
       "    .dataframe tbody tr th:only-of-type {\n",
       "        vertical-align: middle;\n",
       "    }\n",
       "\n",
       "    .dataframe tbody tr th {\n",
       "        vertical-align: top;\n",
       "    }\n",
       "\n",
       "    .dataframe thead th {\n",
       "        text-align: right;\n",
       "    }\n",
       "</style>\n",
       "<table border=\"1\" class=\"dataframe\">\n",
       "  <thead>\n",
       "    <tr style=\"text-align: right;\">\n",
       "      <th></th>\n",
       "      <th>nconst</th>\n",
       "      <th>primaryName</th>\n",
       "      <th>primaryProfession</th>\n",
       "      <th>knownForTitles</th>\n",
       "    </tr>\n",
       "  </thead>\n",
       "  <tbody>\n",
       "    <tr>\n",
       "      <th>0</th>\n",
       "      <td>nm0000001</td>\n",
       "      <td>Fred Astaire</td>\n",
       "      <td>[actor, miscellaneous, producer]</td>\n",
       "      <td>[tt0072308]</td>\n",
       "    </tr>\n",
       "    <tr>\n",
       "      <th>1</th>\n",
       "      <td>nm0000001</td>\n",
       "      <td>Fred Astaire</td>\n",
       "      <td>[actor, miscellaneous, producer]</td>\n",
       "      <td>[tt0050419]</td>\n",
       "    </tr>\n",
       "    <tr>\n",
       "      <th>2</th>\n",
       "      <td>nm0000001</td>\n",
       "      <td>Fred Astaire</td>\n",
       "      <td>[actor, miscellaneous, producer]</td>\n",
       "      <td>[tt0053137]</td>\n",
       "    </tr>\n",
       "    <tr>\n",
       "      <th>3</th>\n",
       "      <td>nm0000001</td>\n",
       "      <td>Fred Astaire</td>\n",
       "      <td>[actor, miscellaneous, producer]</td>\n",
       "      <td>[tt0027125]</td>\n",
       "    </tr>\n",
       "    <tr>\n",
       "      <th>4</th>\n",
       "      <td>nm0000002</td>\n",
       "      <td>Lauren Bacall</td>\n",
       "      <td>[actress, soundtrack, archive_footage]</td>\n",
       "      <td>[tt0037382]</td>\n",
       "    </tr>\n",
       "    <tr>\n",
       "      <th>5</th>\n",
       "      <td>nm0000002</td>\n",
       "      <td>Lauren Bacall</td>\n",
       "      <td>[actress, soundtrack, archive_footage]</td>\n",
       "      <td>[tt0075213]</td>\n",
       "    </tr>\n",
       "    <tr>\n",
       "      <th>6</th>\n",
       "      <td>nm0000002</td>\n",
       "      <td>Lauren Bacall</td>\n",
       "      <td>[actress, soundtrack, archive_footage]</td>\n",
       "      <td>[tt0117057]</td>\n",
       "    </tr>\n",
       "    <tr>\n",
       "      <th>7</th>\n",
       "      <td>nm0000002</td>\n",
       "      <td>Lauren Bacall</td>\n",
       "      <td>[actress, soundtrack, archive_footage]</td>\n",
       "      <td>[tt0038355]</td>\n",
       "    </tr>\n",
       "    <tr>\n",
       "      <th>8</th>\n",
       "      <td>nm0000003</td>\n",
       "      <td>Brigitte Bardot</td>\n",
       "      <td>[actress, music_department, producer]</td>\n",
       "      <td>[tt0057345]</td>\n",
       "    </tr>\n",
       "    <tr>\n",
       "      <th>9</th>\n",
       "      <td>nm0000003</td>\n",
       "      <td>Brigitte Bardot</td>\n",
       "      <td>[actress, music_department, producer]</td>\n",
       "      <td>[tt0049189]</td>\n",
       "    </tr>\n",
       "    <tr>\n",
       "      <th>10</th>\n",
       "      <td>nm0000003</td>\n",
       "      <td>Brigitte Bardot</td>\n",
       "      <td>[actress, music_department, producer]</td>\n",
       "      <td>[tt0056404]</td>\n",
       "    </tr>\n",
       "    <tr>\n",
       "      <th>11</th>\n",
       "      <td>nm0000003</td>\n",
       "      <td>Brigitte Bardot</td>\n",
       "      <td>[actress, music_department, producer]</td>\n",
       "      <td>[tt0054452]</td>\n",
       "    </tr>\n",
       "    <tr>\n",
       "      <th>12</th>\n",
       "      <td>nm0000004</td>\n",
       "      <td>John Belushi</td>\n",
       "      <td>[actor, writer, music_department]</td>\n",
       "      <td>[tt0077975]</td>\n",
       "    </tr>\n",
       "    <tr>\n",
       "      <th>13</th>\n",
       "      <td>nm0000004</td>\n",
       "      <td>John Belushi</td>\n",
       "      <td>[actor, writer, music_department]</td>\n",
       "      <td>[tt0080455]</td>\n",
       "    </tr>\n",
       "    <tr>\n",
       "      <th>14</th>\n",
       "      <td>nm0000004</td>\n",
       "      <td>John Belushi</td>\n",
       "      <td>[actor, writer, music_department]</td>\n",
       "      <td>[tt0078723]</td>\n",
       "    </tr>\n",
       "    <tr>\n",
       "      <th>15</th>\n",
       "      <td>nm0000005</td>\n",
       "      <td>Ingmar Bergman</td>\n",
       "      <td>[writer, director, actor]</td>\n",
       "      <td>[tt0050986]</td>\n",
       "    </tr>\n",
       "    <tr>\n",
       "      <th>16</th>\n",
       "      <td>nm0000005</td>\n",
       "      <td>Ingmar Bergman</td>\n",
       "      <td>[writer, director, actor]</td>\n",
       "      <td>[tt0083922]</td>\n",
       "    </tr>\n",
       "    <tr>\n",
       "      <th>17</th>\n",
       "      <td>nm0000005</td>\n",
       "      <td>Ingmar Bergman</td>\n",
       "      <td>[writer, director, actor]</td>\n",
       "      <td>[tt0050976]</td>\n",
       "    </tr>\n",
       "    <tr>\n",
       "      <th>18</th>\n",
       "      <td>nm0000005</td>\n",
       "      <td>Ingmar Bergman</td>\n",
       "      <td>[writer, director, actor]</td>\n",
       "      <td>[tt0069467]</td>\n",
       "    </tr>\n",
       "    <tr>\n",
       "      <th>19</th>\n",
       "      <td>nm0000006</td>\n",
       "      <td>Ingrid Bergman</td>\n",
       "      <td>[actress, producer, soundtrack]</td>\n",
       "      <td>[tt0034583]</td>\n",
       "    </tr>\n",
       "  </tbody>\n",
       "</table>\n",
       "</div>"
      ],
      "text/plain": [
       "       nconst      primaryName                       primaryProfession  \\\n",
       "0   nm0000001     Fred Astaire        [actor, miscellaneous, producer]   \n",
       "1   nm0000001     Fred Astaire        [actor, miscellaneous, producer]   \n",
       "2   nm0000001     Fred Astaire        [actor, miscellaneous, producer]   \n",
       "3   nm0000001     Fred Astaire        [actor, miscellaneous, producer]   \n",
       "4   nm0000002    Lauren Bacall  [actress, soundtrack, archive_footage]   \n",
       "5   nm0000002    Lauren Bacall  [actress, soundtrack, archive_footage]   \n",
       "6   nm0000002    Lauren Bacall  [actress, soundtrack, archive_footage]   \n",
       "7   nm0000002    Lauren Bacall  [actress, soundtrack, archive_footage]   \n",
       "8   nm0000003  Brigitte Bardot   [actress, music_department, producer]   \n",
       "9   nm0000003  Brigitte Bardot   [actress, music_department, producer]   \n",
       "10  nm0000003  Brigitte Bardot   [actress, music_department, producer]   \n",
       "11  nm0000003  Brigitte Bardot   [actress, music_department, producer]   \n",
       "12  nm0000004     John Belushi       [actor, writer, music_department]   \n",
       "13  nm0000004     John Belushi       [actor, writer, music_department]   \n",
       "14  nm0000004     John Belushi       [actor, writer, music_department]   \n",
       "15  nm0000005   Ingmar Bergman               [writer, director, actor]   \n",
       "16  nm0000005   Ingmar Bergman               [writer, director, actor]   \n",
       "17  nm0000005   Ingmar Bergman               [writer, director, actor]   \n",
       "18  nm0000005   Ingmar Bergman               [writer, director, actor]   \n",
       "19  nm0000006   Ingrid Bergman         [actress, producer, soundtrack]   \n",
       "\n",
       "   knownForTitles  \n",
       "0     [tt0072308]  \n",
       "1     [tt0050419]  \n",
       "2     [tt0053137]  \n",
       "3     [tt0027125]  \n",
       "4     [tt0037382]  \n",
       "5     [tt0075213]  \n",
       "6     [tt0117057]  \n",
       "7     [tt0038355]  \n",
       "8     [tt0057345]  \n",
       "9     [tt0049189]  \n",
       "10    [tt0056404]  \n",
       "11    [tt0054452]  \n",
       "12    [tt0077975]  \n",
       "13    [tt0080455]  \n",
       "14    [tt0078723]  \n",
       "15    [tt0050986]  \n",
       "16    [tt0083922]  \n",
       "17    [tt0050976]  \n",
       "18    [tt0069467]  \n",
       "19    [tt0034583]  "
      ]
     },
     "execution_count": 50,
     "metadata": {},
     "output_type": "execute_result"
    }
   ],
   "source": [
    "# Afficher les premières lignes pour vérifier le résultat\n",
    "df_nameBasics.head(20)"
   ]
  },
  {
   "cell_type": "code",
   "execution_count": 51,
   "metadata": {},
   "outputs": [],
   "source": [
    "# # Supprimer les doublons dans le DataFrame df_nameBasics\n",
    "# df_nameBasics.drop_duplicates(subset=['nconst'], inplace=True)\n"
   ]
  },
  {
   "cell_type": "code",
   "execution_count": 52,
   "metadata": {},
   "outputs": [
    {
     "data": {
      "text/html": [
       "<div>\n",
       "<style scoped>\n",
       "    .dataframe tbody tr th:only-of-type {\n",
       "        vertical-align: middle;\n",
       "    }\n",
       "\n",
       "    .dataframe tbody tr th {\n",
       "        vertical-align: top;\n",
       "    }\n",
       "\n",
       "    .dataframe thead th {\n",
       "        text-align: right;\n",
       "    }\n",
       "</style>\n",
       "<table border=\"1\" class=\"dataframe\">\n",
       "  <thead>\n",
       "    <tr style=\"text-align: right;\">\n",
       "      <th></th>\n",
       "      <th>nconst</th>\n",
       "      <th>primaryName</th>\n",
       "      <th>primaryProfession</th>\n",
       "      <th>knownForTitles</th>\n",
       "    </tr>\n",
       "  </thead>\n",
       "  <tbody>\n",
       "    <tr>\n",
       "      <th>0</th>\n",
       "      <td>nm0000001</td>\n",
       "      <td>Fred Astaire</td>\n",
       "      <td>[actor, miscellaneous, producer]</td>\n",
       "      <td>[tt0072308]</td>\n",
       "    </tr>\n",
       "    <tr>\n",
       "      <th>1</th>\n",
       "      <td>nm0000001</td>\n",
       "      <td>Fred Astaire</td>\n",
       "      <td>[actor, miscellaneous, producer]</td>\n",
       "      <td>[tt0050419]</td>\n",
       "    </tr>\n",
       "    <tr>\n",
       "      <th>2</th>\n",
       "      <td>nm0000001</td>\n",
       "      <td>Fred Astaire</td>\n",
       "      <td>[actor, miscellaneous, producer]</td>\n",
       "      <td>[tt0053137]</td>\n",
       "    </tr>\n",
       "    <tr>\n",
       "      <th>3</th>\n",
       "      <td>nm0000001</td>\n",
       "      <td>Fred Astaire</td>\n",
       "      <td>[actor, miscellaneous, producer]</td>\n",
       "      <td>[tt0027125]</td>\n",
       "    </tr>\n",
       "    <tr>\n",
       "      <th>4</th>\n",
       "      <td>nm0000002</td>\n",
       "      <td>Lauren Bacall</td>\n",
       "      <td>[actress, soundtrack, archive_footage]</td>\n",
       "      <td>[tt0037382]</td>\n",
       "    </tr>\n",
       "    <tr>\n",
       "      <th>5</th>\n",
       "      <td>nm0000002</td>\n",
       "      <td>Lauren Bacall</td>\n",
       "      <td>[actress, soundtrack, archive_footage]</td>\n",
       "      <td>[tt0075213]</td>\n",
       "    </tr>\n",
       "    <tr>\n",
       "      <th>6</th>\n",
       "      <td>nm0000002</td>\n",
       "      <td>Lauren Bacall</td>\n",
       "      <td>[actress, soundtrack, archive_footage]</td>\n",
       "      <td>[tt0117057]</td>\n",
       "    </tr>\n",
       "    <tr>\n",
       "      <th>7</th>\n",
       "      <td>nm0000002</td>\n",
       "      <td>Lauren Bacall</td>\n",
       "      <td>[actress, soundtrack, archive_footage]</td>\n",
       "      <td>[tt0038355]</td>\n",
       "    </tr>\n",
       "    <tr>\n",
       "      <th>8</th>\n",
       "      <td>nm0000003</td>\n",
       "      <td>Brigitte Bardot</td>\n",
       "      <td>[actress, music_department, producer]</td>\n",
       "      <td>[tt0057345]</td>\n",
       "    </tr>\n",
       "    <tr>\n",
       "      <th>9</th>\n",
       "      <td>nm0000003</td>\n",
       "      <td>Brigitte Bardot</td>\n",
       "      <td>[actress, music_department, producer]</td>\n",
       "      <td>[tt0049189]</td>\n",
       "    </tr>\n",
       "    <tr>\n",
       "      <th>10</th>\n",
       "      <td>nm0000003</td>\n",
       "      <td>Brigitte Bardot</td>\n",
       "      <td>[actress, music_department, producer]</td>\n",
       "      <td>[tt0056404]</td>\n",
       "    </tr>\n",
       "    <tr>\n",
       "      <th>11</th>\n",
       "      <td>nm0000003</td>\n",
       "      <td>Brigitte Bardot</td>\n",
       "      <td>[actress, music_department, producer]</td>\n",
       "      <td>[tt0054452]</td>\n",
       "    </tr>\n",
       "    <tr>\n",
       "      <th>12</th>\n",
       "      <td>nm0000004</td>\n",
       "      <td>John Belushi</td>\n",
       "      <td>[actor, writer, music_department]</td>\n",
       "      <td>[tt0077975]</td>\n",
       "    </tr>\n",
       "    <tr>\n",
       "      <th>13</th>\n",
       "      <td>nm0000004</td>\n",
       "      <td>John Belushi</td>\n",
       "      <td>[actor, writer, music_department]</td>\n",
       "      <td>[tt0080455]</td>\n",
       "    </tr>\n",
       "    <tr>\n",
       "      <th>14</th>\n",
       "      <td>nm0000004</td>\n",
       "      <td>John Belushi</td>\n",
       "      <td>[actor, writer, music_department]</td>\n",
       "      <td>[tt0078723]</td>\n",
       "    </tr>\n",
       "    <tr>\n",
       "      <th>15</th>\n",
       "      <td>nm0000005</td>\n",
       "      <td>Ingmar Bergman</td>\n",
       "      <td>[writer, director, actor]</td>\n",
       "      <td>[tt0050986]</td>\n",
       "    </tr>\n",
       "    <tr>\n",
       "      <th>16</th>\n",
       "      <td>nm0000005</td>\n",
       "      <td>Ingmar Bergman</td>\n",
       "      <td>[writer, director, actor]</td>\n",
       "      <td>[tt0083922]</td>\n",
       "    </tr>\n",
       "    <tr>\n",
       "      <th>17</th>\n",
       "      <td>nm0000005</td>\n",
       "      <td>Ingmar Bergman</td>\n",
       "      <td>[writer, director, actor]</td>\n",
       "      <td>[tt0050976]</td>\n",
       "    </tr>\n",
       "    <tr>\n",
       "      <th>18</th>\n",
       "      <td>nm0000005</td>\n",
       "      <td>Ingmar Bergman</td>\n",
       "      <td>[writer, director, actor]</td>\n",
       "      <td>[tt0069467]</td>\n",
       "    </tr>\n",
       "    <tr>\n",
       "      <th>19</th>\n",
       "      <td>nm0000006</td>\n",
       "      <td>Ingrid Bergman</td>\n",
       "      <td>[actress, producer, soundtrack]</td>\n",
       "      <td>[tt0034583]</td>\n",
       "    </tr>\n",
       "  </tbody>\n",
       "</table>\n",
       "</div>"
      ],
      "text/plain": [
       "       nconst      primaryName                       primaryProfession  \\\n",
       "0   nm0000001     Fred Astaire        [actor, miscellaneous, producer]   \n",
       "1   nm0000001     Fred Astaire        [actor, miscellaneous, producer]   \n",
       "2   nm0000001     Fred Astaire        [actor, miscellaneous, producer]   \n",
       "3   nm0000001     Fred Astaire        [actor, miscellaneous, producer]   \n",
       "4   nm0000002    Lauren Bacall  [actress, soundtrack, archive_footage]   \n",
       "5   nm0000002    Lauren Bacall  [actress, soundtrack, archive_footage]   \n",
       "6   nm0000002    Lauren Bacall  [actress, soundtrack, archive_footage]   \n",
       "7   nm0000002    Lauren Bacall  [actress, soundtrack, archive_footage]   \n",
       "8   nm0000003  Brigitte Bardot   [actress, music_department, producer]   \n",
       "9   nm0000003  Brigitte Bardot   [actress, music_department, producer]   \n",
       "10  nm0000003  Brigitte Bardot   [actress, music_department, producer]   \n",
       "11  nm0000003  Brigitte Bardot   [actress, music_department, producer]   \n",
       "12  nm0000004     John Belushi       [actor, writer, music_department]   \n",
       "13  nm0000004     John Belushi       [actor, writer, music_department]   \n",
       "14  nm0000004     John Belushi       [actor, writer, music_department]   \n",
       "15  nm0000005   Ingmar Bergman               [writer, director, actor]   \n",
       "16  nm0000005   Ingmar Bergman               [writer, director, actor]   \n",
       "17  nm0000005   Ingmar Bergman               [writer, director, actor]   \n",
       "18  nm0000005   Ingmar Bergman               [writer, director, actor]   \n",
       "19  nm0000006   Ingrid Bergman         [actress, producer, soundtrack]   \n",
       "\n",
       "   knownForTitles  \n",
       "0     [tt0072308]  \n",
       "1     [tt0050419]  \n",
       "2     [tt0053137]  \n",
       "3     [tt0027125]  \n",
       "4     [tt0037382]  \n",
       "5     [tt0075213]  \n",
       "6     [tt0117057]  \n",
       "7     [tt0038355]  \n",
       "8     [tt0057345]  \n",
       "9     [tt0049189]  \n",
       "10    [tt0056404]  \n",
       "11    [tt0054452]  \n",
       "12    [tt0077975]  \n",
       "13    [tt0080455]  \n",
       "14    [tt0078723]  \n",
       "15    [tt0050986]  \n",
       "16    [tt0083922]  \n",
       "17    [tt0050976]  \n",
       "18    [tt0069467]  \n",
       "19    [tt0034583]  "
      ]
     },
     "execution_count": 52,
     "metadata": {},
     "output_type": "execute_result"
    }
   ],
   "source": [
    "# Afficher les premières lignes pour vérifier le résultat\n",
    "df_nameBasics.head(20)"
   ]
  },
  {
   "cell_type": "code",
   "execution_count": 56,
   "metadata": {},
   "outputs": [
    {
     "data": {
      "text/plain": [
       "nconst               object\n",
       "primaryName          object\n",
       "primaryProfession    object\n",
       "knownForTitles       object\n",
       "dtype: object"
      ]
     },
     "execution_count": 56,
     "metadata": {},
     "output_type": "execute_result"
    }
   ],
   "source": [
    "df_nameBasics.dtypes"
   ]
  },
  {
   "cell_type": "code",
   "execution_count": 53,
   "metadata": {},
   "outputs": [
    {
     "data": {
      "text/plain": [
       "(8909533, 4)"
      ]
     },
     "execution_count": 53,
     "metadata": {},
     "output_type": "execute_result"
    }
   ],
   "source": [
    "df_nameBasics.shape"
   ]
  },
  {
   "cell_type": "markdown",
   "metadata": {},
   "source": [
    "#### **Export du DataFrame nettoyé**"
   ]
  },
  {
   "cell_type": "code",
   "execution_count": 54,
   "metadata": {},
   "outputs": [],
   "source": [
    "# Enregistrement du DataFrame nettoyé dans un nouveau fichier\n",
    "movies_cleaned_name_basics = df_nameBasics.to_csv('cleaned_name_basics.csv', index=False)"
   ]
  }
 ],
 "metadata": {
  "kernelspec": {
   "display_name": "Python 3",
   "language": "python",
   "name": "python3"
  },
  "language_info": {
   "codemirror_mode": {
    "name": "ipython",
    "version": 3
   },
   "file_extension": ".py",
   "mimetype": "text/x-python",
   "name": "python",
   "nbconvert_exporter": "python",
   "pygments_lexer": "ipython3",
   "version": "3.12.2"
  }
 },
 "nbformat": 4,
 "nbformat_minor": 2
}
