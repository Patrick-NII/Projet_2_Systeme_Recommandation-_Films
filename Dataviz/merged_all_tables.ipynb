{
 "cells": [
  {
   "cell_type": "code",
   "execution_count": 54,
   "metadata": {},
   "outputs": [],
   "source": [
    "import pandas as pd\n",
    "import numpy as np\n",
    "import matplotlib.pyplot as plt\n",
    "import seaborn as sns\n",
    "from matplotlib.ticker import FuncFormatter\n",
    "import plotly_express as px\n",
    "from sklearn.preprocessing import StandardScaler\n",
    "from sklearn.cluster import KMeans\n",
    "from sklearn.metrics import silhouette_score\n",
    "from mpl_toolkits.mplot3d import Axes3D\n",
    "import plotly.graph_objects as go"
   ]
  },
  {
   "cell_type": "code",
   "execution_count": 55,
   "metadata": {},
   "outputs": [],
   "source": [
    "plt.style.use('ggplot')\n",
    "plt.rcParams['figure.figsize'] = (12, 8)\n",
    "plt.rcParams['font.size'] = 12"
   ]
  },
  {
   "cell_type": "code",
   "execution_count": 56,
   "metadata": {},
   "outputs": [],
   "source": [
    "df_merged = pd.read_csv('D:\\\\Projo\\\\data_cleaned_actors.csv', sep=',')"
   ]
  },
  {
   "cell_type": "code",
   "execution_count": 57,
   "metadata": {},
   "outputs": [
    {
     "data": {
      "text/html": [
       "<div>\n",
       "<style scoped>\n",
       "    .dataframe tbody tr th:only-of-type {\n",
       "        vertical-align: middle;\n",
       "    }\n",
       "\n",
       "    .dataframe tbody tr th {\n",
       "        vertical-align: top;\n",
       "    }\n",
       "\n",
       "    .dataframe thead th {\n",
       "        text-align: right;\n",
       "    }\n",
       "</style>\n",
       "<table border=\"1\" class=\"dataframe\">\n",
       "  <thead>\n",
       "    <tr style=\"text-align: right;\">\n",
       "      <th></th>\n",
       "      <th>titleId</th>\n",
       "      <th>title</th>\n",
       "      <th>averageRating</th>\n",
       "      <th>numVotes</th>\n",
       "      <th>startYear</th>\n",
       "      <th>runtimeMinutes</th>\n",
       "      <th>genre1</th>\n",
       "      <th>genre2</th>\n",
       "      <th>popularity</th>\n",
       "      <th>production_companies_name</th>\n",
       "      <th>...</th>\n",
       "      <th>actor1</th>\n",
       "      <th>actor2</th>\n",
       "      <th>actor3</th>\n",
       "      <th>actor4</th>\n",
       "      <th>actor5</th>\n",
       "      <th>actor6</th>\n",
       "      <th>actor7</th>\n",
       "      <th>actor8</th>\n",
       "      <th>actor9</th>\n",
       "      <th>actor10</th>\n",
       "    </tr>\n",
       "  </thead>\n",
       "  <tbody>\n",
       "    <tr>\n",
       "      <th>0</th>\n",
       "      <td>tt0035423</td>\n",
       "      <td>Kate et Léopold</td>\n",
       "      <td>6.4</td>\n",
       "      <td>88939.0</td>\n",
       "      <td>2001.0</td>\n",
       "      <td>118.0</td>\n",
       "      <td>Comedy</td>\n",
       "      <td>Fantasy</td>\n",
       "      <td>15.770</td>\n",
       "      <td>Miramax, Konrad Pictures</td>\n",
       "      <td>...</td>\n",
       "      <td>Bradley Whitford</td>\n",
       "      <td>Paxton Whitehead</td>\n",
       "      <td>Matthew Sussman</td>\n",
       "      <td>Liev Schreiber</td>\n",
       "      <td>Meg Ryan</td>\n",
       "      <td>Hugh Jackman</td>\n",
       "      <td>Breckin Meyer</td>\n",
       "      <td>Spalding Gray</td>\n",
       "      <td>Natasha Lyonne</td>\n",
       "      <td>Josh Stamberg</td>\n",
       "    </tr>\n",
       "    <tr>\n",
       "      <th>1</th>\n",
       "      <td>tt0054632</td>\n",
       "      <td>L'année dernière à Marienbad</td>\n",
       "      <td>7.7</td>\n",
       "      <td>24793.0</td>\n",
       "      <td>1961.0</td>\n",
       "      <td>94.0</td>\n",
       "      <td>Drama</td>\n",
       "      <td>Mystery</td>\n",
       "      <td>11.284</td>\n",
       "      <td>Argos Films, Cineriz, Silver Films, Terra Film...</td>\n",
       "      <td>...</td>\n",
       "      <td>Pierre Barbaud</td>\n",
       "      <td>Delphine Seyrig</td>\n",
       "      <td>Françoise Bertin</td>\n",
       "      <td>Sacha Pitoëff</td>\n",
       "      <td>Françoise Spira</td>\n",
       "      <td>Karin Toeche-Mittler</td>\n",
       "      <td>Wilhelm von Deek</td>\n",
       "      <td>Héléna Kornel</td>\n",
       "      <td>Giorgio Albertazzi</td>\n",
       "      <td>Luce Garcia-Ville</td>\n",
       "    </tr>\n",
       "    <tr>\n",
       "      <th>2</th>\n",
       "      <td>tt0054692</td>\n",
       "      <td>Sous le ciel bleu d'Hawaï</td>\n",
       "      <td>6.1</td>\n",
       "      <td>7478.0</td>\n",
       "      <td>1961.0</td>\n",
       "      <td>102.0</td>\n",
       "      <td>Comedy</td>\n",
       "      <td>Musical</td>\n",
       "      <td>10.444</td>\n",
       "      <td>Hal Wallis Productions, Paramount</td>\n",
       "      <td>...</td>\n",
       "      <td>Howard McNear</td>\n",
       "      <td>Joan Blackman</td>\n",
       "      <td>Elvis Presley</td>\n",
       "      <td>Angela Lansbury</td>\n",
       "      <td>Steve Brodie</td>\n",
       "      <td>John Archer</td>\n",
       "      <td>Nancy Walters</td>\n",
       "      <td>Roland Winters</td>\n",
       "      <td>Iris Adrian</td>\n",
       "      <td>Christian Kay</td>\n",
       "    </tr>\n",
       "    <tr>\n",
       "      <th>3</th>\n",
       "      <td>tt0054698</td>\n",
       "      <td>Diamants sur canapé</td>\n",
       "      <td>7.6</td>\n",
       "      <td>191686.0</td>\n",
       "      <td>1961.0</td>\n",
       "      <td>115.0</td>\n",
       "      <td>Comedy</td>\n",
       "      <td>Drama</td>\n",
       "      <td>18.252</td>\n",
       "      <td>Jurow-Shepherd, Paramount</td>\n",
       "      <td>...</td>\n",
       "      <td>José Luis de Vilallonga</td>\n",
       "      <td>Dorothy Whitney</td>\n",
       "      <td>Martin Balsam</td>\n",
       "      <td>John McGiver</td>\n",
       "      <td>Audrey Hepburn</td>\n",
       "      <td>George Peppard</td>\n",
       "      <td>Elvia Allman</td>\n",
       "      <td>Patricia Neal</td>\n",
       "      <td>Buddy Ebsen</td>\n",
       "      <td>Stanley Adams</td>\n",
       "    </tr>\n",
       "    <tr>\n",
       "      <th>4</th>\n",
       "      <td>tt0054847</td>\n",
       "      <td>Le Cid</td>\n",
       "      <td>7.2</td>\n",
       "      <td>15632.0</td>\n",
       "      <td>1961.0</td>\n",
       "      <td>182.0</td>\n",
       "      <td>Biography</td>\n",
       "      <td>Drama</td>\n",
       "      <td>13.196</td>\n",
       "      <td>Samuel Bronston Productions, Allied Artists Pi...</td>\n",
       "      <td>...</td>\n",
       "      <td>Frank Thring</td>\n",
       "      <td>Michael Hordern</td>\n",
       "      <td>Gary Raymond</td>\n",
       "      <td>Geneviève Page</td>\n",
       "      <td>Hurd Hatfield</td>\n",
       "      <td>Massimo Serato</td>\n",
       "      <td>Raf Vallone</td>\n",
       "      <td>John Fraser</td>\n",
       "      <td>Sophia Loren</td>\n",
       "      <td>Charlton Heston</td>\n",
       "    </tr>\n",
       "    <tr>\n",
       "      <th>5</th>\n",
       "      <td>tt0054953</td>\n",
       "      <td>Les Canons de Navarone</td>\n",
       "      <td>7.5</td>\n",
       "      <td>55225.0</td>\n",
       "      <td>1961.0</td>\n",
       "      <td>158.0</td>\n",
       "      <td>Action</td>\n",
       "      <td>Adventure</td>\n",
       "      <td>15.708</td>\n",
       "      <td>Columbia Pictures, Highroad Productions</td>\n",
       "      <td>...</td>\n",
       "      <td>David Niven</td>\n",
       "      <td>Anthony Quinn</td>\n",
       "      <td>Stanley Baker</td>\n",
       "      <td>Anthony Quayle</td>\n",
       "      <td>James Robertson Justice</td>\n",
       "      <td>Gia Scala</td>\n",
       "      <td>James Darren</td>\n",
       "      <td>Richard Harris</td>\n",
       "      <td>Irene Papas</td>\n",
       "      <td>Gregory Peck</td>\n",
       "    </tr>\n",
       "    <tr>\n",
       "      <th>6</th>\n",
       "      <td>tt0054997</td>\n",
       "      <td>L'Arnaqueur</td>\n",
       "      <td>8.0</td>\n",
       "      <td>86655.0</td>\n",
       "      <td>1961.0</td>\n",
       "      <td>134.0</td>\n",
       "      <td>Drama</td>\n",
       "      <td>Sport</td>\n",
       "      <td>12.066</td>\n",
       "      <td>Rossen Films, 20th Century Fox</td>\n",
       "      <td>...</td>\n",
       "      <td>Jackie Gleason</td>\n",
       "      <td>Michael Constantine</td>\n",
       "      <td>Paul Newman</td>\n",
       "      <td>Stefan Gierasch</td>\n",
       "      <td>Jake LaMotta</td>\n",
       "      <td>Piper Laurie</td>\n",
       "      <td>Clifford A. Pellow</td>\n",
       "      <td>Murray Hamilton</td>\n",
       "      <td>Myron McCormick</td>\n",
       "      <td>George C. Scott</td>\n",
       "    </tr>\n",
       "    <tr>\n",
       "      <th>7</th>\n",
       "      <td>tt0055031</td>\n",
       "      <td>Jugement à Nuremberg</td>\n",
       "      <td>8.3</td>\n",
       "      <td>85083.0</td>\n",
       "      <td>1961.0</td>\n",
       "      <td>179.0</td>\n",
       "      <td>Drama</td>\n",
       "      <td>War</td>\n",
       "      <td>13.877</td>\n",
       "      <td>United Artists, Roxlom Films</td>\n",
       "      <td>...</td>\n",
       "      <td>Maximilian Schell</td>\n",
       "      <td>Montgomery Clift</td>\n",
       "      <td>Spencer Tracy</td>\n",
       "      <td>Kenneth MacKenna</td>\n",
       "      <td>Burt Lancaster</td>\n",
       "      <td>Richard Widmark</td>\n",
       "      <td>Werner Klemperer</td>\n",
       "      <td>Marlene Dietrich</td>\n",
       "      <td>Judy Garland</td>\n",
       "      <td>William Shatner</td>\n",
       "    </tr>\n",
       "    <tr>\n",
       "      <th>8</th>\n",
       "      <td>tt0055047</td>\n",
       "      <td>Le roi des rois</td>\n",
       "      <td>7.0</td>\n",
       "      <td>8974.0</td>\n",
       "      <td>1961.0</td>\n",
       "      <td>168.0</td>\n",
       "      <td>Biography</td>\n",
       "      <td>Drama</td>\n",
       "      <td>12.283</td>\n",
       "      <td>Samuel Bronston Productions, Metro-Goldwyn-Mayer</td>\n",
       "      <td>...</td>\n",
       "      <td>Siobhan McKenna</td>\n",
       "      <td>Viveca Lindfors</td>\n",
       "      <td>Hurd Hatfield</td>\n",
       "      <td>Brigid Bazlen</td>\n",
       "      <td>Jeffrey Hunter</td>\n",
       "      <td>Carmen Sevilla</td>\n",
       "      <td>Rip Torn</td>\n",
       "      <td>Rita Gam</td>\n",
       "      <td>Harry Guardino</td>\n",
       "      <td>Ron Randell</td>\n",
       "    </tr>\n",
       "    <tr>\n",
       "      <th>10</th>\n",
       "      <td>tt0055205</td>\n",
       "      <td>Le train de 16h50</td>\n",
       "      <td>7.3</td>\n",
       "      <td>8538.0</td>\n",
       "      <td>1961.0</td>\n",
       "      <td>87.0</td>\n",
       "      <td>Comedy</td>\n",
       "      <td>Crime</td>\n",
       "      <td>12.827</td>\n",
       "      <td>Metro-Goldwyn-Mayer British Studios, George H....</td>\n",
       "      <td>...</td>\n",
       "      <td>Thorley Walters</td>\n",
       "      <td>James Robertson Justice</td>\n",
       "      <td>Stringer Davis</td>\n",
       "      <td>Conrad Phillips</td>\n",
       "      <td>Charles 'Bud' Tingwell</td>\n",
       "      <td>Arthur Kennedy</td>\n",
       "      <td>Margaret Rutherford</td>\n",
       "      <td>Joan Hickson</td>\n",
       "      <td>Muriel Pavlow</td>\n",
       "      <td>Ronald Howard</td>\n",
       "    </tr>\n",
       "  </tbody>\n",
       "</table>\n",
       "<p>10 rows × 21 columns</p>\n",
       "</div>"
      ],
      "text/plain": [
       "      titleId                         title  averageRating  numVotes  \\\n",
       "0   tt0035423               Kate et Léopold            6.4   88939.0   \n",
       "1   tt0054632  L'année dernière à Marienbad            7.7   24793.0   \n",
       "2   tt0054692     Sous le ciel bleu d'Hawaï            6.1    7478.0   \n",
       "3   tt0054698           Diamants sur canapé            7.6  191686.0   \n",
       "4   tt0054847                        Le Cid            7.2   15632.0   \n",
       "5   tt0054953        Les Canons de Navarone            7.5   55225.0   \n",
       "6   tt0054997                   L'Arnaqueur            8.0   86655.0   \n",
       "7   tt0055031          Jugement à Nuremberg            8.3   85083.0   \n",
       "8   tt0055047               Le roi des rois            7.0    8974.0   \n",
       "10  tt0055205             Le train de 16h50            7.3    8538.0   \n",
       "\n",
       "    startYear  runtimeMinutes     genre1     genre2  popularity  \\\n",
       "0      2001.0           118.0     Comedy    Fantasy      15.770   \n",
       "1      1961.0            94.0      Drama    Mystery      11.284   \n",
       "2      1961.0           102.0     Comedy    Musical      10.444   \n",
       "3      1961.0           115.0     Comedy      Drama      18.252   \n",
       "4      1961.0           182.0  Biography      Drama      13.196   \n",
       "5      1961.0           158.0     Action  Adventure      15.708   \n",
       "6      1961.0           134.0      Drama      Sport      12.066   \n",
       "7      1961.0           179.0      Drama        War      13.877   \n",
       "8      1961.0           168.0  Biography      Drama      12.283   \n",
       "10     1961.0            87.0     Comedy      Crime      12.827   \n",
       "\n",
       "                            production_companies_name  ...  \\\n",
       "0                            Miramax, Konrad Pictures  ...   \n",
       "1   Argos Films, Cineriz, Silver Films, Terra Film...  ...   \n",
       "2                   Hal Wallis Productions, Paramount  ...   \n",
       "3                           Jurow-Shepherd, Paramount  ...   \n",
       "4   Samuel Bronston Productions, Allied Artists Pi...  ...   \n",
       "5             Columbia Pictures, Highroad Productions  ...   \n",
       "6                      Rossen Films, 20th Century Fox  ...   \n",
       "7                        United Artists, Roxlom Films  ...   \n",
       "8    Samuel Bronston Productions, Metro-Goldwyn-Mayer  ...   \n",
       "10  Metro-Goldwyn-Mayer British Studios, George H....  ...   \n",
       "\n",
       "                     actor1                    actor2             actor3  \\\n",
       "0          Bradley Whitford          Paxton Whitehead    Matthew Sussman   \n",
       "1            Pierre Barbaud           Delphine Seyrig   Françoise Bertin   \n",
       "2             Howard McNear             Joan Blackman      Elvis Presley   \n",
       "3   José Luis de Vilallonga           Dorothy Whitney      Martin Balsam   \n",
       "4              Frank Thring           Michael Hordern       Gary Raymond   \n",
       "5               David Niven             Anthony Quinn      Stanley Baker   \n",
       "6            Jackie Gleason       Michael Constantine        Paul Newman   \n",
       "7         Maximilian Schell          Montgomery Clift      Spencer Tracy   \n",
       "8           Siobhan McKenna           Viveca Lindfors      Hurd Hatfield   \n",
       "10          Thorley Walters   James Robertson Justice     Stringer Davis   \n",
       "\n",
       "               actor4                    actor5                 actor6  \\\n",
       "0      Liev Schreiber                  Meg Ryan           Hugh Jackman   \n",
       "1       Sacha Pitoëff           Françoise Spira   Karin Toeche-Mittler   \n",
       "2     Angela Lansbury              Steve Brodie            John Archer   \n",
       "3        John McGiver            Audrey Hepburn         George Peppard   \n",
       "4      Geneviève Page             Hurd Hatfield         Massimo Serato   \n",
       "5      Anthony Quayle   James Robertson Justice              Gia Scala   \n",
       "6     Stefan Gierasch              Jake LaMotta           Piper Laurie   \n",
       "7    Kenneth MacKenna            Burt Lancaster        Richard Widmark   \n",
       "8       Brigid Bazlen            Jeffrey Hunter         Carmen Sevilla   \n",
       "10    Conrad Phillips    Charles 'Bud' Tingwell         Arthur Kennedy   \n",
       "\n",
       "                  actor7             actor8               actor9  \\\n",
       "0          Breckin Meyer      Spalding Gray       Natasha Lyonne   \n",
       "1       Wilhelm von Deek      Héléna Kornel   Giorgio Albertazzi   \n",
       "2          Nancy Walters     Roland Winters          Iris Adrian   \n",
       "3           Elvia Allman      Patricia Neal          Buddy Ebsen   \n",
       "4            Raf Vallone        John Fraser         Sophia Loren   \n",
       "5           James Darren     Richard Harris          Irene Papas   \n",
       "6     Clifford A. Pellow    Murray Hamilton      Myron McCormick   \n",
       "7       Werner Klemperer   Marlene Dietrich         Judy Garland   \n",
       "8               Rip Torn           Rita Gam       Harry Guardino   \n",
       "10   Margaret Rutherford       Joan Hickson        Muriel Pavlow   \n",
       "\n",
       "               actor10  \n",
       "0        Josh Stamberg  \n",
       "1    Luce Garcia-Ville  \n",
       "2        Christian Kay  \n",
       "3        Stanley Adams  \n",
       "4      Charlton Heston  \n",
       "5         Gregory Peck  \n",
       "6      George C. Scott  \n",
       "7      William Shatner  \n",
       "8          Ron Randell  \n",
       "10       Ronald Howard  \n",
       "\n",
       "[10 rows x 21 columns]"
      ]
     },
     "execution_count": 57,
     "metadata": {},
     "output_type": "execute_result"
    }
   ],
   "source": [
    "# Suppression des colonnes inutiles pour l'analyse\n",
    "df_merged.drop(columns=['overview', 'poster_path', 'backdrop_path', 'nconst_director'], inplace=True)\n",
    "df_merged.dropna(inplace=True)\n",
    "\n",
    "df_merged.head(10)"
   ]
  },
  {
   "cell_type": "code",
   "execution_count": 58,
   "metadata": {},
   "outputs": [
    {
     "data": {
      "text/plain": [
       "genre1\n",
       "Action         1264\n",
       "Drama           977\n",
       "Comedy          877\n",
       "Crime           388\n",
       "Biography       350\n",
       "Adventure       340\n",
       "Horror          151\n",
       "Animation        22\n",
       "Mystery          18\n",
       "Fantasy          15\n",
       "Thriller          7\n",
       "Western           3\n",
       "Family            2\n",
       "Romance           1\n",
       "Sci-Fi            1\n",
       "Documentary       1\n",
       "History           1\n",
       "Name: count, dtype: int64"
      ]
     },
     "execution_count": 58,
     "metadata": {},
     "output_type": "execute_result"
    }
   ],
   "source": [
    "df_merged['genre1'].value_counts()"
   ]
  },
  {
   "cell_type": "code",
   "execution_count": 59,
   "metadata": {},
   "outputs": [
    {
     "data": {
      "text/plain": [
       "titleId                       object\n",
       "title                         object\n",
       "averageRating                float64\n",
       "numVotes                     float64\n",
       "startYear                    float64\n",
       "runtimeMinutes               float64\n",
       "genre1                        object\n",
       "genre2                        object\n",
       "popularity                   float64\n",
       "production_companies_name     object\n",
       "Director_name                 object\n",
       "actor1                        object\n",
       "actor2                        object\n",
       "actor3                        object\n",
       "actor4                        object\n",
       "actor5                        object\n",
       "actor6                        object\n",
       "actor7                        object\n",
       "actor8                        object\n",
       "actor9                        object\n",
       "actor10                       object\n",
       "dtype: object"
      ]
     },
     "execution_count": 59,
     "metadata": {},
     "output_type": "execute_result"
    }
   ],
   "source": [
    "df_merged.dtypes\n"
   ]
  },
  {
   "cell_type": "code",
   "execution_count": 60,
   "metadata": {},
   "outputs": [
    {
     "data": {
      "text/html": [
       "<div>\n",
       "<style scoped>\n",
       "    .dataframe tbody tr th:only-of-type {\n",
       "        vertical-align: middle;\n",
       "    }\n",
       "\n",
       "    .dataframe tbody tr th {\n",
       "        vertical-align: top;\n",
       "    }\n",
       "\n",
       "    .dataframe thead th {\n",
       "        text-align: right;\n",
       "    }\n",
       "</style>\n",
       "<table border=\"1\" class=\"dataframe\">\n",
       "  <thead>\n",
       "    <tr style=\"text-align: right;\">\n",
       "      <th></th>\n",
       "      <th>averageRating</th>\n",
       "      <th>numVotes</th>\n",
       "      <th>startYear</th>\n",
       "      <th>runtimeMinutes</th>\n",
       "      <th>popularity</th>\n",
       "    </tr>\n",
       "  </thead>\n",
       "  <tbody>\n",
       "    <tr>\n",
       "      <th>count</th>\n",
       "      <td>4418.000000</td>\n",
       "      <td>4.418000e+03</td>\n",
       "      <td>4418.000000</td>\n",
       "      <td>4418.000000</td>\n",
       "      <td>4418.000000</td>\n",
       "    </tr>\n",
       "    <tr>\n",
       "      <th>mean</th>\n",
       "      <td>6.934065</td>\n",
       "      <td>1.438925e+05</td>\n",
       "      <td>2003.177230</td>\n",
       "      <td>114.945903</td>\n",
       "      <td>29.460026</td>\n",
       "    </tr>\n",
       "    <tr>\n",
       "      <th>std</th>\n",
       "      <td>0.604025</td>\n",
       "      <td>2.282095e+05</td>\n",
       "      <td>15.188039</td>\n",
       "      <td>19.894435</td>\n",
       "      <td>130.312802</td>\n",
       "    </tr>\n",
       "    <tr>\n",
       "      <th>min</th>\n",
       "      <td>6.000000</td>\n",
       "      <td>5.026000e+03</td>\n",
       "      <td>1961.000000</td>\n",
       "      <td>85.000000</td>\n",
       "      <td>10.000000</td>\n",
       "    </tr>\n",
       "    <tr>\n",
       "      <th>25%</th>\n",
       "      <td>6.400000</td>\n",
       "      <td>2.514500e+04</td>\n",
       "      <td>1994.000000</td>\n",
       "      <td>101.000000</td>\n",
       "      <td>12.199250</td>\n",
       "    </tr>\n",
       "    <tr>\n",
       "      <th>50%</th>\n",
       "      <td>6.900000</td>\n",
       "      <td>6.424900e+04</td>\n",
       "      <td>2007.000000</td>\n",
       "      <td>111.000000</td>\n",
       "      <td>15.754500</td>\n",
       "    </tr>\n",
       "    <tr>\n",
       "      <th>75%</th>\n",
       "      <td>7.300000</td>\n",
       "      <td>1.653242e+05</td>\n",
       "      <td>2016.000000</td>\n",
       "      <td>125.000000</td>\n",
       "      <td>23.988500</td>\n",
       "    </tr>\n",
       "    <tr>\n",
       "      <th>max</th>\n",
       "      <td>9.300000</td>\n",
       "      <td>2.878611e+06</td>\n",
       "      <td>2024.000000</td>\n",
       "      <td>238.000000</td>\n",
       "      <td>5089.969000</td>\n",
       "    </tr>\n",
       "  </tbody>\n",
       "</table>\n",
       "</div>"
      ],
      "text/plain": [
       "       averageRating      numVotes    startYear  runtimeMinutes   popularity\n",
       "count    4418.000000  4.418000e+03  4418.000000     4418.000000  4418.000000\n",
       "mean        6.934065  1.438925e+05  2003.177230      114.945903    29.460026\n",
       "std         0.604025  2.282095e+05    15.188039       19.894435   130.312802\n",
       "min         6.000000  5.026000e+03  1961.000000       85.000000    10.000000\n",
       "25%         6.400000  2.514500e+04  1994.000000      101.000000    12.199250\n",
       "50%         6.900000  6.424900e+04  2007.000000      111.000000    15.754500\n",
       "75%         7.300000  1.653242e+05  2016.000000      125.000000    23.988500\n",
       "max         9.300000  2.878611e+06  2024.000000      238.000000  5089.969000"
      ]
     },
     "execution_count": 60,
     "metadata": {},
     "output_type": "execute_result"
    }
   ],
   "source": [
    "df_merged.describe()"
   ]
  },
  {
   "cell_type": "code",
   "execution_count": 61,
   "metadata": {},
   "outputs": [
    {
     "data": {
      "text/html": [
       "<div>\n",
       "<style scoped>\n",
       "    .dataframe tbody tr th:only-of-type {\n",
       "        vertical-align: middle;\n",
       "    }\n",
       "\n",
       "    .dataframe tbody tr th {\n",
       "        vertical-align: top;\n",
       "    }\n",
       "\n",
       "    .dataframe thead th {\n",
       "        text-align: right;\n",
       "    }\n",
       "</style>\n",
       "<table border=\"1\" class=\"dataframe\">\n",
       "  <thead>\n",
       "    <tr style=\"text-align: right;\">\n",
       "      <th></th>\n",
       "      <th>titleId</th>\n",
       "      <th>title</th>\n",
       "      <th>averageRating</th>\n",
       "      <th>numVotes</th>\n",
       "      <th>startYear</th>\n",
       "      <th>runtimeMinutes</th>\n",
       "      <th>genre1</th>\n",
       "      <th>genre2</th>\n",
       "      <th>popularity</th>\n",
       "      <th>production_companies_name</th>\n",
       "      <th>...</th>\n",
       "      <th>actor1</th>\n",
       "      <th>actor2</th>\n",
       "      <th>actor3</th>\n",
       "      <th>actor4</th>\n",
       "      <th>actor5</th>\n",
       "      <th>actor6</th>\n",
       "      <th>actor7</th>\n",
       "      <th>actor8</th>\n",
       "      <th>actor9</th>\n",
       "      <th>actor10</th>\n",
       "    </tr>\n",
       "  </thead>\n",
       "  <tbody>\n",
       "    <tr>\n",
       "      <th>1225</th>\n",
       "      <td>tt0111161</td>\n",
       "      <td>Les évadés</td>\n",
       "      <td>9.3</td>\n",
       "      <td>2878611.0</td>\n",
       "      <td>1994.0</td>\n",
       "      <td>142.0</td>\n",
       "      <td>Drama</td>\n",
       "      <td>Drama</td>\n",
       "      <td>84.139</td>\n",
       "      <td>Castle Rock Entertainment</td>\n",
       "      <td>...</td>\n",
       "      <td>Mark Rolston</td>\n",
       "      <td>James Whitmore</td>\n",
       "      <td>Larry Brandenburg</td>\n",
       "      <td>Morgan Freeman</td>\n",
       "      <td>Gil Bellows</td>\n",
       "      <td>Tim Robbins</td>\n",
       "      <td>Jeffrey DeMunn</td>\n",
       "      <td>William Sadler</td>\n",
       "      <td>Clancy Brown</td>\n",
       "      <td>Bob Gunton</td>\n",
       "    </tr>\n",
       "    <tr>\n",
       "      <th>233</th>\n",
       "      <td>tt0068646</td>\n",
       "      <td>Le Parrain</td>\n",
       "      <td>9.2</td>\n",
       "      <td>2004826.0</td>\n",
       "      <td>1972.0</td>\n",
       "      <td>175.0</td>\n",
       "      <td>Crime</td>\n",
       "      <td>Drama</td>\n",
       "      <td>113.216</td>\n",
       "      <td>Alfran Productions, Paramount</td>\n",
       "      <td>...</td>\n",
       "      <td>Robert Duvall</td>\n",
       "      <td>Richard Conte</td>\n",
       "      <td>Al Pacino</td>\n",
       "      <td>James Caan</td>\n",
       "      <td>Richard S. Castellano</td>\n",
       "      <td>Diane Keaton</td>\n",
       "      <td>John Marley</td>\n",
       "      <td>Marlon Brando</td>\n",
       "      <td>Sterling Hayden</td>\n",
       "      <td>Al Lettieri</td>\n",
       "    </tr>\n",
       "    <tr>\n",
       "      <th>284</th>\n",
       "      <td>tt0071562</td>\n",
       "      <td>Le Parrain, 2ᵉ partie</td>\n",
       "      <td>9.0</td>\n",
       "      <td>1359986.0</td>\n",
       "      <td>1974.0</td>\n",
       "      <td>202.0</td>\n",
       "      <td>Crime</td>\n",
       "      <td>Drama</td>\n",
       "      <td>55.942</td>\n",
       "      <td>The Coppola Company, Paramount</td>\n",
       "      <td>...</td>\n",
       "      <td>Robert Duvall</td>\n",
       "      <td>Talia Shire</td>\n",
       "      <td>Michael V. Gazzo</td>\n",
       "      <td>John Cazale</td>\n",
       "      <td>Al Pacino</td>\n",
       "      <td>Richard Bright</td>\n",
       "      <td>Robert De Niro</td>\n",
       "      <td>Diane Keaton</td>\n",
       "      <td>G.D. Spradlin</td>\n",
       "      <td>Lee Strasberg</td>\n",
       "    </tr>\n",
       "    <tr>\n",
       "      <th>1667</th>\n",
       "      <td>tt0167260</td>\n",
       "      <td>Le Seigneur des anneaux : Le Retour du roi</td>\n",
       "      <td>9.0</td>\n",
       "      <td>1972573.0</td>\n",
       "      <td>2003.0</td>\n",
       "      <td>201.0</td>\n",
       "      <td>Action</td>\n",
       "      <td>Adventure</td>\n",
       "      <td>65.571</td>\n",
       "      <td>New Line Cinema, WingNut Films, The Saul Zaent...</td>\n",
       "      <td>...</td>\n",
       "      <td>Ian McKellen</td>\n",
       "      <td>Sean Astin</td>\n",
       "      <td>Ali Astin</td>\n",
       "      <td>Elijah Wood</td>\n",
       "      <td>Sean Bean</td>\n",
       "      <td>Noel Appleby</td>\n",
       "      <td>Orlando Bloom</td>\n",
       "      <td>Viggo Mortensen</td>\n",
       "      <td>David Aston</td>\n",
       "      <td>John Bach</td>\n",
       "    </tr>\n",
       "    <tr>\n",
       "      <th>2475</th>\n",
       "      <td>tt0468569</td>\n",
       "      <td>The Dark Knight : Le Chevalier noir</td>\n",
       "      <td>9.0</td>\n",
       "      <td>2861067.0</td>\n",
       "      <td>2008.0</td>\n",
       "      <td>152.0</td>\n",
       "      <td>Action</td>\n",
       "      <td>Crime</td>\n",
       "      <td>81.582</td>\n",
       "      <td>DC Comics, Isobel Griffiths, Syncopy, Warner B...</td>\n",
       "      <td>...</td>\n",
       "      <td>Cillian Murphy</td>\n",
       "      <td>Morgan Freeman</td>\n",
       "      <td>Gary Oldman</td>\n",
       "      <td>Michael Caine</td>\n",
       "      <td>Ron Dean</td>\n",
       "      <td>Maggie Gyllenhaal</td>\n",
       "      <td>Aaron Eckhart</td>\n",
       "      <td>Christian Bale</td>\n",
       "      <td>Heath Ledger</td>\n",
       "      <td>Monique Gabriela Curnen</td>\n",
       "    </tr>\n",
       "  </tbody>\n",
       "</table>\n",
       "<p>5 rows × 21 columns</p>\n",
       "</div>"
      ],
      "text/plain": [
       "        titleId                                       title  averageRating  \\\n",
       "1225  tt0111161                                  Les évadés            9.3   \n",
       "233   tt0068646                                  Le Parrain            9.2   \n",
       "284   tt0071562                       Le Parrain, 2ᵉ partie            9.0   \n",
       "1667  tt0167260  Le Seigneur des anneaux : Le Retour du roi            9.0   \n",
       "2475  tt0468569         The Dark Knight : Le Chevalier noir            9.0   \n",
       "\n",
       "       numVotes  startYear  runtimeMinutes  genre1     genre2  popularity  \\\n",
       "1225  2878611.0     1994.0           142.0   Drama      Drama      84.139   \n",
       "233   2004826.0     1972.0           175.0   Crime      Drama     113.216   \n",
       "284   1359986.0     1974.0           202.0   Crime      Drama      55.942   \n",
       "1667  1972573.0     2003.0           201.0  Action  Adventure      65.571   \n",
       "2475  2861067.0     2008.0           152.0  Action      Crime      81.582   \n",
       "\n",
       "                              production_companies_name  ...          actor1  \\\n",
       "1225                          Castle Rock Entertainment  ...    Mark Rolston   \n",
       "233                       Alfran Productions, Paramount  ...   Robert Duvall   \n",
       "284                      The Coppola Company, Paramount  ...   Robert Duvall   \n",
       "1667  New Line Cinema, WingNut Films, The Saul Zaent...  ...    Ian McKellen   \n",
       "2475  DC Comics, Isobel Griffiths, Syncopy, Warner B...  ...  Cillian Murphy   \n",
       "\n",
       "               actor2              actor3           actor4  \\\n",
       "1225   James Whitmore   Larry Brandenburg   Morgan Freeman   \n",
       "233     Richard Conte           Al Pacino       James Caan   \n",
       "284       Talia Shire    Michael V. Gazzo      John Cazale   \n",
       "1667       Sean Astin           Ali Astin      Elijah Wood   \n",
       "2475   Morgan Freeman         Gary Oldman    Michael Caine   \n",
       "\n",
       "                      actor5              actor6           actor7  \\\n",
       "1225             Gil Bellows         Tim Robbins   Jeffrey DeMunn   \n",
       "233    Richard S. Castellano        Diane Keaton      John Marley   \n",
       "284                Al Pacino      Richard Bright   Robert De Niro   \n",
       "1667               Sean Bean        Noel Appleby    Orlando Bloom   \n",
       "2475                Ron Dean   Maggie Gyllenhaal    Aaron Eckhart   \n",
       "\n",
       "                actor8            actor9                   actor10  \n",
       "1225    William Sadler      Clancy Brown                Bob Gunton  \n",
       "233      Marlon Brando   Sterling Hayden               Al Lettieri  \n",
       "284       Diane Keaton     G.D. Spradlin             Lee Strasberg  \n",
       "1667   Viggo Mortensen       David Aston                 John Bach  \n",
       "2475    Christian Bale      Heath Ledger   Monique Gabriela Curnen  \n",
       "\n",
       "[5 rows x 21 columns]"
      ]
     },
     "execution_count": 61,
     "metadata": {},
     "output_type": "execute_result"
    }
   ],
   "source": [
    "# Les 20 films les mieux notés de 1980 à 2024\n",
    "\n",
    "df_sorted_avg =  df_merged.sort_values(by='averageRating', ascending=False)\n",
    "df_sorted_avg.head()"
   ]
  },
  {
   "cell_type": "code",
   "execution_count": 75,
   "metadata": {},
   "outputs": [
    {
     "name": "stdout",
     "output_type": "stream",
     "text": [
      "<class 'pandas.core.frame.DataFrame'>\n",
      "Index: 4418 entries, 0 to 5149\n",
      "Data columns (total 23 columns):\n",
      " #   Column                     Non-Null Count  Dtype  \n",
      "---  ------                     --------------  -----  \n",
      " 0   titleId                    4418 non-null   object \n",
      " 1   title                      4418 non-null   object \n",
      " 2   averageRating              4418 non-null   float64\n",
      " 3   numVotes                   4418 non-null   float64\n",
      " 4   startYear                  4418 non-null   float64\n",
      " 5   runtimeMinutes             4418 non-null   float64\n",
      " 6   genre1                     4418 non-null   object \n",
      " 7   genre2                     4418 non-null   object \n",
      " 8   popularity                 4418 non-null   float64\n",
      " 9   production_companies_name  4418 non-null   object \n",
      " 10  Director_name              4418 non-null   object \n",
      " 11  actor1                     4418 non-null   object \n",
      " 12  actor2                     4418 non-null   object \n",
      " 13  actor3                     4418 non-null   object \n",
      " 14  actor4                     4418 non-null   object \n",
      " 15  actor5                     4418 non-null   object \n",
      " 16  actor6                     4418 non-null   object \n",
      " 17  actor7                     4418 non-null   object \n",
      " 18  actor8                     4418 non-null   object \n",
      " 19  actor9                     4418 non-null   object \n",
      " 20  actor10                    4418 non-null   object \n",
      " 21  decade                     4418 non-null   float64\n",
      " 22  actors                     4418 non-null   object \n",
      "dtypes: float64(6), object(17)\n",
      "memory usage: 828.4+ KB\n"
     ]
    }
   ],
   "source": [
    "df_merged.info()"
   ]
  },
  {
   "cell_type": "code",
   "execution_count": 62,
   "metadata": {},
   "outputs": [
    {
     "data": {
      "text/plain": [
       "156.0"
      ]
     },
     "execution_count": 62,
     "metadata": {},
     "output_type": "execute_result"
    }
   ],
   "source": [
    "# Moyenne durée des 20 films les mieux notés\n",
    "df_mean_avg = df_sorted_avg['runtimeMinutes'].head(20).mean()\n",
    "df_mean_avg = df_mean_avg.round()\n",
    "df_mean_avg"
   ]
  },
  {
   "cell_type": "code",
   "execution_count": 63,
   "metadata": {},
   "outputs": [
    {
     "data": {
      "image/png": "[encoded data removed]",
      "text/plain": [
       "<Figure size 1200x600 with 1 Axes>"
      ]
     },
     "metadata": {},
     "output_type": "display_data"
    }
   ],
   "source": [
    "# Top 10 des films les plus votés\n",
    "df_sorted_numVotes = df_merged.sort_values(by='numVotes', ascending=False).head(10)\n",
    "\n",
    "# Fonction de formatage des ticks\n",
    "def thousands_formatter(x, pos):\n",
    "    return f'{int(x/1000000)}M'\n",
    "\n",
    "# Création du graphique\n",
    "plt.figure(figsize=(12, 6))\n",
    "plt.bar(df_sorted_numVotes['title'], df_sorted_numVotes['numVotes'], color='skyblue')\n",
    "plt.xlabel('Film')\n",
    "plt.ylabel('Nombre de votes')\n",
    "plt.title('Top 10 des films les plus votés')\n",
    "plt.xticks(rotation=45, ha='right')\n",
    "plt.gca().yaxis.set_major_formatter(FuncFormatter(thousands_formatter))\n",
    "plt.tight_layout()\n",
    "plt.show()"
   ]
  },
  {
   "cell_type": "code",
   "execution_count": 64,
   "metadata": {},
   "outputs": [
    {
     "data": {
      "image/png": "[encoded data removed]",
      "text/plain": [
       "<Figure size 1200x600 with 1 Axes>"
      ]
     },
     "metadata": {},
     "output_type": "display_data"
    }
   ],
   "source": [
    "# 1. Note moyenne par genre\n",
    "avg_rating_by_genre = df_merged.groupby('genre1')['averageRating'].mean().reset_index()\n",
    "avg_rating_by_genre = avg_rating_by_genre.sort_values(by='averageRating', ascending=False)\n",
    "\n",
    "plt.figure(figsize=(12, 6))\n",
    "sns.barplot(x='genre1', y='averageRating', data=avg_rating_by_genre)\n",
    "plt.title('Note moyenne par genre')\n",
    "plt.xlabel('Genre')\n",
    "plt.ylabel('Note moyenne')\n",
    "plt.xticks(rotation=45)\n",
    "plt.show()"
   ]
  },
  {
   "cell_type": "code",
   "execution_count": 65,
   "metadata": {},
   "outputs": [
    {
     "data": {
      "image/png": "[encoded data removed]",
      "text/plain": [
       "<Figure size 1200x600 with 1 Axes>"
      ]
     },
     "metadata": {},
     "output_type": "display_data"
    }
   ],
   "source": [
    "# 3. Temps de visionnage moyen par production\n",
    "runtime_by_production = df_merged.groupby('genre1')['runtimeMinutes'].mean().reset_index()\n",
    "runtime_by_production = runtime_by_production.sort_values(by='runtimeMinutes', ascending=False)\n",
    "\n",
    "plt.figure(figsize=(12, 6))\n",
    "sns.barplot(x='runtimeMinutes', y='genre1', data=runtime_by_production)\n",
    "plt.title('Durée moyenne des films par genre')\n",
    "plt.xlabel('Durée moyenne (minutes)')\n",
    "plt.ylabel('Categorie de film')\n",
    "plt.show()"
   ]
  },
  {
   "cell_type": "code",
   "execution_count": 66,
   "metadata": {},
   "outputs": [
    {
     "data": {
      "image/png": "[encoded data removed]",
      "text/plain": [
       "<Figure size 1200x600 with 1 Axes>"
      ]
     },
     "metadata": {},
     "output_type": "display_data"
    }
   ],
   "source": [
    "# 4. Votes moyens par année de sortie\n",
    "votes_by_year = df_merged.groupby('startYear')['numVotes'].mean().reset_index()\n",
    "votes_by_year = votes_by_year.sort_values(by='startYear')\n",
    "\n",
    "# Fonction de formatage des ticks\n",
    "def thousands_format(x, pos):\n",
    "    return f'{int(x/1000)}k'\n",
    "\n",
    "plt.figure(figsize=(12, 6))\n",
    "sns.lineplot(x='startYear', y='numVotes', data=votes_by_year, marker='o')\n",
    "plt.title('Nombre moyen de votes par année de sortie')\n",
    "plt.xlabel('Année de sortie')\n",
    "plt.ylabel('Nombre moyen de votes')\n",
    "plt.gca().yaxis.set_major_formatter(FuncFormatter(thousands_format))\n",
    "plt.show()"
   ]
  },
  {
   "cell_type": "code",
   "execution_count": 67,
   "metadata": {},
   "outputs": [
    {
     "data": {
      "image/png": "[encoded data removed]",
      "text/plain": [
       "<Figure size 1000x600 with 1 Axes>"
      ]
     },
     "metadata": {},
     "output_type": "display_data"
    }
   ],
   "source": [
    "# Ajouter les années et leur genre de predilection dominant top 5\n",
    "# faire un graphique des meilleures réalisateurs par films a succés\n",
    "top_directors = df_merged['Director_name'].value_counts().head(10)\n",
    "plt.figure(figsize=(10, 6))\n",
    "plt.pie(top_directors, labels=top_directors.index, autopct='%1.1f%%', startangle=140)\n",
    "plt.title('Répartition des réalisateurs les plus prolifiques')\n",
    "plt.show()"
   ]
  },
  {
   "cell_type": "code",
   "execution_count": null,
   "metadata": {},
   "outputs": [],
   "source": [
    "# Les acteurs et actrices les plus sollicités\n",
    "titleId\ttitle\taverageRating\tnumVotes\tstartYear\truntimeMinutes\tgenre1\tgenre2\tpopularity\tproduction_companies_name\t...\tactor1\tactor2\tactor3\tactor4\tactor5\tactor6\tactor7\tactor8\tactor9\tactor10\n",
    "\n"
   ]
  },
  {
   "cell_type": "code",
   "execution_count": 70,
   "metadata": {},
   "outputs": [
    {
     "name": "stdout",
     "output_type": "stream",
     "text": [
      "Les 10 acteurs/actrices les plus sollicités :\n",
      " Robert De Niro       49.0\n",
      "Samuel L. Jackson    43.0\n",
      "Brad Pitt            38.0\n",
      "Morgan Freeman       36.0\n",
      "Denzel Washington    35.0\n",
      "Willem Dafoe         35.0\n",
      "Mark Wahlberg        35.0\n",
      "Cate Blanchett       34.0\n",
      "Christian Bale       34.0\n",
      "Liam Neeson          34.0\n",
      "dtype: float64\n"
     ]
    }
   ],
   "source": [
    "# Créer une liste de toutes les colonnes d'acteurs/actrices\n",
    "actor_columns = ['actor1', 'actor2', 'actor3', 'actor4', 'actor5', 'actor6', 'actor7', 'actor8', 'actor9', 'actor10']\n",
    "\n",
    "# Compter le nombre de fois où chaque acteur/actrice apparaît dans les colonnes\n",
    "actor_counts = pd.Series(dtype=int)\n",
    "for col in actor_columns:\n",
    "    actor_counts = actor_counts.add(df_merged[col].value_counts(), fill_value=0)\n",
    "\n",
    "# Trier les acteurs/actrices par leur fréquence d'apparition\n",
    "top_actors = actor_counts.sort_values(ascending=False).head(10)\n",
    "\n",
    "# Visualiser les résultats\n",
    "print(\"Les 10 acteurs/actrices les plus sollicités :\\n\", top_actors)\n"
   ]
  },
  {
   "cell_type": "code",
   "execution_count": null,
   "metadata": {},
   "outputs": [
    {
     "data": {
      "image/png": "[encoded data removed]",
      "text/plain": [
       "<Figure size 1200x600 with 1 Axes>"
      ]
     },
     "metadata": {},
     "output_type": "display_data"
    }
   ],
   "source": [
    "# Diagramme en barres pour les acteurs les plus sollicités\n",
    "plt.figure(figsize=(12, 6))\n",
    "sns.barplot(x=count_actors.head(20).values, y=count_actors.head(20).index)\n",
    "plt.title('Acteurs et actrices les plus sollicités')\n",
    "plt.xlabel('Nombre de films')\n",
    "plt.ylabel('Acteur/Actrice')\n",
    "plt.tick_params(axis='y', labelsize=7)\n",
    "plt.show()\n",
    "\n",
    "\n",
    "# TRIER LES ACTEURS PAR NOMBRE DE FILMS LES PLUS SOLICITES ET LES ANNÉES \n",
    "\n"
   ]
  },
  {
   "cell_type": "code",
   "execution_count": null,
   "metadata": {},
   "outputs": [
    {
     "data": {
      "image/png": "[encoded data removed]",
      "text/plain": [
       "<Figure size 1000x600 with 1 Axes>"
      ]
     },
     "metadata": {},
     "output_type": "display_data"
    }
   ],
   "source": [
    "# Compagnies de production les plus populaires\n",
    "# les réalisateurs les plus sollicités\n",
    "# Ajouter les années\n",
    "# faire un graphique des meilleures réalisateurs par films a succés\n",
    "top_directors = df_merged['production_companies_name'].value_counts().head(10)\n",
    "plt.figure(figsize=(10, 6))\n",
    "plt.pie(top_directors, labels=top_directors.index, autopct='%1.1f%%', startangle=140)\n",
    "plt.title('Répartition des maisons de production ')\n",
    "plt.show()\n"
   ]
  },
  {
   "cell_type": "code",
   "execution_count": null,
   "metadata": {},
   "outputs": [
    {
     "data": {
      "image/png": "[encoded data removed]",
      "text/plain": [
       "<Figure size 1200x800 with 1 Axes>"
      ]
     },
     "metadata": {},
     "output_type": "display_data"
    }
   ],
   "source": [
    "genero1_counts = df_merged['genre1'].value_counts()\n",
    "genero2_counts = df_merged['genre2'].value_counts()\n",
    "\n",
    "#Combinando os índices de ambas as séries para garantir que todos os gêneros estejam presentes\n",
    "index = genero1_counts.index.union(genero2_counts.index)\n",
    "\n",
    "#Preenchendo os valores ausentes com 0\n",
    "genero1_counts = genero1_counts.reindex(index, fill_value=0)\n",
    "genero2_counts = genero2_counts.reindex(index, fill_value=0)\n",
    "\n",
    "#Plotando o gráfico de barras\n",
    "fig, ax = plt.subplots()\n",
    "\n",
    "#Configurando a largura das barras\n",
    "bar_width = 0.5\n",
    "\n",
    "#Calculando a posição das barras\n",
    "x = range(len(index))\n",
    "\n",
    "#Plotando as barras para Genero1\n",
    "bars1 = ax.bar(x, genero1_counts.values, bar_width, label='Genre Principal')\n",
    "\n",
    "#Plotando as barras para Genero2 com um deslocamento de bar_width\n",
    "bars2 = ax.bar([i + bar_width for i in x], genero2_counts.values, bar_width, label='Genre secondaire')\n",
    "\n",
    "#Configurando os rótulos e ticks do eixo x\n",
    "ax.set_xticks([i + bar_width / 2 for i in x])\n",
    "ax.set_xticklabels(index, rotation=45, ha='right')\n",
    "\n",
    "#Adicionando legendas e rótulos de eixo\n",
    "ax.legend()\n",
    "ax.set_xlabel('Genre 1')\n",
    "ax.set_ylabel('Quantité')\n",
    "ax.set_title('Quantité de Filmes pour chaque Genres')\n",
    "\n",
    "plt.show()"
   ]
  },
  {
   "cell_type": "code",
   "execution_count": null,
   "metadata": {},
   "outputs": [
    {
     "name": "stderr",
     "output_type": "stream",
     "text": [
      "C:\\Users\\pnii\\AppData\\Local\\Temp\\ipykernel_25860\\3363441023.py:9: SettingWithCopyWarning:\n",
      "\n",
      "\n",
      "A value is trying to be set on a copy of a slice from a DataFrame.\n",
      "Try using .loc[row_indexer,col_indexer] = value instead\n",
      "\n",
      "See the caveats in the documentation: https://pandas.pydata.org/pandas-docs/stable/user_guide/indexing.html#returning-a-view-versus-a-copy\n",
      "\n"
     ]
    },
    {
     "data": {
      "application/vnd.plotly.v1+json": {
       "config": {
        "plotlyServerURL": "https://plot.ly"
       },
       "data": [
        {
         "alignmentgroup": "True",
         "hovertemplate": "genre1=%{x}<br>decade=1960<br>total_genre=%{y}<extra></extra>",
         "legendgroup": "Action",
         "marker": {
          "color": "#636efa",
          "pattern": {
           "shape": ""
          }
         },
         "name": "Action",
         "offsetgroup": "Action",
         "orientation": "v",
         "showlegend": true,
         "textposition": "auto",
         "type": "bar",
         "x": [
          "Action"
         ],
         "xaxis": "x",
         "y": [
          34
         ],
         "yaxis": "y"
        },
        {
         "alignmentgroup": "True",
         "hovertemplate": "genre1=%{x}<br>decade=1960<br>total_genre=%{y}<extra></extra>",
         "legendgroup": "Adventure",
         "marker": {
          "color": "#EF553B",
          "pattern": {
           "shape": ""
          }
         },
         "name": "Adventure",
         "offsetgroup": "Adventure",
         "orientation": "v",
         "showlegend": true,
         "textposition": "auto",
         "type": "bar",
         "x": [
          "Adventure"
         ],
         "xaxis": "x",
         "y": [
          26
         ],
         "yaxis": "y"
        },
        {
         "alignmentgroup": "True",
         "hovertemplate": "genre1=%{x}<br>decade=1960<br>total_genre=%{y}<extra></extra>",
         "legendgroup": "Biography",
         "marker": {
          "color": "#00cc96",
          "pattern": {
           "shape": ""
          }
         },
         "name": "Biography",
         "offsetgroup": "Biography",
         "orientation": "v",
         "showlegend": true,
         "textposition": "auto",
         "type": "bar",
         "x": [
          "Biography"
         ],
         "xaxis": "x",
         "y": [
          13
         ],
         "yaxis": "y"
        },
        {
         "alignmentgroup": "True",
         "hovertemplate": "genre1=%{x}<br>decade=1960<br>total_genre=%{y}<extra></extra>",
         "legendgroup": "Comedy",
         "marker": {
          "color": "#ab63fa",
          "pattern": {
           "shape": ""
          }
         },
         "name": "Comedy",
         "offsetgroup": "Comedy",
         "orientation": "v",
         "showlegend": true,
         "textposition": "auto",
         "type": "bar",
         "x": [
          "Comedy"
         ],
         "xaxis": "x",
         "y": [
          31
         ],
         "yaxis": "y"
        },
        {
         "alignmentgroup": "True",
         "hovertemplate": "genre1=%{x}<br>decade=1960<br>total_genre=%{y}<extra></extra>",
         "legendgroup": "Crime",
         "marker": {
          "color": "#FFA15A",
          "pattern": {
           "shape": ""
          }
         },
         "name": "Crime",
         "offsetgroup": "Crime",
         "orientation": "v",
         "showlegend": true,
         "textposition": "auto",
         "type": "bar",
         "x": [
          "Crime"
         ],
         "xaxis": "x",
         "y": [
          15
         ],
         "yaxis": "y"
        },
        {
         "alignmentgroup": "True",
         "hovertemplate": "genre1=%{x}<br>decade=1960<br>total_genre=%{y}<extra></extra>",
         "legendgroup": "Drama",
         "marker": {
          "color": "#19d3f3",
          "pattern": {
           "shape": ""
          }
         },
         "name": "Drama",
         "offsetgroup": "Drama",
         "orientation": "v",
         "showlegend": true,
         "textposition": "auto",
         "type": "bar",
         "x": [
          "Drama"
         ],
         "xaxis": "x",
         "y": [
          59
         ],
         "yaxis": "y"
        },
        {
         "alignmentgroup": "True",
         "hovertemplate": "genre1=%{x}<br>decade=1960<br>total_genre=%{y}<extra></extra>",
         "legendgroup": "Horror",
         "marker": {
          "color": "#FF6692",
          "pattern": {
           "shape": ""
          }
         },
         "name": "Horror",
         "offsetgroup": "Horror",
         "orientation": "v",
         "showlegend": true,
         "textposition": "auto",
         "type": "bar",
         "x": [
          "Horror"
         ],
         "xaxis": "x",
         "y": [
          2
         ],
         "yaxis": "y"
        },
        {
         "alignmentgroup": "True",
         "hovertemplate": "genre1=%{x}<br>decade=1960<br>total_genre=%{y}<extra></extra>",
         "legendgroup": "Thriller",
         "marker": {
          "color": "#B6E880",
          "pattern": {
           "shape": ""
          }
         },
         "name": "Thriller",
         "offsetgroup": "Thriller",
         "orientation": "v",
         "showlegend": true,
         "textposition": "auto",
         "type": "bar",
         "x": [
          "Thriller"
         ],
         "xaxis": "x",
         "y": [
          1
         ],
         "yaxis": "y"
        },
        {
         "alignmentgroup": "True",
         "hovertemplate": "genre1=%{x}<br>decade=1960<br>total_genre=%{y}<extra></extra>",
         "legendgroup": "Western",
         "marker": {
          "color": "#FF97FF",
          "pattern": {
           "shape": ""
          }
         },
         "name": "Western",
         "offsetgroup": "Western",
         "orientation": "v",
         "showlegend": true,
         "textposition": "auto",
         "type": "bar",
         "x": [
          "Western"
         ],
         "xaxis": "x",
         "y": [
          3
         ],
         "yaxis": "y"
        }
       ],
       "frames": [
        {
         "data": [
          {
           "alignmentgroup": "True",
           "hovertemplate": "genre1=%{x}<br>decade=1960<br>total_genre=%{y}<extra></extra>",
           "legendgroup": "Action",
           "marker": {
            "color": "#636efa",
            "pattern": {
             "shape": ""
            }
           },
           "name": "Action",
           "offsetgroup": "Action",
           "orientation": "v",
           "showlegend": true,
           "textposition": "auto",
           "type": "bar",
           "x": [
            "Action"
           ],
           "xaxis": "x",
           "y": [
            34
           ],
           "yaxis": "y"
          },
          {
           "alignmentgroup": "True",
           "hovertemplate": "genre1=%{x}<br>decade=1960<br>total_genre=%{y}<extra></extra>",
           "legendgroup": "Adventure",
           "marker": {
            "color": "#EF553B",
            "pattern": {
             "shape": ""
            }
           },
           "name": "Adventure",
           "offsetgroup": "Adventure",
           "orientation": "v",
           "showlegend": true,
           "textposition": "auto",
           "type": "bar",
           "x": [
            "Adventure"
           ],
           "xaxis": "x",
           "y": [
            26
           ],
           "yaxis": "y"
          },
          {
           "alignmentgroup": "True",
           "hovertemplate": "genre1=%{x}<br>decade=1960<br>total_genre=%{y}<extra></extra>",
           "legendgroup": "Biography",
           "marker": {
            "color": "#00cc96",
            "pattern": {
             "shape": ""
            }
           },
           "name": "Biography",
           "offsetgroup": "Biography",
           "orientation": "v",
           "showlegend": true,
           "textposition": "auto",
           "type": "bar",
           "x": [
            "Biography"
           ],
           "xaxis": "x",
           "y": [
            13
           ],
           "yaxis": "y"
          },
          {
           "alignmentgroup": "True",
           "hovertemplate": "genre1=%{x}<br>decade=1960<br>total_genre=%{y}<extra></extra>",
           "legendgroup": "Comedy",
           "marker": {
            "color": "#ab63fa",
            "pattern": {
             "shape": ""
            }
           },
           "name": "Comedy",
           "offsetgroup": "Comedy",
           "orientation": "v",
           "showlegend": true,
           "textposition": "auto",
           "type": "bar",
           "x": [
            "Comedy"
           ],
           "xaxis": "x",
           "y": [
            31
           ],
           "yaxis": "y"
          },
          {
           "alignmentgroup": "True",
           "hovertemplate": "genre1=%{x}<br>decade=1960<br>total_genre=%{y}<extra></extra>",
           "legendgroup": "Crime",
           "marker": {
            "color": "#FFA15A",
            "pattern": {
             "shape": ""
            }
           },
           "name": "Crime",
           "offsetgroup": "Crime",
           "orientation": "v",
           "showlegend": true,
           "textposition": "auto",
           "type": "bar",
           "x": [
            "Crime"
           ],
           "xaxis": "x",
           "y": [
            15
           ],
           "yaxis": "y"
          },
          {
           "alignmentgroup": "True",
           "hovertemplate": "genre1=%{x}<br>decade=1960<br>total_genre=%{y}<extra></extra>",
           "legendgroup": "Drama",
           "marker": {
            "color": "#19d3f3",
            "pattern": {
             "shape": ""
            }
           },
           "name": "Drama",
           "offsetgroup": "Drama",
           "orientation": "v",
           "showlegend": true,
           "textposition": "auto",
           "type": "bar",
           "x": [
            "Drama"
           ],
           "xaxis": "x",
           "y": [
            59
           ],
           "yaxis": "y"
          },
          {
           "alignmentgroup": "True",
           "hovertemplate": "genre1=%{x}<br>decade=1960<br>total_genre=%{y}<extra></extra>",
           "legendgroup": "Horror",
           "marker": {
            "color": "#FF6692",
            "pattern": {
             "shape": ""
            }
           },
           "name": "Horror",
           "offsetgroup": "Horror",
           "orientation": "v",
           "showlegend": true,
           "textposition": "auto",
           "type": "bar",
           "x": [
            "Horror"
           ],
           "xaxis": "x",
           "y": [
            2
           ],
           "yaxis": "y"
          },
          {
           "alignmentgroup": "True",
           "hovertemplate": "genre1=%{x}<br>decade=1960<br>total_genre=%{y}<extra></extra>",
           "legendgroup": "Thriller",
           "marker": {
            "color": "#B6E880",
            "pattern": {
             "shape": ""
            }
           },
           "name": "Thriller",
           "offsetgroup": "Thriller",
           "orientation": "v",
           "showlegend": true,
           "textposition": "auto",
           "type": "bar",
           "x": [
            "Thriller"
           ],
           "xaxis": "x",
           "y": [
            1
           ],
           "yaxis": "y"
          },
          {
           "alignmentgroup": "True",
           "hovertemplate": "genre1=%{x}<br>decade=1960<br>total_genre=%{y}<extra></extra>",
           "legendgroup": "Western",
           "marker": {
            "color": "#FF97FF",
            "pattern": {
             "shape": ""
            }
           },
           "name": "Western",
           "offsetgroup": "Western",
           "orientation": "v",
           "showlegend": true,
           "textposition": "auto",
           "type": "bar",
           "x": [
            "Western"
           ],
           "xaxis": "x",
           "y": [
            3
           ],
           "yaxis": "y"
          }
         ],
         "name": "1960"
        },
        {
         "data": [
          {
           "alignmentgroup": "True",
           "hovertemplate": "genre1=%{x}<br>decade=1970<br>total_genre=%{y}<extra></extra>",
           "legendgroup": "Action",
           "marker": {
            "color": "#636efa",
            "pattern": {
             "shape": ""
            }
           },
           "name": "Action",
           "offsetgroup": "Action",
           "orientation": "v",
           "showlegend": true,
           "textposition": "auto",
           "type": "bar",
           "x": [
            "Action"
           ],
           "xaxis": "x",
           "y": [
            61
           ],
           "yaxis": "y"
          },
          {
           "alignmentgroup": "True",
           "hovertemplate": "genre1=%{x}<br>decade=1970<br>total_genre=%{y}<extra></extra>",
           "legendgroup": "Adventure",
           "marker": {
            "color": "#EF553B",
            "pattern": {
             "shape": ""
            }
           },
           "name": "Adventure",
           "offsetgroup": "Adventure",
           "orientation": "v",
           "showlegend": true,
           "textposition": "auto",
           "type": "bar",
           "x": [
            "Adventure"
           ],
           "xaxis": "x",
           "y": [
            25
           ],
           "yaxis": "y"
          },
          {
           "alignmentgroup": "True",
           "hovertemplate": "genre1=%{x}<br>decade=1970<br>total_genre=%{y}<extra></extra>",
           "legendgroup": "Biography",
           "marker": {
            "color": "#00cc96",
            "pattern": {
             "shape": ""
            }
           },
           "name": "Biography",
           "offsetgroup": "Biography",
           "orientation": "v",
           "showlegend": true,
           "textposition": "auto",
           "type": "bar",
           "x": [
            "Biography"
           ],
           "xaxis": "x",
           "y": [
            8
           ],
           "yaxis": "y"
          },
          {
           "alignmentgroup": "True",
           "hovertemplate": "genre1=%{x}<br>decade=1970<br>total_genre=%{y}<extra></extra>",
           "legendgroup": "Comedy",
           "marker": {
            "color": "#ab63fa",
            "pattern": {
             "shape": ""
            }
           },
           "name": "Comedy",
           "offsetgroup": "Comedy",
           "orientation": "v",
           "showlegend": true,
           "textposition": "auto",
           "type": "bar",
           "x": [
            "Comedy"
           ],
           "xaxis": "x",
           "y": [
            44
           ],
           "yaxis": "y"
          },
          {
           "alignmentgroup": "True",
           "hovertemplate": "genre1=%{x}<br>decade=1970<br>total_genre=%{y}<extra></extra>",
           "legendgroup": "Crime",
           "marker": {
            "color": "#FFA15A",
            "pattern": {
             "shape": ""
            }
           },
           "name": "Crime",
           "offsetgroup": "Crime",
           "orientation": "v",
           "showlegend": true,
           "textposition": "auto",
           "type": "bar",
           "x": [
            "Crime"
           ],
           "xaxis": "x",
           "y": [
            18
           ],
           "yaxis": "y"
          },
          {
           "alignmentgroup": "True",
           "hovertemplate": "genre1=%{x}<br>decade=1970<br>total_genre=%{y}<extra></extra>",
           "legendgroup": "Drama",
           "marker": {
            "color": "#19d3f3",
            "pattern": {
             "shape": ""
            }
           },
           "name": "Drama",
           "offsetgroup": "Drama",
           "orientation": "v",
           "showlegend": true,
           "textposition": "auto",
           "type": "bar",
           "x": [
            "Drama"
           ],
           "xaxis": "x",
           "y": [
            68
           ],
           "yaxis": "y"
          },
          {
           "alignmentgroup": "True",
           "hovertemplate": "genre1=%{x}<br>decade=1970<br>total_genre=%{y}<extra></extra>",
           "legendgroup": "Horror",
           "marker": {
            "color": "#FF6692",
            "pattern": {
             "shape": ""
            }
           },
           "name": "Horror",
           "offsetgroup": "Horror",
           "orientation": "v",
           "showlegend": true,
           "textposition": "auto",
           "type": "bar",
           "x": [
            "Horror"
           ],
           "xaxis": "x",
           "y": [
            18
           ],
           "yaxis": "y"
          },
          {
           "alignmentgroup": "True",
           "hovertemplate": "genre1=%{x}<br>decade=1970<br>total_genre=%{y}<extra></extra>",
           "legendgroup": "Thriller",
           "marker": {
            "color": "#B6E880",
            "pattern": {
             "shape": ""
            }
           },
           "name": "Thriller",
           "offsetgroup": "Thriller",
           "orientation": "v",
           "showlegend": true,
           "textposition": "auto",
           "type": "bar",
           "x": [
            "Thriller"
           ],
           "xaxis": "x",
           "y": [
            1
           ],
           "yaxis": "y"
          },
          {
           "alignmentgroup": "True",
           "hovertemplate": "genre1=%{x}<br>decade=1970<br>total_genre=%{y}<extra></extra>",
           "legendgroup": "Western",
           "marker": {
            "color": "#FF97FF",
            "pattern": {
             "shape": ""
            }
           },
           "name": "Western",
           "offsetgroup": "Western",
           "orientation": "v",
           "showlegend": true,
           "textposition": "auto",
           "type": "bar",
           "x": [
            "Western"
           ],
           "xaxis": "x",
           "y": [
            1
           ],
           "yaxis": "y"
          },
          {
           "alignmentgroup": "True",
           "hovertemplate": "genre1=%{x}<br>decade=1970<br>total_genre=%{y}<extra></extra>",
           "legendgroup": "Animation",
           "marker": {
            "color": "#FECB52",
            "pattern": {
             "shape": ""
            }
           },
           "name": "Animation",
           "offsetgroup": "Animation",
           "orientation": "v",
           "showlegend": true,
           "textposition": "auto",
           "type": "bar",
           "x": [
            "Animation"
           ],
           "xaxis": "x",
           "y": [
            1
           ],
           "yaxis": "y"
          },
          {
           "alignmentgroup": "True",
           "hovertemplate": "genre1=%{x}<br>decade=1970<br>total_genre=%{y}<extra></extra>",
           "legendgroup": "Family",
           "marker": {
            "color": "#636efa",
            "pattern": {
             "shape": ""
            }
           },
           "name": "Family",
           "offsetgroup": "Family",
           "orientation": "v",
           "showlegend": true,
           "textposition": "auto",
           "type": "bar",
           "x": [
            "Family"
           ],
           "xaxis": "x",
           "y": [
            1
           ],
           "yaxis": "y"
          },
          {
           "alignmentgroup": "True",
           "hovertemplate": "genre1=%{x}<br>decade=1970<br>total_genre=%{y}<extra></extra>",
           "legendgroup": "Fantasy",
           "marker": {
            "color": "#EF553B",
            "pattern": {
             "shape": ""
            }
           },
           "name": "Fantasy",
           "offsetgroup": "Fantasy",
           "orientation": "v",
           "showlegend": true,
           "textposition": "auto",
           "type": "bar",
           "x": [
            "Fantasy"
           ],
           "xaxis": "x",
           "y": [
            1
           ],
           "yaxis": "y"
          },
          {
           "alignmentgroup": "True",
           "hovertemplate": "genre1=%{x}<br>decade=1970<br>total_genre=%{y}<extra></extra>",
           "legendgroup": "Mystery",
           "marker": {
            "color": "#00cc96",
            "pattern": {
             "shape": ""
            }
           },
           "name": "Mystery",
           "offsetgroup": "Mystery",
           "orientation": "v",
           "showlegend": true,
           "textposition": "auto",
           "type": "bar",
           "x": [
            "Mystery"
           ],
           "xaxis": "x",
           "y": [
            1
           ],
           "yaxis": "y"
          }
         ],
         "name": "1970"
        },
        {
         "data": [
          {
           "alignmentgroup": "True",
           "hovertemplate": "genre1=%{x}<br>decade=1980<br>total_genre=%{y}<extra></extra>",
           "legendgroup": "Action",
           "marker": {
            "color": "#636efa",
            "pattern": {
             "shape": ""
            }
           },
           "name": "Action",
           "offsetgroup": "Action",
           "orientation": "v",
           "showlegend": true,
           "textposition": "auto",
           "type": "bar",
           "x": [
            "Action"
           ],
           "xaxis": "x",
           "y": [
            125
           ],
           "yaxis": "y"
          },
          {
           "alignmentgroup": "True",
           "hovertemplate": "genre1=%{x}<br>decade=1980<br>total_genre=%{y}<extra></extra>",
           "legendgroup": "Adventure",
           "marker": {
            "color": "#EF553B",
            "pattern": {
             "shape": ""
            }
           },
           "name": "Adventure",
           "offsetgroup": "Adventure",
           "orientation": "v",
           "showlegend": true,
           "textposition": "auto",
           "type": "bar",
           "x": [
            "Adventure"
           ],
           "xaxis": "x",
           "y": [
            50
           ],
           "yaxis": "y"
          },
          {
           "alignmentgroup": "True",
           "hovertemplate": "genre1=%{x}<br>decade=1980<br>total_genre=%{y}<extra></extra>",
           "legendgroup": "Biography",
           "marker": {
            "color": "#00cc96",
            "pattern": {
             "shape": ""
            }
           },
           "name": "Biography",
           "offsetgroup": "Biography",
           "orientation": "v",
           "showlegend": true,
           "textposition": "auto",
           "type": "bar",
           "x": [
            "Biography"
           ],
           "xaxis": "x",
           "y": [
            24
           ],
           "yaxis": "y"
          },
          {
           "alignmentgroup": "True",
           "hovertemplate": "genre1=%{x}<br>decade=1980<br>total_genre=%{y}<extra></extra>",
           "legendgroup": "Comedy",
           "marker": {
            "color": "#ab63fa",
            "pattern": {
             "shape": ""
            }
           },
           "name": "Comedy",
           "offsetgroup": "Comedy",
           "orientation": "v",
           "showlegend": true,
           "textposition": "auto",
           "type": "bar",
           "x": [
            "Comedy"
           ],
           "xaxis": "x",
           "y": [
            121
           ],
           "yaxis": "y"
          },
          {
           "alignmentgroup": "True",
           "hovertemplate": "genre1=%{x}<br>decade=1980<br>total_genre=%{y}<extra></extra>",
           "legendgroup": "Crime",
           "marker": {
            "color": "#FFA15A",
            "pattern": {
             "shape": ""
            }
           },
           "name": "Crime",
           "offsetgroup": "Crime",
           "orientation": "v",
           "showlegend": true,
           "textposition": "auto",
           "type": "bar",
           "x": [
            "Crime"
           ],
           "xaxis": "x",
           "y": [
            33
           ],
           "yaxis": "y"
          },
          {
           "alignmentgroup": "True",
           "hovertemplate": "genre1=%{x}<br>decade=1980<br>total_genre=%{y}<extra></extra>",
           "legendgroup": "Drama",
           "marker": {
            "color": "#19d3f3",
            "pattern": {
             "shape": ""
            }
           },
           "name": "Drama",
           "offsetgroup": "Drama",
           "orientation": "v",
           "showlegend": true,
           "textposition": "auto",
           "type": "bar",
           "x": [
            "Drama"
           ],
           "xaxis": "x",
           "y": [
            79
           ],
           "yaxis": "y"
          },
          {
           "alignmentgroup": "True",
           "hovertemplate": "genre1=%{x}<br>decade=1980<br>total_genre=%{y}<extra></extra>",
           "legendgroup": "Horror",
           "marker": {
            "color": "#FF6692",
            "pattern": {
             "shape": ""
            }
           },
           "name": "Horror",
           "offsetgroup": "Horror",
           "orientation": "v",
           "showlegend": true,
           "textposition": "auto",
           "type": "bar",
           "x": [
            "Horror"
           ],
           "xaxis": "x",
           "y": [
            38
           ],
           "yaxis": "y"
          },
          {
           "alignmentgroup": "True",
           "hovertemplate": "genre1=%{x}<br>decade=1980<br>total_genre=%{y}<extra></extra>",
           "legendgroup": "Animation",
           "marker": {
            "color": "#FECB52",
            "pattern": {
             "shape": ""
            }
           },
           "name": "Animation",
           "offsetgroup": "Animation",
           "orientation": "v",
           "showlegend": true,
           "textposition": "auto",
           "type": "bar",
           "x": [
            "Animation"
           ],
           "xaxis": "x",
           "y": [
            3
           ],
           "yaxis": "y"
          },
          {
           "alignmentgroup": "True",
           "hovertemplate": "genre1=%{x}<br>decade=1980<br>total_genre=%{y}<extra></extra>",
           "legendgroup": "Family",
           "marker": {
            "color": "#636efa",
            "pattern": {
             "shape": ""
            }
           },
           "name": "Family",
           "offsetgroup": "Family",
           "orientation": "v",
           "showlegend": true,
           "textposition": "auto",
           "type": "bar",
           "x": [
            "Family"
           ],
           "xaxis": "x",
           "y": [
            1
           ],
           "yaxis": "y"
          },
          {
           "alignmentgroup": "True",
           "hovertemplate": "genre1=%{x}<br>decade=1980<br>total_genre=%{y}<extra></extra>",
           "legendgroup": "Fantasy",
           "marker": {
            "color": "#EF553B",
            "pattern": {
             "shape": ""
            }
           },
           "name": "Fantasy",
           "offsetgroup": "Fantasy",
           "orientation": "v",
           "showlegend": true,
           "textposition": "auto",
           "type": "bar",
           "x": [
            "Fantasy"
           ],
           "xaxis": "x",
           "y": [
            5
           ],
           "yaxis": "y"
          },
          {
           "alignmentgroup": "True",
           "hovertemplate": "genre1=%{x}<br>decade=1980<br>total_genre=%{y}<extra></extra>",
           "legendgroup": "Mystery",
           "marker": {
            "color": "#00cc96",
            "pattern": {
             "shape": ""
            }
           },
           "name": "Mystery",
           "offsetgroup": "Mystery",
           "orientation": "v",
           "showlegend": true,
           "textposition": "auto",
           "type": "bar",
           "x": [
            "Mystery"
           ],
           "xaxis": "x",
           "y": [
            1
           ],
           "yaxis": "y"
          },
          {
           "alignmentgroup": "True",
           "hovertemplate": "genre1=%{x}<br>decade=1980<br>total_genre=%{y}<extra></extra>",
           "legendgroup": "Romance",
           "marker": {
            "color": "#ab63fa",
            "pattern": {
             "shape": ""
            }
           },
           "name": "Romance",
           "offsetgroup": "Romance",
           "orientation": "v",
           "showlegend": true,
           "textposition": "auto",
           "type": "bar",
           "x": [
            "Romance"
           ],
           "xaxis": "x",
           "y": [
            1
           ],
           "yaxis": "y"
          }
         ],
         "name": "1980"
        },
        {
         "data": [
          {
           "alignmentgroup": "True",
           "hovertemplate": "genre1=%{x}<br>decade=1990<br>total_genre=%{y}<extra></extra>",
           "legendgroup": "Action",
           "marker": {
            "color": "#636efa",
            "pattern": {
             "shape": ""
            }
           },
           "name": "Action",
           "offsetgroup": "Action",
           "orientation": "v",
           "showlegend": true,
           "textposition": "auto",
           "type": "bar",
           "x": [
            "Action"
           ],
           "xaxis": "x",
           "y": [
            196
           ],
           "yaxis": "y"
          },
          {
           "alignmentgroup": "True",
           "hovertemplate": "genre1=%{x}<br>decade=1990<br>total_genre=%{y}<extra></extra>",
           "legendgroup": "Adventure",
           "marker": {
            "color": "#EF553B",
            "pattern": {
             "shape": ""
            }
           },
           "name": "Adventure",
           "offsetgroup": "Adventure",
           "orientation": "v",
           "showlegend": true,
           "textposition": "auto",
           "type": "bar",
           "x": [
            "Adventure"
           ],
           "xaxis": "x",
           "y": [
            45
           ],
           "yaxis": "y"
          },
          {
           "alignmentgroup": "True",
           "hovertemplate": "genre1=%{x}<br>decade=1990<br>total_genre=%{y}<extra></extra>",
           "legendgroup": "Biography",
           "marker": {
            "color": "#00cc96",
            "pattern": {
             "shape": ""
            }
           },
           "name": "Biography",
           "offsetgroup": "Biography",
           "orientation": "v",
           "showlegend": true,
           "textposition": "auto",
           "type": "bar",
           "x": [
            "Biography"
           ],
           "xaxis": "x",
           "y": [
            43
           ],
           "yaxis": "y"
          },
          {
           "alignmentgroup": "True",
           "hovertemplate": "genre1=%{x}<br>decade=1990<br>total_genre=%{y}<extra></extra>",
           "legendgroup": "Comedy",
           "marker": {
            "color": "#ab63fa",
            "pattern": {
             "shape": ""
            }
           },
           "name": "Comedy",
           "offsetgroup": "Comedy",
           "orientation": "v",
           "showlegend": true,
           "textposition": "auto",
           "type": "bar",
           "x": [
            "Comedy"
           ],
           "xaxis": "x",
           "y": [
            178
           ],
           "yaxis": "y"
          },
          {
           "alignmentgroup": "True",
           "hovertemplate": "genre1=%{x}<br>decade=1990<br>total_genre=%{y}<extra></extra>",
           "legendgroup": "Crime",
           "marker": {
            "color": "#FFA15A",
            "pattern": {
             "shape": ""
            }
           },
           "name": "Crime",
           "offsetgroup": "Crime",
           "orientation": "v",
           "showlegend": true,
           "textposition": "auto",
           "type": "bar",
           "x": [
            "Crime"
           ],
           "xaxis": "x",
           "y": [
            87
           ],
           "yaxis": "y"
          },
          {
           "alignmentgroup": "True",
           "hovertemplate": "genre1=%{x}<br>decade=1990<br>total_genre=%{y}<extra></extra>",
           "legendgroup": "Drama",
           "marker": {
            "color": "#19d3f3",
            "pattern": {
             "shape": ""
            }
           },
           "name": "Drama",
           "offsetgroup": "Drama",
           "orientation": "v",
           "showlegend": true,
           "textposition": "auto",
           "type": "bar",
           "x": [
            "Drama"
           ],
           "xaxis": "x",
           "y": [
            163
           ],
           "yaxis": "y"
          },
          {
           "alignmentgroup": "True",
           "hovertemplate": "genre1=%{x}<br>decade=1990<br>total_genre=%{y}<extra></extra>",
           "legendgroup": "Horror",
           "marker": {
            "color": "#FF6692",
            "pattern": {
             "shape": ""
            }
           },
           "name": "Horror",
           "offsetgroup": "Horror",
           "orientation": "v",
           "showlegend": true,
           "textposition": "auto",
           "type": "bar",
           "x": [
            "Horror"
           ],
           "xaxis": "x",
           "y": [
            14
           ],
           "yaxis": "y"
          },
          {
           "alignmentgroup": "True",
           "hovertemplate": "genre1=%{x}<br>decade=1990<br>total_genre=%{y}<extra></extra>",
           "legendgroup": "Thriller",
           "marker": {
            "color": "#B6E880",
            "pattern": {
             "shape": ""
            }
           },
           "name": "Thriller",
           "offsetgroup": "Thriller",
           "orientation": "v",
           "showlegend": true,
           "textposition": "auto",
           "type": "bar",
           "x": [
            "Thriller"
           ],
           "xaxis": "x",
           "y": [
            1
           ],
           "yaxis": "y"
          },
          {
           "alignmentgroup": "True",
           "hovertemplate": "genre1=%{x}<br>decade=1990<br>total_genre=%{y}<extra></extra>",
           "legendgroup": "Animation",
           "marker": {
            "color": "#FECB52",
            "pattern": {
             "shape": ""
            }
           },
           "name": "Animation",
           "offsetgroup": "Animation",
           "orientation": "v",
           "showlegend": true,
           "textposition": "auto",
           "type": "bar",
           "x": [
            "Animation"
           ],
           "xaxis": "x",
           "y": [
            4
           ],
           "yaxis": "y"
          },
          {
           "alignmentgroup": "True",
           "hovertemplate": "genre1=%{x}<br>decade=1990<br>total_genre=%{y}<extra></extra>",
           "legendgroup": "Fantasy",
           "marker": {
            "color": "#EF553B",
            "pattern": {
             "shape": ""
            }
           },
           "name": "Fantasy",
           "offsetgroup": "Fantasy",
           "orientation": "v",
           "showlegend": true,
           "textposition": "auto",
           "type": "bar",
           "x": [
            "Fantasy"
           ],
           "xaxis": "x",
           "y": [
            3
           ],
           "yaxis": "y"
          },
          {
           "alignmentgroup": "True",
           "hovertemplate": "genre1=%{x}<br>decade=1990<br>total_genre=%{y}<extra></extra>",
           "legendgroup": "Mystery",
           "marker": {
            "color": "#00cc96",
            "pattern": {
             "shape": ""
            }
           },
           "name": "Mystery",
           "offsetgroup": "Mystery",
           "orientation": "v",
           "showlegend": true,
           "textposition": "auto",
           "type": "bar",
           "x": [
            "Mystery"
           ],
           "xaxis": "x",
           "y": [
            5
           ],
           "yaxis": "y"
          },
          {
           "alignmentgroup": "True",
           "hovertemplate": "genre1=%{x}<br>decade=1990<br>total_genre=%{y}<extra></extra>",
           "legendgroup": "Documentary",
           "marker": {
            "color": "#FFA15A",
            "pattern": {
             "shape": ""
            }
           },
           "name": "Documentary",
           "offsetgroup": "Documentary",
           "orientation": "v",
           "showlegend": true,
           "textposition": "auto",
           "type": "bar",
           "x": [
            "Documentary"
           ],
           "xaxis": "x",
           "y": [
            1
           ],
           "yaxis": "y"
          }
         ],
         "name": "1990"
        },
        {
         "data": [
          {
           "alignmentgroup": "True",
           "hovertemplate": "genre1=%{x}<br>decade=2000<br>total_genre=%{y}<extra></extra>",
           "legendgroup": "Action",
           "marker": {
            "color": "#636efa",
            "pattern": {
             "shape": ""
            }
           },
           "name": "Action",
           "offsetgroup": "Action",
           "orientation": "v",
           "showlegend": true,
           "textposition": "auto",
           "type": "bar",
           "x": [
            "Action"
           ],
           "xaxis": "x",
           "y": [
            316
           ],
           "yaxis": "y"
          },
          {
           "alignmentgroup": "True",
           "hovertemplate": "genre1=%{x}<br>decade=2000<br>total_genre=%{y}<extra></extra>",
           "legendgroup": "Adventure",
           "marker": {
            "color": "#EF553B",
            "pattern": {
             "shape": ""
            }
           },
           "name": "Adventure",
           "offsetgroup": "Adventure",
           "orientation": "v",
           "showlegend": true,
           "textposition": "auto",
           "type": "bar",
           "x": [
            "Adventure"
           ],
           "xaxis": "x",
           "y": [
            75
           ],
           "yaxis": "y"
          },
          {
           "alignmentgroup": "True",
           "hovertemplate": "genre1=%{x}<br>decade=2000<br>total_genre=%{y}<extra></extra>",
           "legendgroup": "Biography",
           "marker": {
            "color": "#00cc96",
            "pattern": {
             "shape": ""
            }
           },
           "name": "Biography",
           "offsetgroup": "Biography",
           "orientation": "v",
           "showlegend": true,
           "textposition": "auto",
           "type": "bar",
           "x": [
            "Biography"
           ],
           "xaxis": "x",
           "y": [
            88
           ],
           "yaxis": "y"
          },
          {
           "alignmentgroup": "True",
           "hovertemplate": "genre1=%{x}<br>decade=2000<br>total_genre=%{y}<extra></extra>",
           "legendgroup": "Comedy",
           "marker": {
            "color": "#ab63fa",
            "pattern": {
             "shape": ""
            }
           },
           "name": "Comedy",
           "offsetgroup": "Comedy",
           "orientation": "v",
           "showlegend": true,
           "textposition": "auto",
           "type": "bar",
           "x": [
            "Comedy"
           ],
           "xaxis": "x",
           "y": [
            236
           ],
           "yaxis": "y"
          },
          {
           "alignmentgroup": "True",
           "hovertemplate": "genre1=%{x}<br>decade=2000<br>total_genre=%{y}<extra></extra>",
           "legendgroup": "Crime",
           "marker": {
            "color": "#FFA15A",
            "pattern": {
             "shape": ""
            }
           },
           "name": "Crime",
           "offsetgroup": "Crime",
           "orientation": "v",
           "showlegend": true,
           "textposition": "auto",
           "type": "bar",
           "x": [
            "Crime"
           ],
           "xaxis": "x",
           "y": [
            113
           ],
           "yaxis": "y"
          },
          {
           "alignmentgroup": "True",
           "hovertemplate": "genre1=%{x}<br>decade=2000<br>total_genre=%{y}<extra></extra>",
           "legendgroup": "Drama",
           "marker": {
            "color": "#19d3f3",
            "pattern": {
             "shape": ""
            }
           },
           "name": "Drama",
           "offsetgroup": "Drama",
           "orientation": "v",
           "showlegend": true,
           "textposition": "auto",
           "type": "bar",
           "x": [
            "Drama"
           ],
           "xaxis": "x",
           "y": [
            234
           ],
           "yaxis": "y"
          },
          {
           "alignmentgroup": "True",
           "hovertemplate": "genre1=%{x}<br>decade=2000<br>total_genre=%{y}<extra></extra>",
           "legendgroup": "Horror",
           "marker": {
            "color": "#FF6692",
            "pattern": {
             "shape": ""
            }
           },
           "name": "Horror",
           "offsetgroup": "Horror",
           "orientation": "v",
           "showlegend": true,
           "textposition": "auto",
           "type": "bar",
           "x": [
            "Horror"
           ],
           "xaxis": "x",
           "y": [
            42
           ],
           "yaxis": "y"
          },
          {
           "alignmentgroup": "True",
           "hovertemplate": "genre1=%{x}<br>decade=2000<br>total_genre=%{y}<extra></extra>",
           "legendgroup": "Thriller",
           "marker": {
            "color": "#B6E880",
            "pattern": {
             "shape": ""
            }
           },
           "name": "Thriller",
           "offsetgroup": "Thriller",
           "orientation": "v",
           "showlegend": true,
           "textposition": "auto",
           "type": "bar",
           "x": [
            "Thriller"
           ],
           "xaxis": "x",
           "y": [
            1
           ],
           "yaxis": "y"
          },
          {
           "alignmentgroup": "True",
           "hovertemplate": "genre1=%{x}<br>decade=2000<br>total_genre=%{y}<extra></extra>",
           "legendgroup": "Animation",
           "marker": {
            "color": "#FECB52",
            "pattern": {
             "shape": ""
            }
           },
           "name": "Animation",
           "offsetgroup": "Animation",
           "orientation": "v",
           "showlegend": true,
           "textposition": "auto",
           "type": "bar",
           "x": [
            "Animation"
           ],
           "xaxis": "x",
           "y": [
            8
           ],
           "yaxis": "y"
          },
          {
           "alignmentgroup": "True",
           "hovertemplate": "genre1=%{x}<br>decade=2000<br>total_genre=%{y}<extra></extra>",
           "legendgroup": "Fantasy",
           "marker": {
            "color": "#EF553B",
            "pattern": {
             "shape": ""
            }
           },
           "name": "Fantasy",
           "offsetgroup": "Fantasy",
           "orientation": "v",
           "showlegend": true,
           "textposition": "auto",
           "type": "bar",
           "x": [
            "Fantasy"
           ],
           "xaxis": "x",
           "y": [
            3
           ],
           "yaxis": "y"
          },
          {
           "alignmentgroup": "True",
           "hovertemplate": "genre1=%{x}<br>decade=2000<br>total_genre=%{y}<extra></extra>",
           "legendgroup": "Mystery",
           "marker": {
            "color": "#00cc96",
            "pattern": {
             "shape": ""
            }
           },
           "name": "Mystery",
           "offsetgroup": "Mystery",
           "orientation": "v",
           "showlegend": true,
           "textposition": "auto",
           "type": "bar",
           "x": [
            "Mystery"
           ],
           "xaxis": "x",
           "y": [
            5
           ],
           "yaxis": "y"
          },
          {
           "alignmentgroup": "True",
           "hovertemplate": "genre1=%{x}<br>decade=2000<br>total_genre=%{y}<extra></extra>",
           "legendgroup": "Documentary",
           "marker": {
            "color": "#FFA15A",
            "pattern": {
             "shape": ""
            }
           },
           "name": "Documentary",
           "offsetgroup": "Documentary",
           "orientation": "v",
           "showlegend": true,
           "textposition": "auto",
           "type": "bar",
           "x": [
            "Documentary"
           ],
           "xaxis": "x",
           "y": [
            2
           ],
           "yaxis": "y"
          },
          {
           "alignmentgroup": "True",
           "hovertemplate": "genre1=%{x}<br>decade=2000<br>total_genre=%{y}<extra></extra>",
           "legendgroup": "Sci-Fi",
           "marker": {
            "color": "#19d3f3",
            "pattern": {
             "shape": ""
            }
           },
           "name": "Sci-Fi",
           "offsetgroup": "Sci-Fi",
           "orientation": "v",
           "showlegend": true,
           "textposition": "auto",
           "type": "bar",
           "x": [
            "Sci-Fi"
           ],
           "xaxis": "x",
           "y": [
            1
           ],
           "yaxis": "y"
          }
         ],
         "name": "2000"
        },
        {
         "data": [
          {
           "alignmentgroup": "True",
           "hovertemplate": "genre1=%{x}<br>decade=2010<br>total_genre=%{y}<extra></extra>",
           "legendgroup": "Action",
           "marker": {
            "color": "#636efa",
            "pattern": {
             "shape": ""
            }
           },
           "name": "Action",
           "offsetgroup": "Action",
           "orientation": "v",
           "showlegend": true,
           "textposition": "auto",
           "type": "bar",
           "x": [
            "Action"
           ],
           "xaxis": "x",
           "y": [
            563
           ],
           "yaxis": "y"
          },
          {
           "alignmentgroup": "True",
           "hovertemplate": "genre1=%{x}<br>decade=2010<br>total_genre=%{y}<extra></extra>",
           "legendgroup": "Adventure",
           "marker": {
            "color": "#EF553B",
            "pattern": {
             "shape": ""
            }
           },
           "name": "Adventure",
           "offsetgroup": "Adventure",
           "orientation": "v",
           "showlegend": true,
           "textposition": "auto",
           "type": "bar",
           "x": [
            "Adventure"
           ],
           "xaxis": "x",
           "y": [
            134
           ],
           "yaxis": "y"
          },
          {
           "alignmentgroup": "True",
           "hovertemplate": "genre1=%{x}<br>decade=2010<br>total_genre=%{y}<extra></extra>",
           "legendgroup": "Biography",
           "marker": {
            "color": "#00cc96",
            "pattern": {
             "shape": ""
            }
           },
           "name": "Biography",
           "offsetgroup": "Biography",
           "orientation": "v",
           "showlegend": true,
           "textposition": "auto",
           "type": "bar",
           "x": [
            "Biography"
           ],
           "xaxis": "x",
           "y": [
            184
           ],
           "yaxis": "y"
          },
          {
           "alignmentgroup": "True",
           "hovertemplate": "genre1=%{x}<br>decade=2010<br>total_genre=%{y}<extra></extra>",
           "legendgroup": "Comedy",
           "marker": {
            "color": "#ab63fa",
            "pattern": {
             "shape": ""
            }
           },
           "name": "Comedy",
           "offsetgroup": "Comedy",
           "orientation": "v",
           "showlegend": true,
           "textposition": "auto",
           "type": "bar",
           "x": [
            "Comedy"
           ],
           "xaxis": "x",
           "y": [
            295
           ],
           "yaxis": "y"
          },
          {
           "alignmentgroup": "True",
           "hovertemplate": "genre1=%{x}<br>decade=2010<br>total_genre=%{y}<extra></extra>",
           "legendgroup": "Crime",
           "marker": {
            "color": "#FFA15A",
            "pattern": {
             "shape": ""
            }
           },
           "name": "Crime",
           "offsetgroup": "Crime",
           "orientation": "v",
           "showlegend": true,
           "textposition": "auto",
           "type": "bar",
           "x": [
            "Crime"
           ],
           "xaxis": "x",
           "y": [
            123
           ],
           "yaxis": "y"
          },
          {
           "alignmentgroup": "True",
           "hovertemplate": "genre1=%{x}<br>decade=2010<br>total_genre=%{y}<extra></extra>",
           "legendgroup": "Drama",
           "marker": {
            "color": "#19d3f3",
            "pattern": {
             "shape": ""
            }
           },
           "name": "Drama",
           "offsetgroup": "Drama",
           "orientation": "v",
           "showlegend": true,
           "textposition": "auto",
           "type": "bar",
           "x": [
            "Drama"
           ],
           "xaxis": "x",
           "y": [
            380
           ],
           "yaxis": "y"
          },
          {
           "alignmentgroup": "True",
           "hovertemplate": "genre1=%{x}<br>decade=2010<br>total_genre=%{y}<extra></extra>",
           "legendgroup": "Horror",
           "marker": {
            "color": "#FF6692",
            "pattern": {
             "shape": ""
            }
           },
           "name": "Horror",
           "offsetgroup": "Horror",
           "orientation": "v",
           "showlegend": true,
           "textposition": "auto",
           "type": "bar",
           "x": [
            "Horror"
           ],
           "xaxis": "x",
           "y": [
            41
           ],
           "yaxis": "y"
          },
          {
           "alignmentgroup": "True",
           "hovertemplate": "genre1=%{x}<br>decade=2010<br>total_genre=%{y}<extra></extra>",
           "legendgroup": "Thriller",
           "marker": {
            "color": "#B6E880",
            "pattern": {
             "shape": ""
            }
           },
           "name": "Thriller",
           "offsetgroup": "Thriller",
           "orientation": "v",
           "showlegend": true,
           "textposition": "auto",
           "type": "bar",
           "x": [
            "Thriller"
           ],
           "xaxis": "x",
           "y": [
            1
           ],
           "yaxis": "y"
          },
          {
           "alignmentgroup": "True",
           "hovertemplate": "genre1=%{x}<br>decade=2010<br>total_genre=%{y}<extra></extra>",
           "legendgroup": "Animation",
           "marker": {
            "color": "#FECB52",
            "pattern": {
             "shape": ""
            }
           },
           "name": "Animation",
           "offsetgroup": "Animation",
           "orientation": "v",
           "showlegend": true,
           "textposition": "auto",
           "type": "bar",
           "x": [
            "Animation"
           ],
           "xaxis": "x",
           "y": [
            14
           ],
           "yaxis": "y"
          },
          {
           "alignmentgroup": "True",
           "hovertemplate": "genre1=%{x}<br>decade=2010<br>total_genre=%{y}<extra></extra>",
           "legendgroup": "Fantasy",
           "marker": {
            "color": "#EF553B",
            "pattern": {
             "shape": ""
            }
           },
           "name": "Fantasy",
           "offsetgroup": "Fantasy",
           "orientation": "v",
           "showlegend": true,
           "textposition": "auto",
           "type": "bar",
           "x": [
            "Fantasy"
           ],
           "xaxis": "x",
           "y": [
            5
           ],
           "yaxis": "y"
          },
          {
           "alignmentgroup": "True",
           "hovertemplate": "genre1=%{x}<br>decade=2010<br>total_genre=%{y}<extra></extra>",
           "legendgroup": "Mystery",
           "marker": {
            "color": "#00cc96",
            "pattern": {
             "shape": ""
            }
           },
           "name": "Mystery",
           "offsetgroup": "Mystery",
           "orientation": "v",
           "showlegend": true,
           "textposition": "auto",
           "type": "bar",
           "x": [
            "Mystery"
           ],
           "xaxis": "x",
           "y": [
            5
           ],
           "yaxis": "y"
          },
          {
           "alignmentgroup": "True",
           "hovertemplate": "genre1=%{x}<br>decade=2010<br>total_genre=%{y}<extra></extra>",
           "legendgroup": "Documentary",
           "marker": {
            "color": "#FFA15A",
            "pattern": {
             "shape": ""
            }
           },
           "name": "Documentary",
           "offsetgroup": "Documentary",
           "orientation": "v",
           "showlegend": true,
           "textposition": "auto",
           "type": "bar",
           "x": [
            "Documentary"
           ],
           "xaxis": "x",
           "y": [
            3
           ],
           "yaxis": "y"
          },
          {
           "alignmentgroup": "True",
           "hovertemplate": "genre1=%{x}<br>decade=2010<br>total_genre=%{y}<extra></extra>",
           "legendgroup": "Sci-Fi",
           "marker": {
            "color": "#19d3f3",
            "pattern": {
             "shape": ""
            }
           },
           "name": "Sci-Fi",
           "offsetgroup": "Sci-Fi",
           "orientation": "v",
           "showlegend": true,
           "textposition": "auto",
           "type": "bar",
           "x": [
            "Sci-Fi"
           ],
           "xaxis": "x",
           "y": [
            1
           ],
           "yaxis": "y"
          },
          {
           "alignmentgroup": "True",
           "hovertemplate": "genre1=%{x}<br>decade=2010<br>total_genre=%{y}<extra></extra>",
           "legendgroup": "Music",
           "marker": {
            "color": "#FF6692",
            "pattern": {
             "shape": ""
            }
           },
           "name": "Music",
           "offsetgroup": "Music",
           "orientation": "v",
           "showlegend": true,
           "textposition": "auto",
           "type": "bar",
           "x": [
            "Music"
           ],
           "xaxis": "x",
           "y": [
            1
           ],
           "yaxis": "y"
          }
         ],
         "name": "2010"
        },
        {
         "data": [
          {
           "alignmentgroup": "True",
           "hovertemplate": "genre1=%{x}<br>decade=2020<br>total_genre=%{y}<extra></extra>",
           "legendgroup": "Action",
           "marker": {
            "color": "#636efa",
            "pattern": {
             "shape": ""
            }
           },
           "name": "Action",
           "offsetgroup": "Action",
           "orientation": "v",
           "showlegend": true,
           "textposition": "auto",
           "type": "bar",
           "x": [
            "Action"
           ],
           "xaxis": "x",
           "y": [
            154
           ],
           "yaxis": "y"
          },
          {
           "alignmentgroup": "True",
           "hovertemplate": "genre1=%{x}<br>decade=2020<br>total_genre=%{y}<extra></extra>",
           "legendgroup": "Adventure",
           "marker": {
            "color": "#EF553B",
            "pattern": {
             "shape": ""
            }
           },
           "name": "Adventure",
           "offsetgroup": "Adventure",
           "orientation": "v",
           "showlegend": true,
           "textposition": "auto",
           "type": "bar",
           "x": [
            "Adventure"
           ],
           "xaxis": "x",
           "y": [
            45
           ],
           "yaxis": "y"
          },
          {
           "alignmentgroup": "True",
           "hovertemplate": "genre1=%{x}<br>decade=2020<br>total_genre=%{y}<extra></extra>",
           "legendgroup": "Biography",
           "marker": {
            "color": "#00cc96",
            "pattern": {
             "shape": ""
            }
           },
           "name": "Biography",
           "offsetgroup": "Biography",
           "orientation": "v",
           "showlegend": true,
           "textposition": "auto",
           "type": "bar",
           "x": [
            "Biography"
           ],
           "xaxis": "x",
           "y": [
            57
           ],
           "yaxis": "y"
          },
          {
           "alignmentgroup": "True",
           "hovertemplate": "genre1=%{x}<br>decade=2020<br>total_genre=%{y}<extra></extra>",
           "legendgroup": "Comedy",
           "marker": {
            "color": "#ab63fa",
            "pattern": {
             "shape": ""
            }
           },
           "name": "Comedy",
           "offsetgroup": "Comedy",
           "orientation": "v",
           "showlegend": true,
           "textposition": "auto",
           "type": "bar",
           "x": [
            "Comedy"
           ],
           "xaxis": "x",
           "y": [
            122
           ],
           "yaxis": "y"
          },
          {
           "alignmentgroup": "True",
           "hovertemplate": "genre1=%{x}<br>decade=2020<br>total_genre=%{y}<extra></extra>",
           "legendgroup": "Crime",
           "marker": {
            "color": "#FFA15A",
            "pattern": {
             "shape": ""
            }
           },
           "name": "Crime",
           "offsetgroup": "Crime",
           "orientation": "v",
           "showlegend": true,
           "textposition": "auto",
           "type": "bar",
           "x": [
            "Crime"
           ],
           "xaxis": "x",
           "y": [
            52
           ],
           "yaxis": "y"
          },
          {
           "alignmentgroup": "True",
           "hovertemplate": "genre1=%{x}<br>decade=2020<br>total_genre=%{y}<extra></extra>",
           "legendgroup": "Drama",
           "marker": {
            "color": "#19d3f3",
            "pattern": {
             "shape": ""
            }
           },
           "name": "Drama",
           "offsetgroup": "Drama",
           "orientation": "v",
           "showlegend": true,
           "textposition": "auto",
           "type": "bar",
           "x": [
            "Drama"
           ],
           "xaxis": "x",
           "y": [
            147
           ],
           "yaxis": "y"
          },
          {
           "alignmentgroup": "True",
           "hovertemplate": "genre1=%{x}<br>decade=2020<br>total_genre=%{y}<extra></extra>",
           "legendgroup": "Horror",
           "marker": {
            "color": "#FF6692",
            "pattern": {
             "shape": ""
            }
           },
           "name": "Horror",
           "offsetgroup": "Horror",
           "orientation": "v",
           "showlegend": true,
           "textposition": "auto",
           "type": "bar",
           "x": [
            "Horror"
           ],
           "xaxis": "x",
           "y": [
            24
           ],
           "yaxis": "y"
          },
          {
           "alignmentgroup": "True",
           "hovertemplate": "genre1=%{x}<br>decade=2020<br>total_genre=%{y}<extra></extra>",
           "legendgroup": "Thriller",
           "marker": {
            "color": "#B6E880",
            "pattern": {
             "shape": ""
            }
           },
           "name": "Thriller",
           "offsetgroup": "Thriller",
           "orientation": "v",
           "showlegend": true,
           "textposition": "auto",
           "type": "bar",
           "x": [
            "Thriller"
           ],
           "xaxis": "x",
           "y": [
            2
           ],
           "yaxis": "y"
          },
          {
           "alignmentgroup": "True",
           "hovertemplate": "genre1=%{x}<br>decade=2020<br>total_genre=%{y}<extra></extra>",
           "legendgroup": "Animation",
           "marker": {
            "color": "#FECB52",
            "pattern": {
             "shape": ""
            }
           },
           "name": "Animation",
           "offsetgroup": "Animation",
           "orientation": "v",
           "showlegend": true,
           "textposition": "auto",
           "type": "bar",
           "x": [
            "Animation"
           ],
           "xaxis": "x",
           "y": [
            7
           ],
           "yaxis": "y"
          },
          {
           "alignmentgroup": "True",
           "hovertemplate": "genre1=%{x}<br>decade=2020<br>total_genre=%{y}<extra></extra>",
           "legendgroup": "Family",
           "marker": {
            "color": "#636efa",
            "pattern": {
             "shape": ""
            }
           },
           "name": "Family",
           "offsetgroup": "Family",
           "orientation": "v",
           "showlegend": true,
           "textposition": "auto",
           "type": "bar",
           "x": [
            "Family"
           ],
           "xaxis": "x",
           "y": [
            1
           ],
           "yaxis": "y"
          },
          {
           "alignmentgroup": "True",
           "hovertemplate": "genre1=%{x}<br>decade=2020<br>total_genre=%{y}<extra></extra>",
           "legendgroup": "Fantasy",
           "marker": {
            "color": "#EF553B",
            "pattern": {
             "shape": ""
            }
           },
           "name": "Fantasy",
           "offsetgroup": "Fantasy",
           "orientation": "v",
           "showlegend": true,
           "textposition": "auto",
           "type": "bar",
           "x": [
            "Fantasy"
           ],
           "xaxis": "x",
           "y": [
            2
           ],
           "yaxis": "y"
          },
          {
           "alignmentgroup": "True",
           "hovertemplate": "genre1=%{x}<br>decade=2020<br>total_genre=%{y}<extra></extra>",
           "legendgroup": "Mystery",
           "marker": {
            "color": "#00cc96",
            "pattern": {
             "shape": ""
            }
           },
           "name": "Mystery",
           "offsetgroup": "Mystery",
           "orientation": "v",
           "showlegend": true,
           "textposition": "auto",
           "type": "bar",
           "x": [
            "Mystery"
           ],
           "xaxis": "x",
           "y": [
            3
           ],
           "yaxis": "y"
          },
          {
           "alignmentgroup": "True",
           "hovertemplate": "genre1=%{x}<br>decade=2020<br>total_genre=%{y}<extra></extra>",
           "legendgroup": "Documentary",
           "marker": {
            "color": "#FFA15A",
            "pattern": {
             "shape": ""
            }
           },
           "name": "Documentary",
           "offsetgroup": "Documentary",
           "orientation": "v",
           "showlegend": true,
           "textposition": "auto",
           "type": "bar",
           "x": [
            "Documentary"
           ],
           "xaxis": "x",
           "y": [
            1
           ],
           "yaxis": "y"
          },
          {
           "alignmentgroup": "True",
           "hovertemplate": "genre1=%{x}<br>decade=2020<br>total_genre=%{y}<extra></extra>",
           "legendgroup": "History",
           "marker": {
            "color": "#B6E880",
            "pattern": {
             "shape": ""
            }
           },
           "name": "History",
           "offsetgroup": "History",
           "orientation": "v",
           "showlegend": true,
           "textposition": "auto",
           "type": "bar",
           "x": [
            "History"
           ],
           "xaxis": "x",
           "y": [
            1
           ],
           "yaxis": "y"
          }
         ],
         "name": "2020"
        }
       ],
       "layout": {
        "barmode": "relative",
        "legend": {
         "title": {
          "text": "genre1"
         },
         "tracegroupgap": 0
        },
        "sliders": [
         {
          "active": 0,
          "currentvalue": {
           "prefix": "decade="
          },
          "len": 0.9,
          "pad": {
           "b": 10,
           "t": 60
          },
          "steps": [
           {
            "args": [
             [
              "1960"
             ],
             {
              "frame": {
               "duration": 0,
               "redraw": true
              },
              "fromcurrent": true,
              "mode": "immediate",
              "transition": {
               "duration": 0,
               "easing": "linear"
              }
             }
            ],
            "label": "1960",
            "method": "animate"
           },
           {
            "args": [
             [
              "1970"
             ],
             {
              "frame": {
               "duration": 0,
               "redraw": true
              },
              "fromcurrent": true,
              "mode": "immediate",
              "transition": {
               "duration": 0,
               "easing": "linear"
              }
             }
            ],
            "label": "1970",
            "method": "animate"
           },
           {
            "args": [
             [
              "1980"
             ],
             {
              "frame": {
               "duration": 0,
               "redraw": true
              },
              "fromcurrent": true,
              "mode": "immediate",
              "transition": {
               "duration": 0,
               "easing": "linear"
              }
             }
            ],
            "label": "1980",
            "method": "animate"
           },
           {
            "args": [
             [
              "1990"
             ],
             {
              "frame": {
               "duration": 0,
               "redraw": true
              },
              "fromcurrent": true,
              "mode": "immediate",
              "transition": {
               "duration": 0,
               "easing": "linear"
              }
             }
            ],
            "label": "1990",
            "method": "animate"
           },
           {
            "args": [
             [
              "2000"
             ],
             {
              "frame": {
               "duration": 0,
               "redraw": true
              },
              "fromcurrent": true,
              "mode": "immediate",
              "transition": {
               "duration": 0,
               "easing": "linear"
              }
             }
            ],
            "label": "2000",
            "method": "animate"
           },
           {
            "args": [
             [
              "2010"
             ],
             {
              "frame": {
               "duration": 0,
               "redraw": true
              },
              "fromcurrent": true,
              "mode": "immediate",
              "transition": {
               "duration": 0,
               "easing": "linear"
              }
             }
            ],
            "label": "2010",
            "method": "animate"
           },
           {
            "args": [
             [
              "2020"
             ],
             {
              "frame": {
               "duration": 0,
               "redraw": true
              },
              "fromcurrent": true,
              "mode": "immediate",
              "transition": {
               "duration": 0,
               "easing": "linear"
              }
             }
            ],
            "label": "2020",
            "method": "animate"
           }
          ],
          "x": 0.1,
          "xanchor": "left",
          "y": 0,
          "yanchor": "top"
         }
        ],
        "template": {
         "data": {
          "bar": [
           {
            "error_x": {
             "color": "#2a3f5f"
            },
            "error_y": {
             "color": "#2a3f5f"
            },
            "marker": {
             "line": {
              "color": "#E5ECF6",
              "width": 0.5
             },
             "pattern": {
              "fillmode": "overlay",
              "size": 10,
              "solidity": 0.2
             }
            },
            "type": "bar"
           }
          ],
          "barpolar": [
           {
            "marker": {
             "line": {
              "color": "#E5ECF6",
              "width": 0.5
             },
             "pattern": {
              "fillmode": "overlay",
              "size": 10,
              "solidity": 0.2
             }
            },
            "type": "barpolar"
           }
          ],
          "carpet": [
           {
            "aaxis": {
             "endlinecolor": "#2a3f5f",
             "gridcolor": "white",
             "linecolor": "white",
             "minorgridcolor": "white",
             "startlinecolor": "#2a3f5f"
            },
            "baxis": {
             "endlinecolor": "#2a3f5f",
             "gridcolor": "white",
             "linecolor": "white",
             "minorgridcolor": "white",
             "startlinecolor": "#2a3f5f"
            },
            "type": "carpet"
           }
          ],
          "choropleth": [
           {
            "colorbar": {
             "outlinewidth": 0,
             "ticks": ""
            },
            "type": "choropleth"
           }
          ],
          "contour": [
           {
            "colorbar": {
             "outlinewidth": 0,
             "ticks": ""
            },
            "colorscale": [
             [
              0,
              "#0d0887"
             ],
             [
              0.1111111111111111,
              "#46039f"
             ],
             [
              0.2222222222222222,
              "#7201a8"
             ],
             [
              0.3333333333333333,
              "#9c179e"
             ],
             [
              0.4444444444444444,
              "#bd3786"
             ],
             [
              0.5555555555555556,
              "#d8576b"
             ],
             [
              0.6666666666666666,
              "#ed7953"
             ],
             [
              0.7777777777777778,
              "#fb9f3a"
             ],
             [
              0.8888888888888888,
              "#fdca26"
             ],
             [
              1,
              "#f0f921"
             ]
            ],
            "type": "contour"
           }
          ],
          "contourcarpet": [
           {
            "colorbar": {
             "outlinewidth": 0,
             "ticks": ""
            },
            "type": "contourcarpet"
           }
          ],
          "heatmap": [
           {
            "colorbar": {
             "outlinewidth": 0,
             "ticks": ""
            },
            "colorscale": [
             [
              0,
              "#0d0887"
             ],
             [
              0.1111111111111111,
              "#46039f"
             ],
             [
              0.2222222222222222,
              "#7201a8"
             ],
             [
              0.3333333333333333,
              "#9c179e"
             ],
             [
              0.4444444444444444,
              "#bd3786"
             ],
             [
              0.5555555555555556,
              "#d8576b"
             ],
             [
              0.6666666666666666,
              "#ed7953"
             ],
             [
              0.7777777777777778,
              "#fb9f3a"
             ],
             [
              0.8888888888888888,
              "#fdca26"
             ],
             [
              1,
              "#f0f921"
             ]
            ],
            "type": "heatmap"
           }
          ],
          "heatmapgl": [
           {
            "colorbar": {
             "outlinewidth": 0,
             "ticks": ""
            },
            "colorscale": [
             [
              0,
              "#0d0887"
             ],
             [
              0.1111111111111111,
              "#46039f"
             ],
             [
              0.2222222222222222,
              "#7201a8"
             ],
             [
              0.3333333333333333,
              "#9c179e"
             ],
             [
              0.4444444444444444,
              "#bd3786"
             ],
             [
              0.5555555555555556,
              "#d8576b"
             ],
             [
              0.6666666666666666,
              "#ed7953"
             ],
             [
              0.7777777777777778,
              "#fb9f3a"
             ],
             [
              0.8888888888888888,
              "#fdca26"
             ],
             [
              1,
              "#f0f921"
             ]
            ],
            "type": "heatmapgl"
           }
          ],
          "histogram": [
           {
            "marker": {
             "pattern": {
              "fillmode": "overlay",
              "size": 10,
              "solidity": 0.2
             }
            },
            "type": "histogram"
           }
          ],
          "histogram2d": [
           {
            "colorbar": {
             "outlinewidth": 0,
             "ticks": ""
            },
            "colorscale": [
             [
              0,
              "#0d0887"
             ],
             [
              0.1111111111111111,
              "#46039f"
             ],
             [
              0.2222222222222222,
              "#7201a8"
             ],
             [
              0.3333333333333333,
              "#9c179e"
             ],
             [
              0.4444444444444444,
              "#bd3786"
             ],
             [
              0.5555555555555556,
              "#d8576b"
             ],
             [
              0.6666666666666666,
              "#ed7953"
             ],
             [
              0.7777777777777778,
              "#fb9f3a"
             ],
             [
              0.8888888888888888,
              "#fdca26"
             ],
             [
              1,
              "#f0f921"
             ]
            ],
            "type": "histogram2d"
           }
          ],
          "histogram2dcontour": [
           {
            "colorbar": {
             "outlinewidth": 0,
             "ticks": ""
            },
            "colorscale": [
             [
              0,
              "#0d0887"
             ],
             [
              0.1111111111111111,
              "#46039f"
             ],
             [
              0.2222222222222222,
              "#7201a8"
             ],
             [
              0.3333333333333333,
              "#9c179e"
             ],
             [
              0.4444444444444444,
              "#bd3786"
             ],
             [
              0.5555555555555556,
              "#d8576b"
             ],
             [
              0.6666666666666666,
              "#ed7953"
             ],
             [
              0.7777777777777778,
              "#fb9f3a"
             ],
             [
              0.8888888888888888,
              "#fdca26"
             ],
             [
              1,
              "#f0f921"
             ]
            ],
            "type": "histogram2dcontour"
           }
          ],
          "mesh3d": [
           {
            "colorbar": {
             "outlinewidth": 0,
             "ticks": ""
            },
            "type": "mesh3d"
           }
          ],
          "parcoords": [
           {
            "line": {
             "colorbar": {
              "outlinewidth": 0,
              "ticks": ""
             }
            },
            "type": "parcoords"
           }
          ],
          "pie": [
           {
            "automargin": true,
            "type": "pie"
           }
          ],
          "scatter": [
           {
            "fillpattern": {
             "fillmode": "overlay",
             "size": 10,
             "solidity": 0.2
            },
            "type": "scatter"
           }
          ],
          "scatter3d": [
           {
            "line": {
             "colorbar": {
              "outlinewidth": 0,
              "ticks": ""
             }
            },
            "marker": {
             "colorbar": {
              "outlinewidth": 0,
              "ticks": ""
             }
            },
            "type": "scatter3d"
           }
          ],
          "scattercarpet": [
           {
            "marker": {
             "colorbar": {
              "outlinewidth": 0,
              "ticks": ""
             }
            },
            "type": "scattercarpet"
           }
          ],
          "scattergeo": [
           {
            "marker": {
             "colorbar": {
              "outlinewidth": 0,
              "ticks": ""
             }
            },
            "type": "scattergeo"
           }
          ],
          "scattergl": [
           {
            "marker": {
             "colorbar": {
              "outlinewidth": 0,
              "ticks": ""
             }
            },
            "type": "scattergl"
           }
          ],
          "scattermapbox": [
           {
            "marker": {
             "colorbar": {
              "outlinewidth": 0,
              "ticks": ""
             }
            },
            "type": "scattermapbox"
           }
          ],
          "scatterpolar": [
           {
            "marker": {
             "colorbar": {
              "outlinewidth": 0,
              "ticks": ""
             }
            },
            "type": "scatterpolar"
           }
          ],
          "scatterpolargl": [
           {
            "marker": {
             "colorbar": {
              "outlinewidth": 0,
              "ticks": ""
             }
            },
            "type": "scatterpolargl"
           }
          ],
          "scatterternary": [
           {
            "marker": {
             "colorbar": {
              "outlinewidth": 0,
              "ticks": ""
             }
            },
            "type": "scatterternary"
           }
          ],
          "surface": [
           {
            "colorbar": {
             "outlinewidth": 0,
             "ticks": ""
            },
            "colorscale": [
             [
              0,
              "#0d0887"
             ],
             [
              0.1111111111111111,
              "#46039f"
             ],
             [
              0.2222222222222222,
              "#7201a8"
             ],
             [
              0.3333333333333333,
              "#9c179e"
             ],
             [
              0.4444444444444444,
              "#bd3786"
             ],
             [
              0.5555555555555556,
              "#d8576b"
             ],
             [
              0.6666666666666666,
              "#ed7953"
             ],
             [
              0.7777777777777778,
              "#fb9f3a"
             ],
             [
              0.8888888888888888,
              "#fdca26"
             ],
             [
              1,
              "#f0f921"
             ]
            ],
            "type": "surface"
           }
          ],
          "table": [
           {
            "cells": {
             "fill": {
              "color": "#EBF0F8"
             },
             "line": {
              "color": "white"
             }
            },
            "header": {
             "fill": {
              "color": "#C8D4E3"
             },
             "line": {
              "color": "white"
             }
            },
            "type": "table"
           }
          ]
         },
         "layout": {
          "annotationdefaults": {
           "arrowcolor": "#2a3f5f",
           "arrowhead": 0,
           "arrowwidth": 1
          },
          "autotypenumbers": "strict",
          "coloraxis": {
           "colorbar": {
            "outlinewidth": 0,
            "ticks": ""
           }
          },
          "colorscale": {
           "diverging": [
            [
             0,
             "#8e0152"
            ],
            [
             0.1,
             "#c51b7d"
            ],
            [
             0.2,
             "#de77ae"
            ],
            [
             0.3,
             "#f1b6da"
            ],
            [
             0.4,
             "#fde0ef"
            ],
            [
             0.5,
             "#f7f7f7"
            ],
            [
             0.6,
             "#e6f5d0"
            ],
            [
             0.7,
             "#b8e186"
            ],
            [
             0.8,
             "#7fbc41"
            ],
            [
             0.9,
             "#4d9221"
            ],
            [
             1,
             "#276419"
            ]
           ],
           "sequential": [
            [
             0,
             "#0d0887"
            ],
            [
             0.1111111111111111,
             "#46039f"
            ],
            [
             0.2222222222222222,
             "#7201a8"
            ],
            [
             0.3333333333333333,
             "#9c179e"
            ],
            [
             0.4444444444444444,
             "#bd3786"
            ],
            [
             0.5555555555555556,
             "#d8576b"
            ],
            [
             0.6666666666666666,
             "#ed7953"
            ],
            [
             0.7777777777777778,
             "#fb9f3a"
            ],
            [
             0.8888888888888888,
             "#fdca26"
            ],
            [
             1,
             "#f0f921"
            ]
           ],
           "sequentialminus": [
            [
             0,
             "#0d0887"
            ],
            [
             0.1111111111111111,
             "#46039f"
            ],
            [
             0.2222222222222222,
             "#7201a8"
            ],
            [
             0.3333333333333333,
             "#9c179e"
            ],
            [
             0.4444444444444444,
             "#bd3786"
            ],
            [
             0.5555555555555556,
             "#d8576b"
            ],
            [
             0.6666666666666666,
             "#ed7953"
            ],
            [
             0.7777777777777778,
             "#fb9f3a"
            ],
            [
             0.8888888888888888,
             "#fdca26"
            ],
            [
             1,
             "#f0f921"
            ]
           ]
          },
          "colorway": [
           "#636efa",
           "#EF553B",
           "#00cc96",
           "#ab63fa",
           "#FFA15A",
           "#19d3f3",
           "#FF6692",
           "#B6E880",
           "#FF97FF",
           "#FECB52"
          ],
          "font": {
           "color": "#2a3f5f"
          },
          "geo": {
           "bgcolor": "white",
           "lakecolor": "white",
           "landcolor": "#E5ECF6",
           "showlakes": true,
           "showland": true,
           "subunitcolor": "white"
          },
          "hoverlabel": {
           "align": "left"
          },
          "hovermode": "closest",
          "mapbox": {
           "style": "light"
          },
          "paper_bgcolor": "white",
          "plot_bgcolor": "#E5ECF6",
          "polar": {
           "angularaxis": {
            "gridcolor": "white",
            "linecolor": "white",
            "ticks": ""
           },
           "bgcolor": "#E5ECF6",
           "radialaxis": {
            "gridcolor": "white",
            "linecolor": "white",
            "ticks": ""
           }
          },
          "scene": {
           "xaxis": {
            "backgroundcolor": "#E5ECF6",
            "gridcolor": "white",
            "gridwidth": 2,
            "linecolor": "white",
            "showbackground": true,
            "ticks": "",
            "zerolinecolor": "white"
           },
           "yaxis": {
            "backgroundcolor": "#E5ECF6",
            "gridcolor": "white",
            "gridwidth": 2,
            "linecolor": "white",
            "showbackground": true,
            "ticks": "",
            "zerolinecolor": "white"
           },
           "zaxis": {
            "backgroundcolor": "#E5ECF6",
            "gridcolor": "white",
            "gridwidth": 2,
            "linecolor": "white",
            "showbackground": true,
            "ticks": "",
            "zerolinecolor": "white"
           }
          },
          "shapedefaults": {
           "line": {
            "color": "#2a3f5f"
           }
          },
          "ternary": {
           "aaxis": {
            "gridcolor": "white",
            "linecolor": "white",
            "ticks": ""
           },
           "baxis": {
            "gridcolor": "white",
            "linecolor": "white",
            "ticks": ""
           },
           "bgcolor": "#E5ECF6",
           "caxis": {
            "gridcolor": "white",
            "linecolor": "white",
            "ticks": ""
           }
          },
          "title": {
           "x": 0.05
          },
          "xaxis": {
           "automargin": true,
           "gridcolor": "white",
           "linecolor": "white",
           "ticks": "",
           "title": {
            "standoff": 15
           },
           "zerolinecolor": "white",
           "zerolinewidth": 2
          },
          "yaxis": {
           "automargin": true,
           "gridcolor": "white",
           "linecolor": "white",
           "ticks": "",
           "title": {
            "standoff": 15
           },
           "zerolinecolor": "white",
           "zerolinewidth": 2
          }
         }
        },
        "title": {
         "text": "Evolution des genres de film par décennie"
        },
        "updatemenus": [
         {
          "buttons": [
           {
            "args": [
             null,
             {
              "frame": {
               "duration": 500,
               "redraw": true
              },
              "fromcurrent": true,
              "mode": "immediate",
              "transition": {
               "duration": 500,
               "easing": "linear"
              }
             }
            ],
            "label": "&#9654;",
            "method": "animate"
           },
           {
            "args": [
             [
              null
             ],
             {
              "frame": {
               "duration": 0,
               "redraw": true
              },
              "fromcurrent": true,
              "mode": "immediate",
              "transition": {
               "duration": 0,
               "easing": "linear"
              }
             }
            ],
            "label": "&#9724;",
            "method": "animate"
           }
          ],
          "direction": "left",
          "pad": {
           "r": 10,
           "t": 70
          },
          "showactive": false,
          "type": "buttons",
          "x": 0.1,
          "xanchor": "right",
          "y": 0,
          "yanchor": "top"
         }
        ],
        "xaxis": {
         "anchor": "y",
         "categoryarray": [
          "Action",
          "Adventure",
          "Biography",
          "Comedy",
          "Crime",
          "Drama",
          "Horror",
          "Thriller",
          "Western",
          "Animation",
          "Family",
          "Fantasy",
          "Mystery",
          "Romance",
          "Documentary",
          "Sci-Fi",
          "Music",
          "History"
         ],
         "categoryorder": "array",
         "domain": [
          0,
          1
         ],
         "title": {
          "text": "genre1"
         }
        },
        "yaxis": {
         "anchor": "x",
         "domain": [
          0,
          1
         ],
         "range": [
          0,
          619.3000000000001
         ],
         "title": {
          "text": "total_genre"
         }
        }
       }
      }
     },
     "metadata": {},
     "output_type": "display_data"
    }
   ],
   "source": [
    "# Evolution des genres de film par décennie\n",
    "\n",
    "df_merged['startYear'] = df_merged['startYear'].astype(int)\n",
    "\n",
    "# Filtrer les données pour les années en décennies jusqu'en 2023\n",
    "df_filtered = df_merged[df_merged['startYear'] <= 2023]\n",
    "\n",
    "# Ajouter une colonne pour les décennies\n",
    "df_filtered['decade'] = (df_filtered['startYear'] // 10) * 10\n",
    "\n",
    "# Calculer le total par genre pour chaque décennie\n",
    "df_genre_count = df_filtered.groupby(['decade', 'genre1']).size().reset_index(name='total_genre')\n",
    "\n",
    "# Créer un bar chart avec animation par décennie\n",
    "fig = px.bar(df_genre_count, \n",
    "             x='genre1', \n",
    "             y='total_genre', \n",
    "             color='genre1', \n",
    "             animation_frame='decade', \n",
    "             title='Evolution des genres de film par décennie',\n",
    "             category_orders={'decade': list(range(df_genre_count['decade'].min(), 2024, 10))})\n",
    "\n",
    "# Ajuster les limites de l'axe Y\n",
    "fig.update_layout(yaxis_range=[0, df_genre_count['total_genre'].max() * 1.1])\n",
    "\n",
    "# Réduire la vitesse de l'animation\n",
    "animation_settings = {\n",
    "    \"frame\": {\"duration\": 2000, \"redraw\": True}, # Durée de chaque frame en millisecondes\n",
    "    \"fromcurrent\": True, \n",
    "    \"transition\": {\"duration\": 500, \"easing\": \"quadratic-in-out\"}, # Durée de la transition entre frames\n",
    "}\n",
    "\n",
    "fig.show()"
   ]
  },
  {
   "cell_type": "code",
   "execution_count": null,
   "metadata": {},
   "outputs": [
    {
     "data": {
      "application/vnd.plotly.v1+json": {
       "config": {
        "plotlyServerURL": "https://plot.ly"
       },
       "data": [
        {
         "alignmentgroup": "True",
         "hovertemplate": "Acteur/Actrice=%{x}<br>decade=1960<br>Nombre de films=%{y}<extra></extra>",
         "legendgroup": " George Kennedy",
         "marker": {
          "color": "#636efa",
          "pattern": {
           "shape": ""
          }
         },
         "name": " George Kennedy",
         "offsetgroup": " George Kennedy",
         "orientation": "v",
         "showlegend": true,
         "textposition": "auto",
         "type": "bar",
         "x": [
          " George Kennedy"
         ],
         "xaxis": "x",
         "y": [
          8
         ],
         "yaxis": "y"
        },
        {
         "alignmentgroup": "True",
         "hovertemplate": "Acteur/Actrice=%{x}<br>decade=1960<br>Nombre de films=%{y}<extra></extra>",
         "legendgroup": " John Wayne",
         "marker": {
          "color": "#EF553B",
          "pattern": {
           "shape": ""
          }
         },
         "name": " John Wayne",
         "offsetgroup": " John Wayne",
         "orientation": "v",
         "showlegend": true,
         "textposition": "auto",
         "type": "bar",
         "x": [
          " John Wayne"
         ],
         "xaxis": "x",
         "y": [
          7
         ],
         "yaxis": "y"
        },
        {
         "alignmentgroup": "True",
         "hovertemplate": "Acteur/Actrice=%{x}<br>decade=1960<br>Nombre de films=%{y}<extra></extra>",
         "legendgroup": " Alain Delon",
         "marker": {
          "color": "#00cc96",
          "pattern": {
           "shape": ""
          }
         },
         "name": " Alain Delon",
         "offsetgroup": " Alain Delon",
         "orientation": "v",
         "showlegend": true,
         "textposition": "auto",
         "type": "bar",
         "x": [
          " Alain Delon"
         ],
         "xaxis": "x",
         "y": [
          6
         ],
         "yaxis": "y"
        },
        {
         "alignmentgroup": "True",
         "hovertemplate": "Acteur/Actrice=%{x}<br>decade=1960<br>Nombre de films=%{y}<extra></extra>",
         "legendgroup": " Bernard Lee",
         "marker": {
          "color": "#ab63fa",
          "pattern": {
           "shape": ""
          }
         },
         "name": " Bernard Lee",
         "offsetgroup": " Bernard Lee",
         "orientation": "v",
         "showlegend": true,
         "textposition": "auto",
         "type": "bar",
         "x": [
          " Bernard Lee"
         ],
         "xaxis": "x",
         "y": [
          6
         ],
         "yaxis": "y"
        },
        {
         "alignmentgroup": "True",
         "hovertemplate": "Acteur/Actrice=%{x}<br>decade=1960<br>Nombre de films=%{y}<extra></extra>",
         "legendgroup": " Clint Eastwood",
         "marker": {
          "color": "#FFA15A",
          "pattern": {
           "shape": ""
          }
         },
         "name": " Clint Eastwood",
         "offsetgroup": " Clint Eastwood",
         "orientation": "v",
         "showlegend": true,
         "textposition": "auto",
         "type": "bar",
         "x": [
          " Clint Eastwood"
         ],
         "xaxis": "x",
         "y": [
          6
         ],
         "yaxis": "y"
        }
       ],
       "frames": [
        {
         "data": [
          {
           "alignmentgroup": "True",
           "hovertemplate": "Acteur/Actrice=%{x}<br>decade=1960<br>Nombre de films=%{y}<extra></extra>",
           "legendgroup": " George Kennedy",
           "marker": {
            "color": "#636efa",
            "pattern": {
             "shape": ""
            }
           },
           "name": " George Kennedy",
           "offsetgroup": " George Kennedy",
           "orientation": "v",
           "showlegend": true,
           "textposition": "auto",
           "type": "bar",
           "x": [
            " George Kennedy"
           ],
           "xaxis": "x",
           "y": [
            8
           ],
           "yaxis": "y"
          },
          {
           "alignmentgroup": "True",
           "hovertemplate": "Acteur/Actrice=%{x}<br>decade=1960<br>Nombre de films=%{y}<extra></extra>",
           "legendgroup": " John Wayne",
           "marker": {
            "color": "#EF553B",
            "pattern": {
             "shape": ""
            }
           },
           "name": " John Wayne",
           "offsetgroup": " John Wayne",
           "orientation": "v",
           "showlegend": true,
           "textposition": "auto",
           "type": "bar",
           "x": [
            " John Wayne"
           ],
           "xaxis": "x",
           "y": [
            7
           ],
           "yaxis": "y"
          },
          {
           "alignmentgroup": "True",
           "hovertemplate": "Acteur/Actrice=%{x}<br>decade=1960<br>Nombre de films=%{y}<extra></extra>",
           "legendgroup": " Alain Delon",
           "marker": {
            "color": "#00cc96",
            "pattern": {
             "shape": ""
            }
           },
           "name": " Alain Delon",
           "offsetgroup": " Alain Delon",
           "orientation": "v",
           "showlegend": true,
           "textposition": "auto",
           "type": "bar",
           "x": [
            " Alain Delon"
           ],
           "xaxis": "x",
           "y": [
            6
           ],
           "yaxis": "y"
          },
          {
           "alignmentgroup": "True",
           "hovertemplate": "Acteur/Actrice=%{x}<br>decade=1960<br>Nombre de films=%{y}<extra></extra>",
           "legendgroup": " Bernard Lee",
           "marker": {
            "color": "#ab63fa",
            "pattern": {
             "shape": ""
            }
           },
           "name": " Bernard Lee",
           "offsetgroup": " Bernard Lee",
           "orientation": "v",
           "showlegend": true,
           "textposition": "auto",
           "type": "bar",
           "x": [
            " Bernard Lee"
           ],
           "xaxis": "x",
           "y": [
            6
           ],
           "yaxis": "y"
          },
          {
           "alignmentgroup": "True",
           "hovertemplate": "Acteur/Actrice=%{x}<br>decade=1960<br>Nombre de films=%{y}<extra></extra>",
           "legendgroup": " Clint Eastwood",
           "marker": {
            "color": "#FFA15A",
            "pattern": {
             "shape": ""
            }
           },
           "name": " Clint Eastwood",
           "offsetgroup": " Clint Eastwood",
           "orientation": "v",
           "showlegend": true,
           "textposition": "auto",
           "type": "bar",
           "x": [
            " Clint Eastwood"
           ],
           "xaxis": "x",
           "y": [
            6
           ],
           "yaxis": "y"
          }
         ],
         "name": "1960"
        },
        {
         "data": [
          {
           "alignmentgroup": "True",
           "hovertemplate": "Acteur/Actrice=%{x}<br>decade=1970<br>Nombre de films=%{y}<extra></extra>",
           "legendgroup": " Clint Eastwood",
           "marker": {
            "color": "#FFA15A",
            "pattern": {
             "shape": ""
            }
           },
           "name": " Clint Eastwood",
           "offsetgroup": " Clint Eastwood",
           "orientation": "v",
           "showlegend": true,
           "textposition": "auto",
           "type": "bar",
           "x": [
            " Clint Eastwood"
           ],
           "xaxis": "x",
           "y": [
            14
           ],
           "yaxis": "y"
          },
          {
           "alignmentgroup": "True",
           "hovertemplate": "Acteur/Actrice=%{x}<br>decade=1970<br>Nombre de films=%{y}<extra></extra>",
           "legendgroup": " Donald Sutherland",
           "marker": {
            "color": "#19d3f3",
            "pattern": {
             "shape": ""
            }
           },
           "name": " Donald Sutherland",
           "offsetgroup": " Donald Sutherland",
           "orientation": "v",
           "showlegend": true,
           "textposition": "auto",
           "type": "bar",
           "x": [
            " Donald Sutherland"
           ],
           "xaxis": "x",
           "y": [
            7
           ],
           "yaxis": "y"
          },
          {
           "alignmentgroup": "True",
           "hovertemplate": "Acteur/Actrice=%{x}<br>decade=1970<br>Nombre de films=%{y}<extra></extra>",
           "legendgroup": " Terence Hill",
           "marker": {
            "color": "#FF6692",
            "pattern": {
             "shape": ""
            }
           },
           "name": " Terence Hill",
           "offsetgroup": " Terence Hill",
           "orientation": "v",
           "showlegend": true,
           "textposition": "auto",
           "type": "bar",
           "x": [
            " Terence Hill"
           ],
           "xaxis": "x",
           "y": [
            7
           ],
           "yaxis": "y"
          },
          {
           "alignmentgroup": "True",
           "hovertemplate": "Acteur/Actrice=%{x}<br>decade=1970<br>Nombre de films=%{y}<extra></extra>",
           "legendgroup": " Al Pacino",
           "marker": {
            "color": "#B6E880",
            "pattern": {
             "shape": ""
            }
           },
           "name": " Al Pacino",
           "offsetgroup": " Al Pacino",
           "orientation": "v",
           "showlegend": true,
           "textposition": "auto",
           "type": "bar",
           "x": [
            " Al Pacino"
           ],
           "xaxis": "x",
           "y": [
            6
           ],
           "yaxis": "y"
          },
          {
           "alignmentgroup": "True",
           "hovertemplate": "Acteur/Actrice=%{x}<br>decade=1970<br>Nombre de films=%{y}<extra></extra>",
           "legendgroup": " Bud Spencer",
           "marker": {
            "color": "#FF97FF",
            "pattern": {
             "shape": ""
            }
           },
           "name": " Bud Spencer",
           "offsetgroup": " Bud Spencer",
           "orientation": "v",
           "showlegend": true,
           "textposition": "auto",
           "type": "bar",
           "x": [
            " Bud Spencer"
           ],
           "xaxis": "x",
           "y": [
            6
           ],
           "yaxis": "y"
          }
         ],
         "name": "1970"
        },
        {
         "data": [
          {
           "alignmentgroup": "True",
           "hovertemplate": "Acteur/Actrice=%{x}<br>decade=1980<br>Nombre de films=%{y}<extra></extra>",
           "legendgroup": " Harrison Ford",
           "marker": {
            "color": "#FECB52",
            "pattern": {
             "shape": ""
            }
           },
           "name": " Harrison Ford",
           "offsetgroup": " Harrison Ford",
           "orientation": "v",
           "showlegend": true,
           "textposition": "auto",
           "type": "bar",
           "x": [
            " Harrison Ford"
           ],
           "xaxis": "x",
           "y": [
            9
           ],
           "yaxis": "y"
          },
          {
           "alignmentgroup": "True",
           "hovertemplate": "Acteur/Actrice=%{x}<br>decade=1980<br>Nombre de films=%{y}<extra></extra>",
           "legendgroup": " John Candy",
           "marker": {
            "color": "#636efa",
            "pattern": {
             "shape": ""
            }
           },
           "name": " John Candy",
           "offsetgroup": " John Candy",
           "orientation": "v",
           "showlegend": true,
           "textposition": "auto",
           "type": "bar",
           "x": [
            " John Candy"
           ],
           "xaxis": "x",
           "y": [
            9
           ],
           "yaxis": "y"
          },
          {
           "alignmentgroup": "True",
           "hovertemplate": "Acteur/Actrice=%{x}<br>decade=1980<br>Nombre de films=%{y}<extra></extra>",
           "legendgroup": " Robert De Niro",
           "marker": {
            "color": "#EF553B",
            "pattern": {
             "shape": ""
            }
           },
           "name": " Robert De Niro",
           "offsetgroup": " Robert De Niro",
           "orientation": "v",
           "showlegend": true,
           "textposition": "auto",
           "type": "bar",
           "x": [
            " Robert De Niro"
           ],
           "xaxis": "x",
           "y": [
            9
           ],
           "yaxis": "y"
          },
          {
           "alignmentgroup": "True",
           "hovertemplate": "Acteur/Actrice=%{x}<br>decade=1980<br>Nombre de films=%{y}<extra></extra>",
           "legendgroup": " Tom Cruise",
           "marker": {
            "color": "#00cc96",
            "pattern": {
             "shape": ""
            }
           },
           "name": " Tom Cruise",
           "offsetgroup": " Tom Cruise",
           "orientation": "v",
           "showlegend": true,
           "textposition": "auto",
           "type": "bar",
           "x": [
            " Tom Cruise"
           ],
           "xaxis": "x",
           "y": [
            9
           ],
           "yaxis": "y"
          },
          {
           "alignmentgroup": "True",
           "hovertemplate": "Acteur/Actrice=%{x}<br>decade=1980<br>Nombre de films=%{y}<extra></extra>",
           "legendgroup": " Jackie Chan",
           "marker": {
            "color": "#ab63fa",
            "pattern": {
             "shape": ""
            }
           },
           "name": " Jackie Chan",
           "offsetgroup": " Jackie Chan",
           "orientation": "v",
           "showlegend": true,
           "textposition": "auto",
           "type": "bar",
           "x": [
            " Jackie Chan"
           ],
           "xaxis": "x",
           "y": [
            8
           ],
           "yaxis": "y"
          }
         ],
         "name": "1980"
        },
        {
         "data": [
          {
           "alignmentgroup": "True",
           "hovertemplate": "Acteur/Actrice=%{x}<br>decade=1990<br>Nombre de films=%{y}<extra></extra>",
           "legendgroup": " Robert De Niro",
           "marker": {
            "color": "#EF553B",
            "pattern": {
             "shape": ""
            }
           },
           "name": " Robert De Niro",
           "offsetgroup": " Robert De Niro",
           "orientation": "v",
           "showlegend": true,
           "textposition": "auto",
           "type": "bar",
           "x": [
            " Robert De Niro"
           ],
           "xaxis": "x",
           "y": [
            18
           ],
           "yaxis": "y"
          },
          {
           "alignmentgroup": "True",
           "hovertemplate": "Acteur/Actrice=%{x}<br>decade=1990<br>Nombre de films=%{y}<extra></extra>",
           "legendgroup": " Samuel L. Jackson",
           "marker": {
            "color": "#FFA15A",
            "pattern": {
             "shape": ""
            }
           },
           "name": " Samuel L. Jackson",
           "offsetgroup": " Samuel L. Jackson",
           "orientation": "v",
           "showlegend": true,
           "textposition": "auto",
           "type": "bar",
           "x": [
            " Samuel L. Jackson"
           ],
           "xaxis": "x",
           "y": [
            15
           ],
           "yaxis": "y"
          },
          {
           "alignmentgroup": "True",
           "hovertemplate": "Acteur/Actrice=%{x}<br>decade=1990<br>Nombre de films=%{y}<extra></extra>",
           "legendgroup": " Brad Pitt",
           "marker": {
            "color": "#19d3f3",
            "pattern": {
             "shape": ""
            }
           },
           "name": " Brad Pitt",
           "offsetgroup": " Brad Pitt",
           "orientation": "v",
           "showlegend": true,
           "textposition": "auto",
           "type": "bar",
           "x": [
            " Brad Pitt"
           ],
           "xaxis": "x",
           "y": [
            13
           ],
           "yaxis": "y"
          },
          {
           "alignmentgroup": "True",
           "hovertemplate": "Acteur/Actrice=%{x}<br>decade=1990<br>Nombre de films=%{y}<extra></extra>",
           "legendgroup": " Denzel Washington",
           "marker": {
            "color": "#FF6692",
            "pattern": {
             "shape": ""
            }
           },
           "name": " Denzel Washington",
           "offsetgroup": " Denzel Washington",
           "orientation": "v",
           "showlegend": true,
           "textposition": "auto",
           "type": "bar",
           "x": [
            " Denzel Washington"
           ],
           "xaxis": "x",
           "y": [
            13
           ],
           "yaxis": "y"
          },
          {
           "alignmentgroup": "True",
           "hovertemplate": "Acteur/Actrice=%{x}<br>decade=1990<br>Nombre de films=%{y}<extra></extra>",
           "legendgroup": " Bruce Willis",
           "marker": {
            "color": "#B6E880",
            "pattern": {
             "shape": ""
            }
           },
           "name": " Bruce Willis",
           "offsetgroup": " Bruce Willis",
           "orientation": "v",
           "showlegend": true,
           "textposition": "auto",
           "type": "bar",
           "x": [
            " Bruce Willis"
           ],
           "xaxis": "x",
           "y": [
            12
           ],
           "yaxis": "y"
          }
         ],
         "name": "1990"
        },
        {
         "data": [
          {
           "alignmentgroup": "True",
           "hovertemplate": "Acteur/Actrice=%{x}<br>decade=2000<br>Nombre de films=%{y}<extra></extra>",
           "legendgroup": " Morgan Freeman",
           "marker": {
            "color": "#FF97FF",
            "pattern": {
             "shape": ""
            }
           },
           "name": " Morgan Freeman",
           "offsetgroup": " Morgan Freeman",
           "orientation": "v",
           "showlegend": true,
           "textposition": "auto",
           "type": "bar",
           "x": [
            " Morgan Freeman"
           ],
           "xaxis": "x",
           "y": [
            16
           ],
           "yaxis": "y"
          },
          {
           "alignmentgroup": "True",
           "hovertemplate": "Acteur/Actrice=%{x}<br>decade=2000<br>Nombre de films=%{y}<extra></extra>",
           "legendgroup": " Cate Blanchett",
           "marker": {
            "color": "#FECB52",
            "pattern": {
             "shape": ""
            }
           },
           "name": " Cate Blanchett",
           "offsetgroup": " Cate Blanchett",
           "orientation": "v",
           "showlegend": true,
           "textposition": "auto",
           "type": "bar",
           "x": [
            " Cate Blanchett"
           ],
           "xaxis": "x",
           "y": [
            15
           ],
           "yaxis": "y"
          },
          {
           "alignmentgroup": "True",
           "hovertemplate": "Acteur/Actrice=%{x}<br>decade=2000<br>Nombre de films=%{y}<extra></extra>",
           "legendgroup": " Christian Bale",
           "marker": {
            "color": "#636efa",
            "pattern": {
             "shape": ""
            }
           },
           "name": " Christian Bale",
           "offsetgroup": " Christian Bale",
           "orientation": "v",
           "showlegend": true,
           "textposition": "auto",
           "type": "bar",
           "x": [
            " Christian Bale"
           ],
           "xaxis": "x",
           "y": [
            15
           ],
           "yaxis": "y"
          },
          {
           "alignmentgroup": "True",
           "hovertemplate": "Acteur/Actrice=%{x}<br>decade=2000<br>Nombre de films=%{y}<extra></extra>",
           "legendgroup": " Charlize Theron",
           "marker": {
            "color": "#EF553B",
            "pattern": {
             "shape": ""
            }
           },
           "name": " Charlize Theron",
           "offsetgroup": " Charlize Theron",
           "orientation": "v",
           "showlegend": true,
           "textposition": "auto",
           "type": "bar",
           "x": [
            " Charlize Theron"
           ],
           "xaxis": "x",
           "y": [
            14
           ],
           "yaxis": "y"
          },
          {
           "alignmentgroup": "True",
           "hovertemplate": "Acteur/Actrice=%{x}<br>decade=2000<br>Nombre de films=%{y}<extra></extra>",
           "legendgroup": " George Clooney",
           "marker": {
            "color": "#00cc96",
            "pattern": {
             "shape": ""
            }
           },
           "name": " George Clooney",
           "offsetgroup": " George Clooney",
           "orientation": "v",
           "showlegend": true,
           "textposition": "auto",
           "type": "bar",
           "x": [
            " George Clooney"
           ],
           "xaxis": "x",
           "y": [
            14
           ],
           "yaxis": "y"
          }
         ],
         "name": "2000"
        },
        {
         "data": [
          {
           "alignmentgroup": "True",
           "hovertemplate": "Acteur/Actrice=%{x}<br>decade=2010<br>Nombre de films=%{y}<extra></extra>",
           "legendgroup": " Samuel L. Jackson",
           "marker": {
            "color": "#FFA15A",
            "pattern": {
             "shape": ""
            }
           },
           "name": " Samuel L. Jackson",
           "offsetgroup": " Samuel L. Jackson",
           "orientation": "v",
           "showlegend": true,
           "textposition": "auto",
           "type": "bar",
           "x": [
            " Samuel L. Jackson"
           ],
           "xaxis": "x",
           "y": [
            17
           ],
           "yaxis": "y"
          },
          {
           "alignmentgroup": "True",
           "hovertemplate": "Acteur/Actrice=%{x}<br>decade=2010<br>Nombre de films=%{y}<extra></extra>",
           "legendgroup": " Mark Strong",
           "marker": {
            "color": "#ab63fa",
            "pattern": {
             "shape": ""
            }
           },
           "name": " Mark Strong",
           "offsetgroup": " Mark Strong",
           "orientation": "v",
           "showlegend": true,
           "textposition": "auto",
           "type": "bar",
           "x": [
            " Mark Strong"
           ],
           "xaxis": "x",
           "y": [
            18
           ],
           "yaxis": "y"
          },
          {
           "alignmentgroup": "True",
           "hovertemplate": "Acteur/Actrice=%{x}<br>decade=2010<br>Nombre de films=%{y}<extra></extra>",
           "legendgroup": " Mark Wahlberg",
           "marker": {
            "color": "#FFA15A",
            "pattern": {
             "shape": ""
            }
           },
           "name": " Mark Wahlberg",
           "offsetgroup": " Mark Wahlberg",
           "orientation": "v",
           "showlegend": true,
           "textposition": "auto",
           "type": "bar",
           "x": [
            " Mark Wahlberg"
           ],
           "xaxis": "x",
           "y": [
            18
           ],
           "yaxis": "y"
          },
          {
           "alignmentgroup": "True",
           "hovertemplate": "Acteur/Actrice=%{x}<br>decade=2010<br>Nombre de films=%{y}<extra></extra>",
           "legendgroup": " Woody Harrelson",
           "marker": {
            "color": "#19d3f3",
            "pattern": {
             "shape": ""
            }
           },
           "name": " Woody Harrelson",
           "offsetgroup": " Woody Harrelson",
           "orientation": "v",
           "showlegend": true,
           "textposition": "auto",
           "type": "bar",
           "x": [
            " Woody Harrelson"
           ],
           "xaxis": "x",
           "y": [
            18
           ],
           "yaxis": "y"
          },
          {
           "alignmentgroup": "True",
           "hovertemplate": "Acteur/Actrice=%{x}<br>decade=2010<br>Nombre de films=%{y}<extra></extra>",
           "legendgroup": " Colin Farrell",
           "marker": {
            "color": "#FF6692",
            "pattern": {
             "shape": ""
            }
           },
           "name": " Colin Farrell",
           "offsetgroup": " Colin Farrell",
           "orientation": "v",
           "showlegend": true,
           "textposition": "auto",
           "type": "bar",
           "x": [
            " Colin Farrell"
           ],
           "xaxis": "x",
           "y": [
            16
           ],
           "yaxis": "y"
          }
         ],
         "name": "2010"
        },
        {
         "data": [
          {
           "alignmentgroup": "True",
           "hovertemplate": "Acteur/Actrice=%{x}<br>decade=2020<br>Nombre de films=%{y}<extra></extra>",
           "legendgroup": " Timothée Chalamet",
           "marker": {
            "color": "#B6E880",
            "pattern": {
             "shape": ""
            }
           },
           "name": " Timothée Chalamet",
           "offsetgroup": " Timothée Chalamet",
           "orientation": "v",
           "showlegend": true,
           "textposition": "auto",
           "type": "bar",
           "x": [
            " Timothée Chalamet"
           ],
           "xaxis": "x",
           "y": [
            7
           ],
           "yaxis": "y"
          },
          {
           "alignmentgroup": "True",
           "hovertemplate": "Acteur/Actrice=%{x}<br>decade=2020<br>Nombre de films=%{y}<extra></extra>",
           "legendgroup": " Christopher Abbott",
           "marker": {
            "color": "#FF97FF",
            "pattern": {
             "shape": ""
            }
           },
           "name": " Christopher Abbott",
           "offsetgroup": " Christopher Abbott",
           "orientation": "v",
           "showlegend": true,
           "textposition": "auto",
           "type": "bar",
           "x": [
            " Christopher Abbott"
           ],
           "xaxis": "x",
           "y": [
            6
           ],
           "yaxis": "y"
          },
          {
           "alignmentgroup": "True",
           "hovertemplate": "Acteur/Actrice=%{x}<br>decade=2020<br>Nombre de films=%{y}<extra></extra>",
           "legendgroup": " Dave Bautista",
           "marker": {
            "color": "#FECB52",
            "pattern": {
             "shape": ""
            }
           },
           "name": " Dave Bautista",
           "offsetgroup": " Dave Bautista",
           "orientation": "v",
           "showlegend": true,
           "textposition": "auto",
           "type": "bar",
           "x": [
            " Dave Bautista"
           ],
           "xaxis": "x",
           "y": [
            6
           ],
           "yaxis": "y"
          },
          {
           "alignmentgroup": "True",
           "hovertemplate": "Acteur/Actrice=%{x}<br>decade=2020<br>Nombre de films=%{y}<extra></extra>",
           "legendgroup": " Jessie Buckley",
           "marker": {
            "color": "#636efa",
            "pattern": {
             "shape": ""
            }
           },
           "name": " Jessie Buckley",
           "offsetgroup": " Jessie Buckley",
           "orientation": "v",
           "showlegend": true,
           "textposition": "auto",
           "type": "bar",
           "x": [
            " Jessie Buckley"
           ],
           "xaxis": "x",
           "y": [
            6
           ],
           "yaxis": "y"
          },
          {
           "alignmentgroup": "True",
           "hovertemplate": "Acteur/Actrice=%{x}<br>decade=2020<br>Nombre de films=%{y}<extra></extra>",
           "legendgroup": " Lil Rel Howery",
           "marker": {
            "color": "#EF553B",
            "pattern": {
             "shape": ""
            }
           },
           "name": " Lil Rel Howery",
           "offsetgroup": " Lil Rel Howery",
           "orientation": "v",
           "showlegend": true,
           "textposition": "auto",
           "type": "bar",
           "x": [
            " Lil Rel Howery"
           ],
           "xaxis": "x",
           "y": [
            6
           ],
           "yaxis": "y"
          }
         ],
         "name": "2020"
        }
       ],
       "layout": {
        "barmode": "relative",
        "height": 600,
        "legend": {
         "title": {
          "text": "Acteur/Actrice"
         },
         "tracegroupgap": 0
        },
        "showlegend": false,
        "sliders": [
         {
          "active": 0,
          "currentvalue": {
           "prefix": "decade="
          },
          "len": 0.9,
          "pad": {
           "b": 10,
           "t": 60
          },
          "steps": [
           {
            "args": [
             [
              "1960"
             ],
             {
              "frame": {
               "duration": 0,
               "redraw": true
              },
              "fromcurrent": true,
              "mode": "immediate",
              "transition": {
               "duration": 0,
               "easing": "linear"
              }
             }
            ],
            "label": "1960",
            "method": "animate"
           },
           {
            "args": [
             [
              "1970"
             ],
             {
              "frame": {
               "duration": 0,
               "redraw": true
              },
              "fromcurrent": true,
              "mode": "immediate",
              "transition": {
               "duration": 0,
               "easing": "linear"
              }
             }
            ],
            "label": "1970",
            "method": "animate"
           },
           {
            "args": [
             [
              "1980"
             ],
             {
              "frame": {
               "duration": 0,
               "redraw": true
              },
              "fromcurrent": true,
              "mode": "immediate",
              "transition": {
               "duration": 0,
               "easing": "linear"
              }
             }
            ],
            "label": "1980",
            "method": "animate"
           },
           {
            "args": [
             [
              "1990"
             ],
             {
              "frame": {
               "duration": 0,
               "redraw": true
              },
              "fromcurrent": true,
              "mode": "immediate",
              "transition": {
               "duration": 0,
               "easing": "linear"
              }
             }
            ],
            "label": "1990",
            "method": "animate"
           },
           {
            "args": [
             [
              "2000"
             ],
             {
              "frame": {
               "duration": 0,
               "redraw": true
              },
              "fromcurrent": true,
              "mode": "immediate",
              "transition": {
               "duration": 0,
               "easing": "linear"
              }
             }
            ],
            "label": "2000",
            "method": "animate"
           },
           {
            "args": [
             [
              "2010"
             ],
             {
              "frame": {
               "duration": 0,
               "redraw": true
              },
              "fromcurrent": true,
              "mode": "immediate",
              "transition": {
               "duration": 0,
               "easing": "linear"
              }
             }
            ],
            "label": "2010",
            "method": "animate"
           },
           {
            "args": [
             [
              "2020"
             ],
             {
              "frame": {
               "duration": 0,
               "redraw": true
              },
              "fromcurrent": true,
              "mode": "immediate",
              "transition": {
               "duration": 0,
               "easing": "linear"
              }
             }
            ],
            "label": "2020",
            "method": "animate"
           }
          ],
          "x": 0.1,
          "xanchor": "left",
          "y": 0,
          "yanchor": "top"
         }
        ],
        "template": {
         "data": {
          "bar": [
           {
            "error_x": {
             "color": "#2a3f5f"
            },
            "error_y": {
             "color": "#2a3f5f"
            },
            "marker": {
             "line": {
              "color": "#E5ECF6",
              "width": 0.5
             },
             "pattern": {
              "fillmode": "overlay",
              "size": 10,
              "solidity": 0.2
             }
            },
            "type": "bar"
           }
          ],
          "barpolar": [
           {
            "marker": {
             "line": {
              "color": "#E5ECF6",
              "width": 0.5
             },
             "pattern": {
              "fillmode": "overlay",
              "size": 10,
              "solidity": 0.2
             }
            },
            "type": "barpolar"
           }
          ],
          "carpet": [
           {
            "aaxis": {
             "endlinecolor": "#2a3f5f",
             "gridcolor": "white",
             "linecolor": "white",
             "minorgridcolor": "white",
             "startlinecolor": "#2a3f5f"
            },
            "baxis": {
             "endlinecolor": "#2a3f5f",
             "gridcolor": "white",
             "linecolor": "white",
             "minorgridcolor": "white",
             "startlinecolor": "#2a3f5f"
            },
            "type": "carpet"
           }
          ],
          "choropleth": [
           {
            "colorbar": {
             "outlinewidth": 0,
             "ticks": ""
            },
            "type": "choropleth"
           }
          ],
          "contour": [
           {
            "colorbar": {
             "outlinewidth": 0,
             "ticks": ""
            },
            "colorscale": [
             [
              0,
              "#0d0887"
             ],
             [
              0.1111111111111111,
              "#46039f"
             ],
             [
              0.2222222222222222,
              "#7201a8"
             ],
             [
              0.3333333333333333,
              "#9c179e"
             ],
             [
              0.4444444444444444,
              "#bd3786"
             ],
             [
              0.5555555555555556,
              "#d8576b"
             ],
             [
              0.6666666666666666,
              "#ed7953"
             ],
             [
              0.7777777777777778,
              "#fb9f3a"
             ],
             [
              0.8888888888888888,
              "#fdca26"
             ],
             [
              1,
              "#f0f921"
             ]
            ],
            "type": "contour"
           }
          ],
          "contourcarpet": [
           {
            "colorbar": {
             "outlinewidth": 0,
             "ticks": ""
            },
            "type": "contourcarpet"
           }
          ],
          "heatmap": [
           {
            "colorbar": {
             "outlinewidth": 0,
             "ticks": ""
            },
            "colorscale": [
             [
              0,
              "#0d0887"
             ],
             [
              0.1111111111111111,
              "#46039f"
             ],
             [
              0.2222222222222222,
              "#7201a8"
             ],
             [
              0.3333333333333333,
              "#9c179e"
             ],
             [
              0.4444444444444444,
              "#bd3786"
             ],
             [
              0.5555555555555556,
              "#d8576b"
             ],
             [
              0.6666666666666666,
              "#ed7953"
             ],
             [
              0.7777777777777778,
              "#fb9f3a"
             ],
             [
              0.8888888888888888,
              "#fdca26"
             ],
             [
              1,
              "#f0f921"
             ]
            ],
            "type": "heatmap"
           }
          ],
          "heatmapgl": [
           {
            "colorbar": {
             "outlinewidth": 0,
             "ticks": ""
            },
            "colorscale": [
             [
              0,
              "#0d0887"
             ],
             [
              0.1111111111111111,
              "#46039f"
             ],
             [
              0.2222222222222222,
              "#7201a8"
             ],
             [
              0.3333333333333333,
              "#9c179e"
             ],
             [
              0.4444444444444444,
              "#bd3786"
             ],
             [
              0.5555555555555556,
              "#d8576b"
             ],
             [
              0.6666666666666666,
              "#ed7953"
             ],
             [
              0.7777777777777778,
              "#fb9f3a"
             ],
             [
              0.8888888888888888,
              "#fdca26"
             ],
             [
              1,
              "#f0f921"
             ]
            ],
            "type": "heatmapgl"
           }
          ],
          "histogram": [
           {
            "marker": {
             "pattern": {
              "fillmode": "overlay",
              "size": 10,
              "solidity": 0.2
             }
            },
            "type": "histogram"
           }
          ],
          "histogram2d": [
           {
            "colorbar": {
             "outlinewidth": 0,
             "ticks": ""
            },
            "colorscale": [
             [
              0,
              "#0d0887"
             ],
             [
              0.1111111111111111,
              "#46039f"
             ],
             [
              0.2222222222222222,
              "#7201a8"
             ],
             [
              0.3333333333333333,
              "#9c179e"
             ],
             [
              0.4444444444444444,
              "#bd3786"
             ],
             [
              0.5555555555555556,
              "#d8576b"
             ],
             [
              0.6666666666666666,
              "#ed7953"
             ],
             [
              0.7777777777777778,
              "#fb9f3a"
             ],
             [
              0.8888888888888888,
              "#fdca26"
             ],
             [
              1,
              "#f0f921"
             ]
            ],
            "type": "histogram2d"
           }
          ],
          "histogram2dcontour": [
           {
            "colorbar": {
             "outlinewidth": 0,
             "ticks": ""
            },
            "colorscale": [
             [
              0,
              "#0d0887"
             ],
             [
              0.1111111111111111,
              "#46039f"
             ],
             [
              0.2222222222222222,
              "#7201a8"
             ],
             [
              0.3333333333333333,
              "#9c179e"
             ],
             [
              0.4444444444444444,
              "#bd3786"
             ],
             [
              0.5555555555555556,
              "#d8576b"
             ],
             [
              0.6666666666666666,
              "#ed7953"
             ],
             [
              0.7777777777777778,
              "#fb9f3a"
             ],
             [
              0.8888888888888888,
              "#fdca26"
             ],
             [
              1,
              "#f0f921"
             ]
            ],
            "type": "histogram2dcontour"
           }
          ],
          "mesh3d": [
           {
            "colorbar": {
             "outlinewidth": 0,
             "ticks": ""
            },
            "type": "mesh3d"
           }
          ],
          "parcoords": [
           {
            "line": {
             "colorbar": {
              "outlinewidth": 0,
              "ticks": ""
             }
            },
            "type": "parcoords"
           }
          ],
          "pie": [
           {
            "automargin": true,
            "type": "pie"
           }
          ],
          "scatter": [
           {
            "fillpattern": {
             "fillmode": "overlay",
             "size": 10,
             "solidity": 0.2
            },
            "type": "scatter"
           }
          ],
          "scatter3d": [
           {
            "line": {
             "colorbar": {
              "outlinewidth": 0,
              "ticks": ""
             }
            },
            "marker": {
             "colorbar": {
              "outlinewidth": 0,
              "ticks": ""
             }
            },
            "type": "scatter3d"
           }
          ],
          "scattercarpet": [
           {
            "marker": {
             "colorbar": {
              "outlinewidth": 0,
              "ticks": ""
             }
            },
            "type": "scattercarpet"
           }
          ],
          "scattergeo": [
           {
            "marker": {
             "colorbar": {
              "outlinewidth": 0,
              "ticks": ""
             }
            },
            "type": "scattergeo"
           }
          ],
          "scattergl": [
           {
            "marker": {
             "colorbar": {
              "outlinewidth": 0,
              "ticks": ""
             }
            },
            "type": "scattergl"
           }
          ],
          "scattermapbox": [
           {
            "marker": {
             "colorbar": {
              "outlinewidth": 0,
              "ticks": ""
             }
            },
            "type": "scattermapbox"
           }
          ],
          "scatterpolar": [
           {
            "marker": {
             "colorbar": {
              "outlinewidth": 0,
              "ticks": ""
             }
            },
            "type": "scatterpolar"
           }
          ],
          "scatterpolargl": [
           {
            "marker": {
             "colorbar": {
              "outlinewidth": 0,
              "ticks": ""
             }
            },
            "type": "scatterpolargl"
           }
          ],
          "scatterternary": [
           {
            "marker": {
             "colorbar": {
              "outlinewidth": 0,
              "ticks": ""
             }
            },
            "type": "scatterternary"
           }
          ],
          "surface": [
           {
            "colorbar": {
             "outlinewidth": 0,
             "ticks": ""
            },
            "colorscale": [
             [
              0,
              "#0d0887"
             ],
             [
              0.1111111111111111,
              "#46039f"
             ],
             [
              0.2222222222222222,
              "#7201a8"
             ],
             [
              0.3333333333333333,
              "#9c179e"
             ],
             [
              0.4444444444444444,
              "#bd3786"
             ],
             [
              0.5555555555555556,
              "#d8576b"
             ],
             [
              0.6666666666666666,
              "#ed7953"
             ],
             [
              0.7777777777777778,
              "#fb9f3a"
             ],
             [
              0.8888888888888888,
              "#fdca26"
             ],
             [
              1,
              "#f0f921"
             ]
            ],
            "type": "surface"
           }
          ],
          "table": [
           {
            "cells": {
             "fill": {
              "color": "#EBF0F8"
             },
             "line": {
              "color": "white"
             }
            },
            "header": {
             "fill": {
              "color": "#C8D4E3"
             },
             "line": {
              "color": "white"
             }
            },
            "type": "table"
           }
          ]
         },
         "layout": {
          "annotationdefaults": {
           "arrowcolor": "#2a3f5f",
           "arrowhead": 0,
           "arrowwidth": 1
          },
          "autotypenumbers": "strict",
          "coloraxis": {
           "colorbar": {
            "outlinewidth": 0,
            "ticks": ""
           }
          },
          "colorscale": {
           "diverging": [
            [
             0,
             "#8e0152"
            ],
            [
             0.1,
             "#c51b7d"
            ],
            [
             0.2,
             "#de77ae"
            ],
            [
             0.3,
             "#f1b6da"
            ],
            [
             0.4,
             "#fde0ef"
            ],
            [
             0.5,
             "#f7f7f7"
            ],
            [
             0.6,
             "#e6f5d0"
            ],
            [
             0.7,
             "#b8e186"
            ],
            [
             0.8,
             "#7fbc41"
            ],
            [
             0.9,
             "#4d9221"
            ],
            [
             1,
             "#276419"
            ]
           ],
           "sequential": [
            [
             0,
             "#0d0887"
            ],
            [
             0.1111111111111111,
             "#46039f"
            ],
            [
             0.2222222222222222,
             "#7201a8"
            ],
            [
             0.3333333333333333,
             "#9c179e"
            ],
            [
             0.4444444444444444,
             "#bd3786"
            ],
            [
             0.5555555555555556,
             "#d8576b"
            ],
            [
             0.6666666666666666,
             "#ed7953"
            ],
            [
             0.7777777777777778,
             "#fb9f3a"
            ],
            [
             0.8888888888888888,
             "#fdca26"
            ],
            [
             1,
             "#f0f921"
            ]
           ],
           "sequentialminus": [
            [
             0,
             "#0d0887"
            ],
            [
             0.1111111111111111,
             "#46039f"
            ],
            [
             0.2222222222222222,
             "#7201a8"
            ],
            [
             0.3333333333333333,
             "#9c179e"
            ],
            [
             0.4444444444444444,
             "#bd3786"
            ],
            [
             0.5555555555555556,
             "#d8576b"
            ],
            [
             0.6666666666666666,
             "#ed7953"
            ],
            [
             0.7777777777777778,
             "#fb9f3a"
            ],
            [
             0.8888888888888888,
             "#fdca26"
            ],
            [
             1,
             "#f0f921"
            ]
           ]
          },
          "colorway": [
           "#636efa",
           "#EF553B",
           "#00cc96",
           "#ab63fa",
           "#FFA15A",
           "#19d3f3",
           "#FF6692",
           "#B6E880",
           "#FF97FF",
           "#FECB52"
          ],
          "font": {
           "color": "#2a3f5f"
          },
          "geo": {
           "bgcolor": "white",
           "lakecolor": "white",
           "landcolor": "#E5ECF6",
           "showlakes": true,
           "showland": true,
           "subunitcolor": "white"
          },
          "hoverlabel": {
           "align": "left"
          },
          "hovermode": "closest",
          "mapbox": {
           "style": "light"
          },
          "paper_bgcolor": "white",
          "plot_bgcolor": "#E5ECF6",
          "polar": {
           "angularaxis": {
            "gridcolor": "white",
            "linecolor": "white",
            "ticks": ""
           },
           "bgcolor": "#E5ECF6",
           "radialaxis": {
            "gridcolor": "white",
            "linecolor": "white",
            "ticks": ""
           }
          },
          "scene": {
           "xaxis": {
            "backgroundcolor": "#E5ECF6",
            "gridcolor": "white",
            "gridwidth": 2,
            "linecolor": "white",
            "showbackground": true,
            "ticks": "",
            "zerolinecolor": "white"
           },
           "yaxis": {
            "backgroundcolor": "#E5ECF6",
            "gridcolor": "white",
            "gridwidth": 2,
            "linecolor": "white",
            "showbackground": true,
            "ticks": "",
            "zerolinecolor": "white"
           },
           "zaxis": {
            "backgroundcolor": "#E5ECF6",
            "gridcolor": "white",
            "gridwidth": 2,
            "linecolor": "white",
            "showbackground": true,
            "ticks": "",
            "zerolinecolor": "white"
           }
          },
          "shapedefaults": {
           "line": {
            "color": "#2a3f5f"
           }
          },
          "ternary": {
           "aaxis": {
            "gridcolor": "white",
            "linecolor": "white",
            "ticks": ""
           },
           "baxis": {
            "gridcolor": "white",
            "linecolor": "white",
            "ticks": ""
           },
           "bgcolor": "#E5ECF6",
           "caxis": {
            "gridcolor": "white",
            "linecolor": "white",
            "ticks": ""
           }
          },
          "title": {
           "x": 0.05
          },
          "xaxis": {
           "automargin": true,
           "gridcolor": "white",
           "linecolor": "white",
           "ticks": "",
           "title": {
            "standoff": 15
           },
           "zerolinecolor": "white",
           "zerolinewidth": 2
          },
          "yaxis": {
           "automargin": true,
           "gridcolor": "white",
           "linecolor": "white",
           "ticks": "",
           "title": {
            "standoff": 15
           },
           "zerolinecolor": "white",
           "zerolinewidth": 2
          }
         }
        },
        "title": {
         "text": "Top 5 acteurs/actrices les plus prolifiques par décennie"
        },
        "updatemenus": [
         {
          "buttons": [
           {
            "args": [
             null,
             {
              "frame": {
               "duration": 2000,
               "redraw": true
              },
              "fromcurrent": true,
              "mode": "immediate",
              "transition": {
               "duration": 500,
               "easing": "linear"
              }
             }
            ],
            "label": "&#9654;",
            "method": "animate"
           },
           {
            "args": [
             [
              null
             ],
             {
              "frame": {
               "duration": 0,
               "redraw": true
              },
              "fromcurrent": true,
              "mode": "immediate",
              "transition": {
               "duration": 0,
               "easing": "linear"
              }
             }
            ],
            "label": "&#9724;",
            "method": "animate"
           }
          ],
          "direction": "left",
          "pad": {
           "r": 10,
           "t": 70
          },
          "showactive": false,
          "type": "buttons",
          "x": 0.1,
          "xanchor": "right",
          "y": 0,
          "yanchor": "top"
         }
        ],
        "xaxis": {
         "anchor": "y",
         "categoryarray": [
          " George Kennedy",
          " John Wayne",
          " Alain Delon",
          " Bernard Lee",
          " Clint Eastwood",
          " Donald Sutherland",
          " Terence Hill",
          " Al Pacino",
          " Bud Spencer",
          " Harrison Ford",
          " John Candy",
          " Robert De Niro",
          " Tom Cruise",
          " Jackie Chan",
          " Samuel L. Jackson",
          " Brad Pitt",
          " Denzel Washington",
          " Bruce Willis",
          " Morgan Freeman",
          " Cate Blanchett",
          " Christian Bale",
          " Charlize Theron",
          " George Clooney",
          " Mark Strong",
          " Mark Wahlberg",
          " Woody Harrelson",
          " Colin Farrell",
          " Timothée Chalamet",
          " Christopher Abbott",
          " Dave Bautista",
          " Jessie Buckley",
          " Lil Rel Howery"
         ],
         "categoryorder": "total descending",
         "domain": [
          0,
          1
         ],
         "title": {
          "text": "Acteur/Actrice"
         }
        },
        "yaxis": {
         "anchor": "x",
         "domain": [
          0,
          1
         ],
         "range": [
          0,
          23
         ],
         "title": {
          "text": "Nombre de films"
         }
        }
       }
      }
     },
     "metadata": {},
     "output_type": "display_data"
    }
   ],
   "source": [
    "# Extraire la décennie de l'année de sortie\n",
    "df_merged['decade'] = (df_merged['startYear'] // 10) * 10\n",
    "\n",
    "# Exploser les acteurs/actrices dans des lignes séparées\n",
    "df_exploded = df_merged.explode('Actors_Actresses')\n",
    "\n",
    "# Compter le nombre de films pour chaque acteur/actrice par décennie\n",
    "actor_counts_by_decade = df_exploded.groupby(['decade', 'Actors_Actresses']).size().reset_index(name='film_count')\n",
    "\n",
    "# Identifier les 5 acteurs/actrices les plus prolifiques pour chaque décennie\n",
    "top_actors_by_decade = actor_counts_by_decade.sort_values(by=['decade', 'film_count'], ascending=[True, False])\n",
    "top_actors_by_decade = top_actors_by_decade.groupby('decade').head(5)\n",
    "\n",
    "# Créer un graphique à barres animé avec une vitesse réduite\n",
    "fig = px.bar(top_actors_by_decade, \n",
    "             x='Actors_Actresses', \n",
    "             y='film_count', \n",
    "             color='Actors_Actresses', \n",
    "             animation_frame='decade', \n",
    "             range_y=[0, top_actors_by_decade['film_count'].max() + 5],\n",
    "             title='Top 5 acteurs/actrices les plus prolifiques par décennie',\n",
    "             labels={'film_count': 'Nombre de films', 'Actors_Actresses': 'Acteur/Actrice'},\n",
    "             height=600)\n",
    "\n",
    "# Ralentir la vitesse du diaporama en ajustant le frame_duration (par exemple, 1000 millisecondes)\n",
    "fig.layout.updatemenus[0].buttons[0].args[1]['frame']['duration'] = 2000\n",
    "\n",
    "fig.update_layout(xaxis={'categoryorder':'total descending'}, showlegend=False)\n",
    "fig.show()\n",
    "\n"
   ]
  },
  {
   "cell_type": "code",
   "execution_count": 88,
   "metadata": {},
   "outputs": [],
   "source": [
    "df = df_merged"
   ]
  },
  {
   "cell_type": "code",
   "execution_count": 89,
   "metadata": {},
   "outputs": [],
   "source": [
    "# Convertir la colonne startYear en type int pour faciliter le filtrage par décennie\n",
    "df['startYear'] = df['startYear'].astype(int)\n",
    "\n",
    "# Ajouter une colonne pour représenter la décennie\n",
    "df['decade'] = (df['startYear'] // 10) * 10\n"
   ]
  },
  {
   "cell_type": "code",
   "execution_count": 90,
   "metadata": {},
   "outputs": [],
   "source": [
    "# Créer une liste unique d'acteurs\n",
    "all_actors = df[['actor1', 'actor2', 'actor3', 'actor4', 'actor5', 'actor6', 'actor7', 'actor8', 'actor9', 'actor10']].values.flatten()\n",
    "unique_actors = set(all_actors)\n",
    "\n",
    "# Créer un DataFrame vide pour stocker les moyennes de note par acteur et par décennie\n",
    "actor_ratings = pd.DataFrame(columns=['Actor', 'Decade', 'AverageRating'])\n"
   ]
  },
  {
   "cell_type": "code",
   "execution_count": 91,
   "metadata": {},
   "outputs": [
    {
     "ename": "KeyboardInterrupt",
     "evalue": "",
     "output_type": "error",
     "traceback": [
      "\u001b[1;31m---------------------------------------------------------------------------\u001b[0m",
      "\u001b[1;31mKeyboardInterrupt\u001b[0m                         Traceback (most recent call last)",
      "Cell \u001b[1;32mIn[91], line 4\u001b[0m\n\u001b[0;32m      2\u001b[0m \u001b[38;5;28;01mfor\u001b[39;00m actor \u001b[38;5;129;01min\u001b[39;00m unique_actors:\n\u001b[0;32m      3\u001b[0m     \u001b[38;5;28;01mif\u001b[39;00m pd\u001b[38;5;241m.\u001b[39mnotnull(actor):\n\u001b[1;32m----> 4\u001b[0m         actor_mask \u001b[38;5;241m=\u001b[39m \u001b[43mdf\u001b[49m\u001b[38;5;241;43m.\u001b[39;49m\u001b[43misin\u001b[49m\u001b[43m(\u001b[49m\u001b[43m[\u001b[49m\u001b[43mactor\u001b[49m\u001b[43m]\u001b[49m\u001b[43m)\u001b[49m\u001b[38;5;241m.\u001b[39many(axis\u001b[38;5;241m=\u001b[39m\u001b[38;5;241m1\u001b[39m)\n\u001b[0;32m      5\u001b[0m         actor_data \u001b[38;5;241m=\u001b[39m df[actor_mask]\n\u001b[0;32m      6\u001b[0m         actor_decade_avg \u001b[38;5;241m=\u001b[39m actor_data\u001b[38;5;241m.\u001b[39mgroupby(\u001b[38;5;124m'\u001b[39m\u001b[38;5;124mdecade\u001b[39m\u001b[38;5;124m'\u001b[39m)[\u001b[38;5;124m'\u001b[39m\u001b[38;5;124maverageRating\u001b[39m\u001b[38;5;124m'\u001b[39m]\u001b[38;5;241m.\u001b[39mmean()\u001b[38;5;241m.\u001b[39mreset_index()\n",
      "File \u001b[1;32mc:\\Users\\pnii\\AppData\\Local\\Programs\\Python\\Python312\\Lib\\site-packages\\pandas\\core\\frame.py:12468\u001b[0m, in \u001b[0;36mDataFrame.isin\u001b[1;34m(self, values)\u001b[0m\n\u001b[0;32m  12462\u001b[0m         result \u001b[38;5;241m=\u001b[39m algorithms\u001b[38;5;241m.\u001b[39misin(\n\u001b[0;32m  12463\u001b[0m             x\u001b[38;5;241m.\u001b[39mravel(),\n\u001b[0;32m  12464\u001b[0m             values,  \u001b[38;5;66;03m# type: ignore[arg-type]\u001b[39;00m\n\u001b[0;32m  12465\u001b[0m         )\n\u001b[0;32m  12466\u001b[0m         \u001b[38;5;28;01mreturn\u001b[39;00m result\u001b[38;5;241m.\u001b[39mreshape(x\u001b[38;5;241m.\u001b[39mshape)\n\u001b[1;32m> 12468\u001b[0m     res_mgr \u001b[38;5;241m=\u001b[39m \u001b[38;5;28;43mself\u001b[39;49m\u001b[38;5;241;43m.\u001b[39;49m\u001b[43m_mgr\u001b[49m\u001b[38;5;241;43m.\u001b[39;49m\u001b[43mapply\u001b[49m\u001b[43m(\u001b[49m\u001b[43misin_\u001b[49m\u001b[43m)\u001b[49m\n\u001b[0;32m  12469\u001b[0m     result \u001b[38;5;241m=\u001b[39m \u001b[38;5;28mself\u001b[39m\u001b[38;5;241m.\u001b[39m_constructor_from_mgr(\n\u001b[0;32m  12470\u001b[0m         res_mgr,\n\u001b[0;32m  12471\u001b[0m         axes\u001b[38;5;241m=\u001b[39mres_mgr\u001b[38;5;241m.\u001b[39maxes,\n\u001b[0;32m  12472\u001b[0m     )\n\u001b[0;32m  12473\u001b[0m \u001b[38;5;28;01mreturn\u001b[39;00m result\u001b[38;5;241m.\u001b[39m__finalize__(\u001b[38;5;28mself\u001b[39m, method\u001b[38;5;241m=\u001b[39m\u001b[38;5;124m\"\u001b[39m\u001b[38;5;124misin\u001b[39m\u001b[38;5;124m\"\u001b[39m)\n",
      "File \u001b[1;32mc:\\Users\\pnii\\AppData\\Local\\Programs\\Python\\Python312\\Lib\\site-packages\\pandas\\core\\internals\\managers.py:361\u001b[0m, in \u001b[0;36mBaseBlockManager.apply\u001b[1;34m(self, f, align_keys, **kwargs)\u001b[0m\n\u001b[0;32m    358\u001b[0m             kwargs[k] \u001b[38;5;241m=\u001b[39m obj[b\u001b[38;5;241m.\u001b[39mmgr_locs\u001b[38;5;241m.\u001b[39mindexer]\n\u001b[0;32m    360\u001b[0m \u001b[38;5;28;01mif\u001b[39;00m \u001b[38;5;28mcallable\u001b[39m(f):\n\u001b[1;32m--> 361\u001b[0m     applied \u001b[38;5;241m=\u001b[39m \u001b[43mb\u001b[49m\u001b[38;5;241;43m.\u001b[39;49m\u001b[43mapply\u001b[49m\u001b[43m(\u001b[49m\u001b[43mf\u001b[49m\u001b[43m,\u001b[49m\u001b[43m \u001b[49m\u001b[38;5;241;43m*\u001b[39;49m\u001b[38;5;241;43m*\u001b[39;49m\u001b[43mkwargs\u001b[49m\u001b[43m)\u001b[49m\n\u001b[0;32m    362\u001b[0m \u001b[38;5;28;01melse\u001b[39;00m:\n\u001b[0;32m    363\u001b[0m     applied \u001b[38;5;241m=\u001b[39m \u001b[38;5;28mgetattr\u001b[39m(b, f)(\u001b[38;5;241m*\u001b[39m\u001b[38;5;241m*\u001b[39mkwargs)\n",
      "File \u001b[1;32mc:\\Users\\pnii\\AppData\\Local\\Programs\\Python\\Python312\\Lib\\site-packages\\pandas\\core\\internals\\blocks.py:393\u001b[0m, in \u001b[0;36mBlock.apply\u001b[1;34m(self, func, **kwargs)\u001b[0m\n\u001b[0;32m    387\u001b[0m \u001b[38;5;129m@final\u001b[39m\n\u001b[0;32m    388\u001b[0m \u001b[38;5;28;01mdef\u001b[39;00m \u001b[38;5;21mapply\u001b[39m(\u001b[38;5;28mself\u001b[39m, func, \u001b[38;5;241m*\u001b[39m\u001b[38;5;241m*\u001b[39mkwargs) \u001b[38;5;241m-\u001b[39m\u001b[38;5;241m>\u001b[39m \u001b[38;5;28mlist\u001b[39m[Block]:\n\u001b[0;32m    389\u001b[0m \u001b[38;5;250m    \u001b[39m\u001b[38;5;124;03m\"\"\"\u001b[39;00m\n\u001b[0;32m    390\u001b[0m \u001b[38;5;124;03m    apply the function to my values; return a block if we are not\u001b[39;00m\n\u001b[0;32m    391\u001b[0m \u001b[38;5;124;03m    one\u001b[39;00m\n\u001b[0;32m    392\u001b[0m \u001b[38;5;124;03m    \"\"\"\u001b[39;00m\n\u001b[1;32m--> 393\u001b[0m     result \u001b[38;5;241m=\u001b[39m \u001b[43mfunc\u001b[49m\u001b[43m(\u001b[49m\u001b[38;5;28;43mself\u001b[39;49m\u001b[38;5;241;43m.\u001b[39;49m\u001b[43mvalues\u001b[49m\u001b[43m,\u001b[49m\u001b[43m \u001b[49m\u001b[38;5;241;43m*\u001b[39;49m\u001b[38;5;241;43m*\u001b[39;49m\u001b[43mkwargs\u001b[49m\u001b[43m)\u001b[49m\n\u001b[0;32m    395\u001b[0m     result \u001b[38;5;241m=\u001b[39m maybe_coerce_values(result)\n\u001b[0;32m    396\u001b[0m     \u001b[38;5;28;01mreturn\u001b[39;00m \u001b[38;5;28mself\u001b[39m\u001b[38;5;241m.\u001b[39m_split_op_result(result)\n",
      "File \u001b[1;32mc:\\Users\\pnii\\AppData\\Local\\Programs\\Python\\Python312\\Lib\\site-packages\\pandas\\core\\frame.py:12462\u001b[0m, in \u001b[0;36mDataFrame.isin.<locals>.isin_\u001b[1;34m(x)\u001b[0m\n\u001b[0;32m  12457\u001b[0m \u001b[38;5;28;01mdef\u001b[39;00m \u001b[38;5;21misin_\u001b[39m(x):\n\u001b[0;32m  12458\u001b[0m     \u001b[38;5;66;03m# error: Argument 2 to \"isin\" has incompatible type \"Union[Series,\u001b[39;00m\n\u001b[0;32m  12459\u001b[0m     \u001b[38;5;66;03m# DataFrame, Sequence[Any], Mapping[Any, Any]]\"; expected\u001b[39;00m\n\u001b[0;32m  12460\u001b[0m     \u001b[38;5;66;03m# \"Union[Union[Union[ExtensionArray, ndarray[Any, Any]], Index,\u001b[39;00m\n\u001b[0;32m  12461\u001b[0m     \u001b[38;5;66;03m# Series], List[Any], range]\"\u001b[39;00m\n\u001b[1;32m> 12462\u001b[0m     result \u001b[38;5;241m=\u001b[39m \u001b[43malgorithms\u001b[49m\u001b[38;5;241;43m.\u001b[39;49m\u001b[43misin\u001b[49m\u001b[43m(\u001b[49m\n\u001b[0;32m  12463\u001b[0m \u001b[43m        \u001b[49m\u001b[43mx\u001b[49m\u001b[38;5;241;43m.\u001b[39;49m\u001b[43mravel\u001b[49m\u001b[43m(\u001b[49m\u001b[43m)\u001b[49m\u001b[43m,\u001b[49m\n\u001b[0;32m  12464\u001b[0m \u001b[43m        \u001b[49m\u001b[43mvalues\u001b[49m\u001b[43m,\u001b[49m\u001b[43m  \u001b[49m\u001b[38;5;66;43;03m# type: ignore[arg-type]\u001b[39;49;00m\n\u001b[0;32m  12465\u001b[0m \u001b[43m    \u001b[49m\u001b[43m)\u001b[49m\n\u001b[0;32m  12466\u001b[0m     \u001b[38;5;28;01mreturn\u001b[39;00m result\u001b[38;5;241m.\u001b[39mreshape(x\u001b[38;5;241m.\u001b[39mshape)\n",
      "File \u001b[1;32mc:\\Users\\pnii\\AppData\\Local\\Programs\\Python\\Python312\\Lib\\site-packages\\pandas\\core\\algorithms.py:542\u001b[0m, in \u001b[0;36misin\u001b[1;34m(comps, values)\u001b[0m\n\u001b[0;32m    540\u001b[0m     common \u001b[38;5;241m=\u001b[39m np_find_common_type(values\u001b[38;5;241m.\u001b[39mdtype, comps_array\u001b[38;5;241m.\u001b[39mdtype)\n\u001b[0;32m    541\u001b[0m     values \u001b[38;5;241m=\u001b[39m values\u001b[38;5;241m.\u001b[39mastype(common, copy\u001b[38;5;241m=\u001b[39m\u001b[38;5;28;01mFalse\u001b[39;00m)\n\u001b[1;32m--> 542\u001b[0m     comps_array \u001b[38;5;241m=\u001b[39m \u001b[43mcomps_array\u001b[49m\u001b[38;5;241;43m.\u001b[39;49m\u001b[43mastype\u001b[49m\u001b[43m(\u001b[49m\u001b[43mcommon\u001b[49m\u001b[43m,\u001b[49m\u001b[43m \u001b[49m\u001b[43mcopy\u001b[49m\u001b[38;5;241;43m=\u001b[39;49m\u001b[38;5;28;43;01mFalse\u001b[39;49;00m\u001b[43m)\u001b[49m\n\u001b[0;32m    543\u001b[0m     f \u001b[38;5;241m=\u001b[39m htable\u001b[38;5;241m.\u001b[39mismember\n\u001b[0;32m    545\u001b[0m \u001b[38;5;28;01mreturn\u001b[39;00m f(comps_array, values)\n",
      "\u001b[1;31mKeyboardInterrupt\u001b[0m: "
     ]
    }
   ],
   "source": [
    "# Calculer les moyennes de note pour chaque acteur et chaque décennie\n",
    "for actor in unique_actors:\n",
    "    if pd.notnull(actor):\n",
    "        actor_mask = df.isin([actor]).any(axis=1)\n",
    "        actor_data = df[actor_mask]\n",
    "        actor_decade_avg = actor_data.groupby('decade')['averageRating'].mean().reset_index()\n",
    "        actor_decade_avg['Actor'] = actor\n",
    "        actor_ratings = pd.concat([actor_ratings, actor_decade_avg])\n"
   ]
  },
  {
   "cell_type": "code",
   "execution_count": null,
   "metadata": {},
   "outputs": [],
   "source": [
    "# Sélectionner les cinq meilleurs acteurs par décennie\n",
    "top_actors_by_decade = actor_ratings.sort_values(by=['Decade', 'AverageRating'], ascending=[True, False]).groupby('Decade').head(5)\n",
    "\n",
    "# Créer un graphique animé avec Plotly Express\n",
    "fig = px.bar(top_actors_by_decade, x=\"Decade\", y=\"AverageRating\", color=\"Actor\", animation_frame=\"Decade\", \n",
    "             title=\"Top 5 des acteurs par décennie en fonction de la note moyenne de leurs films\")\n",
    "fig.update_layout(xaxis=dict(title=\"Décennie\"), yaxis=dict(title=\"Note moyenne\"))\n",
    "fig.show()"
   ]
  }
 ],
 "metadata": {
  "kernelspec": {
   "display_name": "Python 3",
   "language": "python",
   "name": "python3"
  },
  "language_info": {
   "codemirror_mode": {
    "name": "ipython",
    "version": 3
   },
   "file_extension": ".py",
   "mimetype": "text/x-python",
   "name": "python",
   "nbconvert_exporter": "python",
   "pygments_lexer": "ipython3",
   "version": "3.12.2"
  }
 },
 "nbformat": 4,
 "nbformat_minor": 2
}
