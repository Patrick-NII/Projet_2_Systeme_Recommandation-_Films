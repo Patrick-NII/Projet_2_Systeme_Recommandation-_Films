{
 "cells": [
  {
   "cell_type": "code",
   "execution_count": 2,
   "metadata": {},
   "outputs": [],
   "source": [
    "import pandas as pd\n",
    "\n",
    "name_basics = \"C:\\\\Users\\\\559816\\\\Documents\\\\Project2\\\\Projet-Data-IA\\\\Database\\\\cleaned_movies_name_basics.csv\"\n",
    "\n",
    "df = pd.read_csv(name_basics, sep = ',')"
   ]
  },
  {
   "cell_type": "code",
   "execution_count": 3,
   "metadata": {},
   "outputs": [
    {
     "data": {
      "text/html": [
       "<div>\n",
       "<style scoped>\n",
       "    .dataframe tbody tr th:only-of-type {\n",
       "        vertical-align: middle;\n",
       "    }\n",
       "\n",
       "    .dataframe tbody tr th {\n",
       "        vertical-align: top;\n",
       "    }\n",
       "\n",
       "    .dataframe thead th {\n",
       "        text-align: right;\n",
       "    }\n",
       "</style>\n",
       "<table border=\"1\" class=\"dataframe\">\n",
       "  <thead>\n",
       "    <tr style=\"text-align: right;\">\n",
       "      <th></th>\n",
       "      <th>nconst</th>\n",
       "      <th>primaryName</th>\n",
       "      <th>primaryProfession</th>\n",
       "      <th>knownForTitles</th>\n",
       "    </tr>\n",
       "  </thead>\n",
       "  <tbody>\n",
       "    <tr>\n",
       "      <th>0</th>\n",
       "      <td>1</td>\n",
       "      <td>Fred Astaire</td>\n",
       "      <td>['actor', 'miscellaneous', 'producer']</td>\n",
       "      <td>['tt0072308']</td>\n",
       "    </tr>\n",
       "    <tr>\n",
       "      <th>1</th>\n",
       "      <td>1</td>\n",
       "      <td>Fred Astaire</td>\n",
       "      <td>['actor', 'miscellaneous', 'producer']</td>\n",
       "      <td>['tt0050419']</td>\n",
       "    </tr>\n",
       "    <tr>\n",
       "      <th>2</th>\n",
       "      <td>1</td>\n",
       "      <td>Fred Astaire</td>\n",
       "      <td>['actor', 'miscellaneous', 'producer']</td>\n",
       "      <td>['tt0053137']</td>\n",
       "    </tr>\n",
       "    <tr>\n",
       "      <th>3</th>\n",
       "      <td>1</td>\n",
       "      <td>Fred Astaire</td>\n",
       "      <td>['actor', 'miscellaneous', 'producer']</td>\n",
       "      <td>['tt0027125']</td>\n",
       "    </tr>\n",
       "    <tr>\n",
       "      <th>4</th>\n",
       "      <td>2</td>\n",
       "      <td>Lauren Bacall</td>\n",
       "      <td>['actress', 'soundtrack', 'archive_footage']</td>\n",
       "      <td>['tt0037382']</td>\n",
       "    </tr>\n",
       "  </tbody>\n",
       "</table>\n",
       "</div>"
      ],
      "text/plain": [
       "   nconst    primaryName                             primaryProfession  \\\n",
       "0       1   Fred Astaire        ['actor', 'miscellaneous', 'producer']   \n",
       "1       1   Fred Astaire        ['actor', 'miscellaneous', 'producer']   \n",
       "2       1   Fred Astaire        ['actor', 'miscellaneous', 'producer']   \n",
       "3       1   Fred Astaire        ['actor', 'miscellaneous', 'producer']   \n",
       "4       2  Lauren Bacall  ['actress', 'soundtrack', 'archive_footage']   \n",
       "\n",
       "  knownForTitles  \n",
       "0  ['tt0072308']  \n",
       "1  ['tt0050419']  \n",
       "2  ['tt0053137']  \n",
       "3  ['tt0027125']  \n",
       "4  ['tt0037382']  "
      ]
     },
     "execution_count": 3,
     "metadata": {},
     "output_type": "execute_result"
    }
   ],
   "source": [
    "df.head()"
   ]
  },
  {
   "cell_type": "code",
   "execution_count": 3,
   "metadata": {},
   "outputs": [
    {
     "data": {
      "text/html": [
       "<div>\n",
       "<style scoped>\n",
       "    .dataframe tbody tr th:only-of-type {\n",
       "        vertical-align: middle;\n",
       "    }\n",
       "\n",
       "    .dataframe tbody tr th {\n",
       "        vertical-align: top;\n",
       "    }\n",
       "\n",
       "    .dataframe thead th {\n",
       "        text-align: right;\n",
       "    }\n",
       "</style>\n",
       "<table border=\"1\" class=\"dataframe\">\n",
       "  <thead>\n",
       "    <tr style=\"text-align: right;\">\n",
       "      <th></th>\n",
       "      <th>nconst</th>\n",
       "      <th>primaryName</th>\n",
       "      <th>primaryProfession</th>\n",
       "      <th>knownForTitles</th>\n",
       "    </tr>\n",
       "  </thead>\n",
       "  <tbody>\n",
       "    <tr>\n",
       "      <th>0</th>\n",
       "      <td>1</td>\n",
       "      <td>Fred Astaire</td>\n",
       "      <td>['actor', 'miscellaneous', 'producer']</td>\n",
       "      <td>['tt0072308']</td>\n",
       "    </tr>\n",
       "    <tr>\n",
       "      <th>1</th>\n",
       "      <td>1</td>\n",
       "      <td>Fred Astaire</td>\n",
       "      <td>['actor', 'miscellaneous', 'producer']</td>\n",
       "      <td>['tt0050419']</td>\n",
       "    </tr>\n",
       "    <tr>\n",
       "      <th>2</th>\n",
       "      <td>1</td>\n",
       "      <td>Fred Astaire</td>\n",
       "      <td>['actor', 'miscellaneous', 'producer']</td>\n",
       "      <td>['tt0053137']</td>\n",
       "    </tr>\n",
       "    <tr>\n",
       "      <th>3</th>\n",
       "      <td>1</td>\n",
       "      <td>Fred Astaire</td>\n",
       "      <td>['actor', 'miscellaneous', 'producer']</td>\n",
       "      <td>['tt0027125']</td>\n",
       "    </tr>\n",
       "    <tr>\n",
       "      <th>4</th>\n",
       "      <td>2</td>\n",
       "      <td>Lauren Bacall</td>\n",
       "      <td>['actress', 'soundtrack', 'archive_footage']</td>\n",
       "      <td>['tt0037382']</td>\n",
       "    </tr>\n",
       "  </tbody>\n",
       "</table>\n",
       "</div>"
      ],
      "text/plain": [
       "   nconst    primaryName                             primaryProfession  \\\n",
       "0       1   Fred Astaire        ['actor', 'miscellaneous', 'producer']   \n",
       "1       1   Fred Astaire        ['actor', 'miscellaneous', 'producer']   \n",
       "2       1   Fred Astaire        ['actor', 'miscellaneous', 'producer']   \n",
       "3       1   Fred Astaire        ['actor', 'miscellaneous', 'producer']   \n",
       "4       2  Lauren Bacall  ['actress', 'soundtrack', 'archive_footage']   \n",
       "\n",
       "  knownForTitles  \n",
       "0  ['tt0072308']  \n",
       "1  ['tt0050419']  \n",
       "2  ['tt0053137']  \n",
       "3  ['tt0027125']  \n",
       "4  ['tt0037382']  "
      ]
     },
     "execution_count": 3,
     "metadata": {},
     "output_type": "execute_result"
    }
   ],
   "source": [
    "import numpy as np\n",
    "\n",
    "df.replace(r'\\N', np.nan, inplace=True)\n",
    "\n",
    "df.head()"
   ]
  },
  {
   "cell_type": "code",
   "execution_count": 4,
   "metadata": {},
   "outputs": [
    {
     "name": "stdout",
     "output_type": "stream",
     "text": [
      "<class 'pandas.core.frame.DataFrame'>\n",
      "RangeIndex: 8909533 entries, 0 to 8909532\n",
      "Data columns (total 4 columns):\n",
      " #   Column             Dtype \n",
      "---  ------             ----- \n",
      " 0   nconst             int64 \n",
      " 1   primaryName        object\n",
      " 2   primaryProfession  object\n",
      " 3   knownForTitles     object\n",
      "dtypes: int64(1), object(3)\n",
      "memory usage: 271.9+ MB\n"
     ]
    }
   ],
   "source": [
    "df.info()"
   ]
  }
 ],
 "metadata": {
  "kernelspec": {
   "display_name": "base",
   "language": "python",
   "name": "python3"
  },
  "language_info": {
   "codemirror_mode": {
    "name": "ipython",
    "version": 3
   },
   "file_extension": ".py",
   "mimetype": "text/x-python",
   "name": "python",
   "nbconvert_exporter": "python",
   "pygments_lexer": "ipython3",
   "version": "3.11.5"
  }
 },
 "nbformat": 4,
 "nbformat_minor": 2
}
