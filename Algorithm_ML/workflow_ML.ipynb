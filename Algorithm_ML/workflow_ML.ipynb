{
 "cells": [
  {
   "cell_type": "markdown",
   "metadata": {},
   "source": [
    "Filtrage basé sur le contenu :\n",
    "\n",
    "Utilise les caractéristiques des articles (ou des utilisateurs) pour trouver des recommandations similaires.\n",
    "* Avantages : Peut fournir des recommandations explicites et peut surmonter les problèmes de démarrage à froid.\n",
    "* Inconvénients : Peut manquer de sérendipité et de diversité dans les recommandations."
   ]
  },
  {
   "cell_type": "markdown",
   "metadata": {},
   "source": [
    "Chargement des données"
   ]
  },
  {
   "cell_type": "markdown",
   "metadata": {},
   "source": [
    "1. Téléchargement des ressources nécessaires pour NLTK : \n",
    "* Les ressources requises pour la tokenisation, la lemmatisation et les mots vides (stopwords) sont téléchargées à partir de NLTK.\n",
    "\n",
    "2. Initialisation du stemmer et du lemmatizer : \n",
    "* Le stemmer (racinisateur) et le lemmatizer sont initialisés pour réduire les mots à leur base et obtenir les formes de mots canoniques respectivement.\n",
    "\n",
    "3. Fonction pour appliquer le stemming et la lemmatisation à un texte : \n",
    "* Une fonction preprocess_text est définie pour effectuer le prétraitement textuel, y compris la tokenisation, la suppression des mots vides, le stemming et la lemmatisation.\n",
    "\n",
    "4. Application de la fonction de prétraitement à la colonne \"overview\" : \n",
    "* La fonction preprocess_text est appliquée à la colonne \"overview\" du DataFrame pour prétraiter le texte des aperçus des films et stocker les résultats dans une nouvelle colonne appelée \"processed_overview\"."
   ]
  },
  {
   "cell_type": "markdown",
   "metadata": {},
   "source": [
    "1. Importation des bibliothèques : \n",
    "* Les bibliothèques nécessaires sont importées pour les différentes opérations de prétraitement des données et de recommandation de films.\n",
    "\n",
    "2. Définition des colonnes catégorielles et numériques : \n",
    "* Les colonnes pertinentes du DataFrame sont spécifiées pour l'analyse et le traitement ultérieurs.\n",
    "\n",
    "3. Création d'une classe de transformation personnalisée pour extraire les sentiments : \n",
    "* Une classe SentimentExtractor est créée pour extraire les sentiments des aperçus de films en utilisant l'analyseur de sentiment NLTK.\n",
    "\n",
    "4. Création d'un pipeline de transformation pour les caractéristiques : \n",
    "* Un pipeline est créé pour combiner la vectorisation TF-IDF des aperçus et l'extraction des sentiments.\n",
    "\n",
    "5. Application du TfidfVectorizer sur la colonne \"processed_overview\" : \n",
    "* Le TfidfVectorizer est appliqué pour convertir les aperçus en vecteurs TF-IDF.\n",
    "\n",
    "6. Application du SentimentExtractor sur la colonne \"processed_overview\" : \n",
    "* L'extracteur de sentiments est appliqué pour obtenir les scores de sentiment des aperçus.\n",
    "\n",
    "7. Concaténation des résultats : \n",
    "* Les vecteurs TF-IDF et les scores de sentiment sont concaténés pour obtenir les caractéristiques textuelles combinées.\n",
    "\n",
    "8. Standardisation des colonnes numériques : \n",
    "* Les caractéristiques numériques sont standardisées pour les mettre à la même échelle.\n",
    "\n",
    "9. Spécification des poids pour chaque colonne numérique : \n",
    "* Des poids sont spécifiés pour chaque colonne numérique en fonction de leur importance relative.\n",
    "\n",
    "10. Application de la pondération aux caractéristiques numériques : \n",
    "* Les poids spécifiés sont appliqués aux caractéristiques numériques.\n",
    "\n",
    "11. Création d'un vecteur de poids pour les caractéristiques catégorielles : \n",
    "* Des poids sont spécifiés pour chaque colonne catégorielle en fonction de leur importance relative.\n",
    "\n",
    "12. Création d'un encodeur one-hot et application de la pondération : \n",
    "* Les données catégorielles sont encodées en utilisant un encodeur one-hot et les poids spécifiés sont appliqués.\n",
    "\n",
    "13. Concaténation des caractéristiques encodées et standardisées : \n",
    "* Les caractéristiques textuelles, numériques et catégorielles sont concaténées pour former une seule matrice de caractéristiques.\n",
    "\n",
    "14. Calcul de la similarité cosinus entre les films : \n",
    "* La similarité cosinus est calculée entre les films à l'aide de la matrice de caractéristiques combinée.\n",
    "\n",
    "15. Fonction de recommandation de films similaires : \n",
    "* Une fonction est définie pour recommander des films similaires à un film donné en utilisant la similarité cosinus.\n",
    "\n",
    "16. Exemple d'utilisation : \n",
    "* Un exemple est donné pour obtenir des recommandations pour un film spécifique (\"Le Parrain\") et les résultats sont affichés.\n"
   ]
  }
 ],
 "metadata": {
  "kernelspec": {
   "display_name": "Python 3",
   "language": "python",
   "name": "python3"
  },
  "language_info": {
   "codemirror_mode": {
    "name": "ipython",
    "version": 3
   },
   "file_extension": ".py",
   "mimetype": "text/x-python",
   "name": "python",
   "nbconvert_exporter": "python",
   "pygments_lexer": "ipython3",
   "version": "3.12.2"
  }
 },
 "nbformat": 4,
 "nbformat_minor": 2
}
